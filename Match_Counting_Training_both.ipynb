{
  "nbformat": 4,
  "nbformat_minor": 0,
  "metadata": {
    "colab": {
      "provenance": [],
      "authorship_tag": "ABX9TyMjQ/tpaSWqiwWVA0tVd8jZ",
      "include_colab_link": true
    },
    "kernelspec": {
      "name": "python3",
      "display_name": "Python 3"
    },
    "language_info": {
      "name": "python"
    }
  },
  "cells": [
    {
      "cell_type": "markdown",
      "metadata": {
        "id": "view-in-github",
        "colab_type": "text"
      },
      "source": [
        "<a href=\"https://colab.research.google.com/github/brayanb1701/Match_Counting/blob/main/Match_Counting_Training_both.ipynb\" target=\"_parent\"><img src=\"https://colab.research.google.com/assets/colab-badge.svg\" alt=\"Open In Colab\"/></a>"
      ]
    },
    {
      "cell_type": "markdown",
      "source": [
        "## Load Libraries"
      ],
      "metadata": {
        "id": "Gxb8cL-vt_Pm"
      }
    },
    {
      "cell_type": "code",
      "execution_count": 1,
      "metadata": {
        "id": "u4X1Sz51i0OU"
      },
      "outputs": [],
      "source": [
        "#### Dependencies ####\n",
        "####\n",
        "import IPython.display as ipd\n",
        "import numpy as np\n",
        "import pandas as pd\n",
        "import librosa\n",
        "import matplotlib.pyplot as plt\n",
        "#from manim import *\n",
        "from scipy.io import wavfile as wav\n",
        "from sklearn import metrics \n",
        "from sklearn.preprocessing import LabelEncoder\n",
        "from sklearn.model_selection import train_test_split\n",
        "from sklearn.metrics import mean_squared_error, mean_absolute_error, mean_absolute_percentage_error\n",
        "from keras.models import Sequential\n",
        "from keras.layers import Dense, Dropout, Activation\n",
        "from keras.optimizers import Adam\n",
        "from keras.utils import to_categorical\n",
        "import tensorflow as tf\n",
        "import os\n",
        "import warnings"
      ]
    },
    {
      "cell_type": "markdown",
      "source": [
        "## Obtain Git repo"
      ],
      "metadata": {
        "id": "vfl52QVSuBr1"
      }
    },
    {
      "cell_type": "code",
      "source": [
        "!git clone https://github.com/brayanb1701/Match_Counting.git\n",
        "os.chdir('Match_Counting')"
      ],
      "metadata": {
        "colab": {
          "base_uri": "https://localhost:8080/"
        },
        "id": "zuG1OVdMKrDR",
        "outputId": "615bc5e7-2580-4922-883a-909ca8355818"
      },
      "execution_count": 2,
      "outputs": [
        {
          "output_type": "stream",
          "name": "stdout",
          "text": [
            "Cloning into 'Match_Counting'...\n",
            "remote: Enumerating objects: 2410, done.\u001b[K\n",
            "remote: Counting objects: 100% (1099/1099), done.\u001b[K\n",
            "remote: Compressing objects: 100% (1095/1095), done.\u001b[K\n",
            "remote: Total 2410 (delta 5), reused 1097 (delta 3), pack-reused 1311\u001b[K\n",
            "Receiving objects: 100% (2410/2410), 309.73 MiB | 36.18 MiB/s, done.\n",
            "Resolving deltas: 100% (6/6), done.\n",
            "Checking out files: 100% (2501/2501), done.\n"
          ]
        }
      ]
    },
    {
      "cell_type": "markdown",
      "source": [
        "## Loading audios with librosa"
      ],
      "metadata": {
        "id": "E8OjWZEeuGi1"
      }
    },
    {
      "cell_type": "code",
      "source": [
        "def load_audios(BASE_FOLDER,sr):\n",
        "  files = os.listdir(BASE_FOLDER)\n",
        "  raw_audio = []\n",
        "  labels = []\n",
        "  for f in files:\n",
        "    with warnings.catch_warnings():\n",
        "      warnings.simplefilter(\"ignore\")\n",
        "      audio, _ = librosa.load(os.path.join(BASE_FOLDER, f),sr=sr, offset=0.2, duration=5)\n",
        "      #audio, _ = librosa.load(os.path.join(BASE_FOLDER, f),sr=sr)\n",
        "    raw_audio.append(audio)\n",
        "    name = f.split(\".\")[0]\n",
        "    labels.append(int(name.split(\"-\")[1]))\n",
        "  return raw_audio,labels"
      ],
      "metadata": {
        "id": "LWdqj-kaoAyg"
      },
      "execution_count": 3,
      "outputs": []
    },
    {
      "cell_type": "code",
      "source": [
        "BASE_FOLDER1=\"temporal/\"\n",
        "BASE_FOLDER2=\"caja_refuegos/\"\n",
        "sr = 44100\n",
        "raw_audio,labels = load_audios(BASE_FOLDER1,sr)\n",
        "raw_audio2,labels2 = load_audios(BASE_FOLDER2,sr)\n",
        "raw_audio = raw_audio + raw_audio2\n",
        "labels = labels + labels2"
      ],
      "metadata": {
        "id": "3z4aPByLrCbs"
      },
      "execution_count": 5,
      "outputs": []
    },
    {
      "cell_type": "markdown",
      "source": [
        "## Initial visualization of audios"
      ],
      "metadata": {
        "id": "6H_3cdrNuM0V"
      }
    },
    {
      "cell_type": "code",
      "source": [
        "def plot_magnitude_spectrum(signal, sr, title, f_ratio=1):\n",
        "    X = np.fft.fft(signal)\n",
        "    X_mag = np.absolute(X)\n",
        "    \n",
        "    plt.figure(figsize=(18, 5))\n",
        "    \n",
        "    f = np.linspace(0, sr, len(X_mag))\n",
        "    f_bins = int(len(X_mag)*f_ratio)  \n",
        "    print(len(X_mag))\n",
        "    print(f_bins)\n",
        "    plt.plot(f[:f_bins], X_mag[:f_bins])\n",
        "    plt.xlabel('Frequency (Hz)')\n",
        "    plt.title(title)"
      ],
      "metadata": {
        "id": "zFjtWsnGjThn"
      },
      "execution_count": 6,
      "outputs": []
    },
    {
      "cell_type": "code",
      "source": [
        "BASE_FOLDER = BASE_FOLDER1"
      ],
      "metadata": {
        "id": "QOUUOJSysYPM"
      },
      "execution_count": 7,
      "outputs": []
    },
    {
      "cell_type": "code",
      "source": [
        "ipd.Audio(os.path.join(BASE_FOLDER, os.listdir(BASE_FOLDER)[0])) "
      ],
      "metadata": {
        "colab": {
          "base_uri": "https://localhost:8080/",
          "height": 75
        },
        "id": "jCGRKmT3116O",
        "outputId": "850ebf87-0d59-44f0-de9c-e48df7838cec"
      },
      "execution_count": 8,
      "outputs": [
        {
          "output_type": "execute_result",
          "data": {
            "text/plain": [
              "<IPython.lib.display.Audio object>"
            ],
            "text/html": [
              "\n",
              "                <audio  controls=\"controls\" >\n",
              "                    <source src=\"data:audio/mpeg;base64,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\" type=\"audio/mpeg\" />\n",
              "                    Your browser does not support the audio element.\n",
              "                </audio>\n",
              "              "
            ]
          },
          "metadata": {},
          "execution_count": 8
        }
      ]
    },
    {
      "cell_type": "code",
      "source": [
        "plt.figure(num=1,figsize=(18, 5))\n",
        "plt.plot(raw_audio[0])\n",
        "plt.xlabel('Time')\n",
        "plt.title(\"Signal\")\n",
        "\n",
        "plt.figure(num=2,figsize=(18, 5))\n",
        "plot_magnitude_spectrum(raw_audio[0], sr, \"Audio ejemplo\", 1/3)\n",
        "plt.xlabel('Frequency')\n",
        "plt.title(\"Signal\")"
      ],
      "metadata": {
        "colab": {
          "base_uri": "https://localhost:8080/",
          "height": 685
        },
        "id": "sR9o2qbU1fat",
        "outputId": "39038c3e-f0e1-49f7-d1ae-522307c3d820"
      },
      "execution_count": 9,
      "outputs": [
        {
          "output_type": "stream",
          "name": "stdout",
          "text": [
            "220500\n",
            "73500\n"
          ]
        },
        {
          "output_type": "execute_result",
          "data": {
            "text/plain": [
              "Text(0.5, 1.0, 'Signal')"
            ]
          },
          "metadata": {},
          "execution_count": 9
        },
        {
          "output_type": "display_data",
          "data": {
            "text/plain": [
              "<Figure size 1296x360 with 1 Axes>"
            ],
            "image/png": "[encoded data removed]"
          },
          "metadata": {
            "needs_background": "light"
          }
        },
        {
          "output_type": "display_data",
          "data": {
            "text/plain": [
              "<Figure size 1296x360 with 0 Axes>"
            ]
          },
          "metadata": {}
        },
        {
          "output_type": "display_data",
          "data": {
            "text/plain": [
              "<Figure size 1296x360 with 1 Axes>"
            ],
            "image/png": "[encoded data removed]"
          },
          "metadata": {
            "needs_background": "light"
          }
        }
      ]
    },
    {
      "cell_type": "markdown",
      "source": [
        "## Obtain FFT and MFCC for an array of audios"
      ],
      "metadata": {
        "id": "ZHa6-0Mhu6nu"
      }
    },
    {
      "cell_type": "code",
      "source": [
        "def obtain_fft_mfcc(raw_audio):\n",
        "  mfccs_processed = []\n",
        "  ffts_mag = []\n",
        "  len_fft = 85000\n",
        "  for i in raw_audio:\n",
        "    X = np.fft.fft(i)\n",
        "    ffts_mag.append(np.absolute(X[:len_fft]))\n",
        "    mfccs = librosa.feature.mfcc(y=i, sr=sr, n_mfcc=40)\n",
        "    mfccs_processed.append(np.mean(mfccs.T,axis=0))\n",
        "  return ffts_mag,mfccs_processed"
      ],
      "metadata": {
        "id": "T3a4SOhN8K7m"
      },
      "execution_count": 10,
      "outputs": []
    },
    {
      "cell_type": "code",
      "source": [
        "ffts_mag,mfccs_processed = obtain_fft_mfcc(raw_audio)"
      ],
      "metadata": {
        "id": "UD_JgNjuuxW0"
      },
      "execution_count": 11,
      "outputs": []
    },
    {
      "cell_type": "markdown",
      "source": [
        "## Create a Dataframe with all the data"
      ],
      "metadata": {
        "id": "Y0SB05DrvESd"
      }
    },
    {
      "cell_type": "code",
      "source": [
        "df = pd.DataFrame(list(zip(raw_audio, ffts_mag, mfccs_processed, labels)),\n",
        "               columns =['Raw_Audio', 'FFT', \"MFCC\", \"Number_Matches\"])"
      ],
      "metadata": {
        "id": "daxR5CYwt1o2"
      },
      "execution_count": 12,
      "outputs": []
    },
    {
      "cell_type": "code",
      "source": [
        "df.head()"
      ],
      "metadata": {
        "id": "AT_LDcjMuxIH",
        "colab": {
          "base_uri": "https://localhost:8080/",
          "height": 337
        },
        "outputId": "389122d5-dc84-4817-ba80-2b35886dcd6d"
      },
      "execution_count": 13,
      "outputs": [
        {
          "output_type": "execute_result",
          "data": {
            "text/plain": [
              "                                           Raw_Audio  \\\n",
              "0  [0.0, 0.0, 0.0, 0.0, 0.0, 0.0, 0.0, 0.0, 0.0, ...   \n",
              "1  [0.0, 0.0, 0.0, 0.0, 0.0, 0.0, 0.0, 0.0, 0.0, ...   \n",
              "2  [-0.00035095215, -0.00035095215, -0.0003356933...   \n",
              "3  [-0.00050354004, -0.00050354004, -0.0005035400...   \n",
              "4  [0.0, 0.0, 0.0, 0.0, 0.0, 0.0, 0.0, 0.0, 0.0, ...   \n",
              "\n",
              "                                                 FFT  \\\n",
              "0  [5.21649169921875, 1.1328755079211197, 0.53656...   \n",
              "1  [9.129547119140625, 0.9995431682851608, 0.6900...   \n",
              "2  [8.7574462890625, 1.9005340253806462, 0.192542...   \n",
              "3  [8.84344482421875, 0.7967449673309753, 0.82538...   \n",
              "4  [61.124786376953125, 3.055092729542953, 3.7140...   \n",
              "\n",
              "                                                MFCC  Number_Matches  \n",
              "0  [-213.58472, 71.93911, -118.93639, 27.797983, ...             120  \n",
              "1  [-266.5775, 106.36762, -99.5862, 10.5401125, -...              19  \n",
              "2  [-316.40668, 90.776726, -99.54086, 14.374751, ...             120  \n",
              "3  [-282.30756, 106.19009, -101.9004, 13.506569, ...               7  \n",
              "4  [-198.66452, 64.30795, -105.68582, 51.461628, ...              18  "
            ],
            "text/html": [
              "\n",
              "  <div id=\"df-f91e436a-52f4-4de1-8e34-ef653c278df1\">\n",
              "    <div class=\"colab-df-container\">\n",
              "      <div>\n",
              "<style scoped>\n",
              "    .dataframe tbody tr th:only-of-type {\n",
              "        vertical-align: middle;\n",
              "    }\n",
              "\n",
              "    .dataframe tbody tr th {\n",
              "        vertical-align: top;\n",
              "    }\n",
              "\n",
              "    .dataframe thead th {\n",
              "        text-align: right;\n",
              "    }\n",
              "</style>\n",
              "<table border=\"1\" class=\"dataframe\">\n",
              "  <thead>\n",
              "    <tr style=\"text-align: right;\">\n",
              "      <th></th>\n",
              "      <th>Raw_Audio</th>\n",
              "      <th>FFT</th>\n",
              "      <th>MFCC</th>\n",
              "      <th>Number_Matches</th>\n",
              "    </tr>\n",
              "  </thead>\n",
              "  <tbody>\n",
              "    <tr>\n",
              "      <th>0</th>\n",
              "      <td>[0.0, 0.0, 0.0, 0.0, 0.0, 0.0, 0.0, 0.0, 0.0, ...</td>\n",
              "      <td>[5.21649169921875, 1.1328755079211197, 0.53656...</td>\n",
              "      <td>[-213.58472, 71.93911, -118.93639, 27.797983, ...</td>\n",
              "      <td>120</td>\n",
              "    </tr>\n",
              "    <tr>\n",
              "      <th>1</th>\n",
              "      <td>[0.0, 0.0, 0.0, 0.0, 0.0, 0.0, 0.0, 0.0, 0.0, ...</td>\n",
              "      <td>[9.129547119140625, 0.9995431682851608, 0.6900...</td>\n",
              "      <td>[-266.5775, 106.36762, -99.5862, 10.5401125, -...</td>\n",
              "      <td>19</td>\n",
              "    </tr>\n",
              "    <tr>\n",
              "      <th>2</th>\n",
              "      <td>[-0.00035095215, -0.00035095215, -0.0003356933...</td>\n",
              "      <td>[8.7574462890625, 1.9005340253806462, 0.192542...</td>\n",
              "      <td>[-316.40668, 90.776726, -99.54086, 14.374751, ...</td>\n",
              "      <td>120</td>\n",
              "    </tr>\n",
              "    <tr>\n",
              "      <th>3</th>\n",
              "      <td>[-0.00050354004, -0.00050354004, -0.0005035400...</td>\n",
              "      <td>[8.84344482421875, 0.7967449673309753, 0.82538...</td>\n",
              "      <td>[-282.30756, 106.19009, -101.9004, 13.506569, ...</td>\n",
              "      <td>7</td>\n",
              "    </tr>\n",
              "    <tr>\n",
              "      <th>4</th>\n",
              "      <td>[0.0, 0.0, 0.0, 0.0, 0.0, 0.0, 0.0, 0.0, 0.0, ...</td>\n",
              "      <td>[61.124786376953125, 3.055092729542953, 3.7140...</td>\n",
              "      <td>[-198.66452, 64.30795, -105.68582, 51.461628, ...</td>\n",
              "      <td>18</td>\n",
              "    </tr>\n",
              "  </tbody>\n",
              "</table>\n",
              "</div>\n",
              "      <button class=\"colab-df-convert\" onclick=\"convertToInteractive('df-f91e436a-52f4-4de1-8e34-ef653c278df1')\"\n",
              "              title=\"Convert this dataframe to an interactive table.\"\n",
              "              style=\"display:none;\">\n",
              "        \n",
              "  <svg xmlns=\"http://www.w3.org/2000/svg\" height=\"24px\"viewBox=\"0 0 24 24\"\n",
              "       width=\"24px\">\n",
              "    <path d=\"M0 0h24v24H0V0z\" fill=\"none\"/>\n",
              "    <path d=\"M18.56 5.44l.94 2.06.94-2.06 2.06-.94-2.06-.94-.94-2.06-.94 2.06-2.06.94zm-11 1L8.5 8.5l.94-2.06 2.06-.94-2.06-.94L8.5 2.5l-.94 2.06-2.06.94zm10 10l.94 2.06.94-2.06 2.06-.94-2.06-.94-.94-2.06-.94 2.06-2.06.94z\"/><path d=\"M17.41 7.96l-1.37-1.37c-.4-.4-.92-.59-1.43-.59-.52 0-1.04.2-1.43.59L10.3 9.45l-7.72 7.72c-.78.78-.78 2.05 0 2.83L4 21.41c.39.39.9.59 1.41.59.51 0 1.02-.2 1.41-.59l7.78-7.78 2.81-2.81c.8-.78.8-2.07 0-2.86zM5.41 20L4 18.59l7.72-7.72 1.47 1.35L5.41 20z\"/>\n",
              "  </svg>\n",
              "      </button>\n",
              "      \n",
              "  <style>\n",
              "    .colab-df-container {\n",
              "      display:flex;\n",
              "      flex-wrap:wrap;\n",
              "      gap: 12px;\n",
              "    }\n",
              "\n",
              "    .colab-df-convert {\n",
              "      background-color: #E8F0FE;\n",
              "      border: none;\n",
              "      border-radius: 50%;\n",
              "      cursor: pointer;\n",
              "      display: none;\n",
              "      fill: #1967D2;\n",
              "      height: 32px;\n",
              "      padding: 0 0 0 0;\n",
              "      width: 32px;\n",
              "    }\n",
              "\n",
              "    .colab-df-convert:hover {\n",
              "      background-color: #E2EBFA;\n",
              "      box-shadow: 0px 1px 2px rgba(60, 64, 67, 0.3), 0px 1px 3px 1px rgba(60, 64, 67, 0.15);\n",
              "      fill: #174EA6;\n",
              "    }\n",
              "\n",
              "    [theme=dark] .colab-df-convert {\n",
              "      background-color: #3B4455;\n",
              "      fill: #D2E3FC;\n",
              "    }\n",
              "\n",
              "    [theme=dark] .colab-df-convert:hover {\n",
              "      background-color: #434B5C;\n",
              "      box-shadow: 0px 1px 3px 1px rgba(0, 0, 0, 0.15);\n",
              "      filter: drop-shadow(0px 1px 2px rgba(0, 0, 0, 0.3));\n",
              "      fill: #FFFFFF;\n",
              "    }\n",
              "  </style>\n",
              "\n",
              "      <script>\n",
              "        const buttonEl =\n",
              "          document.querySelector('#df-f91e436a-52f4-4de1-8e34-ef653c278df1 button.colab-df-convert');\n",
              "        buttonEl.style.display =\n",
              "          google.colab.kernel.accessAllowed ? 'block' : 'none';\n",
              "\n",
              "        async function convertToInteractive(key) {\n",
              "          const element = document.querySelector('#df-f91e436a-52f4-4de1-8e34-ef653c278df1');\n",
              "          const dataTable =\n",
              "            await google.colab.kernel.invokeFunction('convertToInteractive',\n",
              "                                                     [key], {});\n",
              "          if (!dataTable) return;\n",
              "\n",
              "          const docLinkHtml = 'Like what you see? Visit the ' +\n",
              "            '<a target=\"_blank\" href=https://colab.research.google.com/notebooks/data_table.ipynb>data table notebook</a>'\n",
              "            + ' to learn more about interactive tables.';\n",
              "          element.innerHTML = '';\n",
              "          dataTable['output_type'] = 'display_data';\n",
              "          await google.colab.output.renderOutput(dataTable, element);\n",
              "          const docLink = document.createElement('div');\n",
              "          docLink.innerHTML = docLinkHtml;\n",
              "          element.appendChild(docLink);\n",
              "        }\n",
              "      </script>\n",
              "    </div>\n",
              "  </div>\n",
              "  "
            ]
          },
          "metadata": {},
          "execution_count": 13
        }
      ]
    },
    {
      "cell_type": "code",
      "source": [
        "df.info()"
      ],
      "metadata": {
        "colab": {
          "base_uri": "https://localhost:8080/"
        },
        "id": "TLi1V54R8lWm",
        "outputId": "04c20d45-ca48-44cf-9103-7871ddbcd9e1"
      },
      "execution_count": 14,
      "outputs": [
        {
          "output_type": "stream",
          "name": "stdout",
          "text": [
            "<class 'pandas.core.frame.DataFrame'>\n",
            "RangeIndex: 2050 entries, 0 to 2049\n",
            "Data columns (total 4 columns):\n",
            " #   Column          Non-Null Count  Dtype \n",
            "---  ------          --------------  ----- \n",
            " 0   Raw_Audio       2050 non-null   object\n",
            " 1   FFT             2050 non-null   object\n",
            " 2   MFCC            2050 non-null   object\n",
            " 3   Number_Matches  2050 non-null   int64 \n",
            "dtypes: int64(1), object(3)\n",
            "memory usage: 64.2+ KB\n"
          ]
        }
      ]
    },
    {
      "cell_type": "markdown",
      "source": [
        "## Define the inputs and labels"
      ],
      "metadata": {
        "id": "53Bo2I3WvLwN"
      }
    },
    {
      "cell_type": "code",
      "source": [
        "X = np.array(df.MFCC.tolist())\n",
        "y = np.array(df.Number_Matches.tolist())"
      ],
      "metadata": {
        "id": "lwjYbNTw8rXm"
      },
      "execution_count": 15,
      "outputs": []
    },
    {
      "cell_type": "code",
      "source": [
        "np.shape(X)"
      ],
      "metadata": {
        "colab": {
          "base_uri": "https://localhost:8080/"
        },
        "id": "zpuQ-KhfBZfY",
        "outputId": "fcc88b78-33da-4dad-cba8-b19fa9c2560a"
      },
      "execution_count": 16,
      "outputs": [
        {
          "output_type": "execute_result",
          "data": {
            "text/plain": [
              "(2050, 40)"
            ]
          },
          "metadata": {},
          "execution_count": 16
        }
      ]
    },
    {
      "cell_type": "code",
      "source": [
        "seed = np.random.seed(20) #Make reproducible"
      ],
      "metadata": {
        "id": "Ci6MI8Ltwhwk"
      },
      "execution_count": 17,
      "outputs": []
    },
    {
      "cell_type": "markdown",
      "source": [
        "## Split the data for training and testing"
      ],
      "metadata": {
        "id": "H-QNETc7vXpl"
      }
    },
    {
      "cell_type": "code",
      "source": [
        "#@title\n",
        "x_train, x_test, y_train, y_test = train_test_split(X, y, test_size=0.2, random_state=20, stratify=y)"
      ],
      "metadata": {
        "id": "3_wjuEL4_SpP"
      },
      "execution_count": 18,
      "outputs": []
    },
    {
      "cell_type": "code",
      "source": [
        "#@title\n",
        "y_test"
      ],
      "metadata": {
        "colab": {
          "base_uri": "https://localhost:8080/"
        },
        "cellView": "form",
        "id": "It-j3lyAtVGV",
        "outputId": "92d5aaf7-879e-4bcf-e65b-4708bd8a1938"
      },
      "execution_count": 19,
      "outputs": [
        {
          "output_type": "execute_result",
          "data": {
            "text/plain": [
              "array([  8,  35,   3,   4, 120, 100, 120,   8,  80,  60,   5, 100,  18,\n",
              "        13,  19,  14,  65,  13,  45,   6,  70,  26,   2,  30,  70,  50,\n",
              "       130,  18,  17,  30,  26,  15,   7,   6,  35,  65,  10,   6,  14,\n",
              "        30,  50,  14,  40,   9,  55,  22,  14, 150,  26,  17,  14,  90,\n",
              "        19,   5,   4,  26,  55,  16,  80, 120,  70, 120,   7, 110, 150,\n",
              "       130, 140,   6,  45,  70,   9,  10,  65,  15,  50,  60,  24,   2,\n",
              "        16,  11,   7,  40, 140,  15,  90,   9,   4,  24, 110,  28,  20,\n",
              "        80,  18,  26,  19,   8,   1,  30,  22,  14,   7,   1,  17,  24,\n",
              "        19,  40,  80,  11,  28,  11,  18,  11,  16, 130,  18,  19,  16,\n",
              "        26,   5,   2, 150, 110,  15,  90,  80,  65,   3,   3,  20,  16,\n",
              "       100,  70,   1,  90,  40,  11,  22, 130,  26,   5,  55,   7,  28,\n",
              "        16, 140,  35,  12,  22,  24,  90,  12, 100,  60,  50,   5,  24,\n",
              "       140,  70,  20,   7,  16,   8,   1,  45,   4,  60,  19, 130,  28,\n",
              "        90,  10,  17,   3,   6, 100,  10,  26,  45,  10,  10,  60,   2,\n",
              "         4,  20,  28,  35,  40, 120,   8,  30,  17, 110,   5,  45,  80,\n",
              "         2, 150,   5,   6,  14,  17,  18,   9,  65,  17,  35,   5,  50,\n",
              "        22,  18,  12,   8,  65,   9, 130,   3,  14,  80,  45,  13,  28,\n",
              "        22, 110,  13,  40,  50,  15,   2,  15,   5,   3,  20,  13,  11,\n",
              "        60,   4,  30,  45,   3,  45, 140,  30,   9,  18,  50,  10, 140,\n",
              "        45,   9,   1,  60,  19, 150,  90, 140,  15,  22,   4,  70,  50,\n",
              "        55,  11,  65,   1,  17,  11,  12,  20,  19,  60,  35,  70,   2,\n",
              "         3,   2,  70,   3,  65,  35,  90,  28,   7,  14,   7,  35,  18,\n",
              "       100,  13, 110,   1,  14,  28,  20,  55,  13, 100,  65, 140, 130,\n",
              "        18,  15,  13,   2, 150,  17,  90,  55, 140,  24,  80,  26,  55,\n",
              "        55,  12,   1, 110,  11,   8,  55,  24,  20,  22,  22,  28,  80,\n",
              "        15, 150,  24,  17,  40,  10,  45, 110,  24,  19, 130,   9,  16,\n",
              "         9,  12,   6, 120, 100,  80,  16, 110,  30, 110,  13, 140,   6,\n",
              "        40, 120,  16,  15,  70,  35,   9,  30,   8,  19,  65,   2,  22,\n",
              "        40,  40,  11,   5,  12,  20,   7,   6,   4, 120, 120, 120,  28,\n",
              "        55,  50,  10,  35,   3,  60,   6,  13,  60,  12,   1, 150,   8,\n",
              "        12,  26,  12,  50, 100, 100, 130, 150,  20, 130,   4, 150,   1,\n",
              "        24,   7,   8,  30,  90,  10,   4])"
            ]
          },
          "metadata": {},
          "execution_count": 19
        }
      ]
    },
    {
      "cell_type": "markdown",
      "source": [
        "## DNN model "
      ],
      "metadata": {
        "id": "r6YVlHeyvfF9"
      }
    },
    {
      "cell_type": "code",
      "source": [
        "def build_model_MFCC():\n",
        "  model = tf.keras.Sequential([\n",
        "                             tf.keras.layers.Dense(40, activation='relu', input_shape=[x_train.shape[1]]),\n",
        "                             tf.keras.layers.Dense(20, activation='relu'),\n",
        "                             tf.keras.layers.Dropout((0.2)),\n",
        "                             tf.keras.layers.Dense(10, activation='relu'),\n",
        "                             tf.keras.layers.Dense(1)])\n",
        "\n",
        "\n",
        "  # Choose the preference optimizer.\n",
        "  optimizer = tf.keras.optimizers.Adam(learning_rate=0.001)\n",
        "  \n",
        "  #Select the loss function (MSE)\n",
        "  model.compile(loss='mse',\n",
        "                optimizer=optimizer,\n",
        "                metrics=['mae', 'mse'])\n",
        "  return model\n",
        "\n",
        "model_MFCC = build_model_MFCC();\n",
        "model_MFCC.summary()  "
      ],
      "metadata": {
        "colab": {
          "base_uri": "https://localhost:8080/"
        },
        "id": "3FN1lLGLA8L_",
        "outputId": "238b8c5f-4dd0-433c-bddf-5ace659deed7"
      },
      "execution_count": 21,
      "outputs": [
        {
          "output_type": "stream",
          "name": "stdout",
          "text": [
            "Model: \"sequential_1\"\n",
            "_________________________________________________________________\n",
            " Layer (type)                Output Shape              Param #   \n",
            "=================================================================\n",
            " dense_4 (Dense)             (None, 40)                1640      \n",
            "                                                                 \n",
            " dense_5 (Dense)             (None, 20)                820       \n",
            "                                                                 \n",
            " dropout_1 (Dropout)         (None, 20)                0         \n",
            "                                                                 \n",
            " dense_6 (Dense)             (None, 10)                210       \n",
            "                                                                 \n",
            " dense_7 (Dense)             (None, 1)                 11        \n",
            "                                                                 \n",
            "=================================================================\n",
            "Total params: 2,681\n",
            "Trainable params: 2,681\n",
            "Non-trainable params: 0\n",
            "_________________________________________________________________\n"
          ]
        }
      ]
    },
    {
      "cell_type": "markdown",
      "source": [
        "### Train the model"
      ],
      "metadata": {
        "id": "YRV6SmgvvoJd"
      }
    },
    {
      "cell_type": "code",
      "source": [
        "checkpointer = tf.keras.callbacks.ModelCheckpoint('Models/model_MFCC3.hdf5', verbose=1, save_best_only=True)\n",
        "#earlystopper = tf.keras.callbacks.EarlyStopping(monitor='val_loss', patience=5, verbose=1)"
      ],
      "metadata": {
        "id": "Tc0OG8CFaELL"
      },
      "execution_count": 22,
      "outputs": []
    },
    {
      "cell_type": "code",
      "source": [
        "from keras.callbacks import ModelCheckpoint \n",
        "from datetime import datetime \n",
        "num_epochs = 200\n",
        "num_batch_size = 32\n",
        "history_model_MFCC = model_MFCC.fit(x_train, y_train, batch_size=num_batch_size, epochs=num_epochs, callbacks=[checkpointer], validation_data=(x_test, y_test), verbose=1)"
      ],
      "metadata": {
        "colab": {
          "base_uri": "https://localhost:8080/"
        },
        "id": "k1wRycdnDymp",
        "outputId": "87e36b6d-87a1-49e1-cecb-bbd76e395267"
      },
      "execution_count": 23,
      "outputs": [
        {
          "output_type": "stream",
          "name": "stdout",
          "text": [
            "Epoch 1/200\n",
            "43/52 [=======================>......] - ETA: 0s - loss: 2237.3440 - mae: 36.5269 - mse: 2237.3440 \n",
            "Epoch 1: val_loss improved from inf to 1670.62183, saving model to Models/model_MFCC3.hdf5\n",
            "52/52 [==============================] - 1s 5ms/step - loss: 2167.7009 - mae: 36.1192 - mse: 2167.7009 - val_loss: 1670.6218 - val_mae: 32.4403 - val_mse: 1670.6218\n",
            "Epoch 2/200\n",
            "38/52 [====================>.........] - ETA: 0s - loss: 1811.7015 - mae: 33.0474 - mse: 1811.7015\n",
            "Epoch 2: val_loss improved from 1670.62183 to 1468.03601, saving model to Models/model_MFCC3.hdf5\n",
            "52/52 [==============================] - 0s 2ms/step - loss: 1682.9701 - mae: 31.7383 - mse: 1682.9701 - val_loss: 1468.0360 - val_mae: 29.1930 - val_mse: 1468.0360\n",
            "Epoch 3/200\n",
            "36/52 [===================>..........] - ETA: 0s - loss: 1548.3057 - mae: 30.0140 - mse: 1548.3057\n",
            "Epoch 3: val_loss improved from 1468.03601 to 1211.18201, saving model to Models/model_MFCC3.hdf5\n",
            "52/52 [==============================] - 0s 3ms/step - loss: 1469.6230 - mae: 29.1050 - mse: 1469.6230 - val_loss: 1211.1820 - val_mae: 26.4223 - val_mse: 1211.1820\n",
            "Epoch 4/200\n",
            "40/52 [======================>.......] - ETA: 0s - loss: 1199.4032 - mae: 25.6766 - mse: 1199.4032\n",
            "Epoch 4: val_loss improved from 1211.18201 to 977.41821, saving model to Models/model_MFCC3.hdf5\n",
            "52/52 [==============================] - 0s 2ms/step - loss: 1171.8776 - mae: 25.4194 - mse: 1171.8776 - val_loss: 977.4182 - val_mae: 21.3340 - val_mse: 977.4182\n",
            "Epoch 5/200\n",
            "33/52 [==================>...........] - ETA: 0s - loss: 966.2971 - mae: 22.9002 - mse: 966.2971  \n",
            "Epoch 5: val_loss improved from 977.41821 to 751.05249, saving model to Models/model_MFCC3.hdf5\n",
            "52/52 [==============================] - 0s 3ms/step - loss: 960.7065 - mae: 22.7802 - mse: 960.7065 - val_loss: 751.0525 - val_mae: 19.6894 - val_mse: 751.0525\n",
            "Epoch 6/200\n",
            "45/52 [========================>.....] - ETA: 0s - loss: 872.2416 - mae: 21.2199 - mse: 872.2416  \n",
            "Epoch 6: val_loss improved from 751.05249 to 640.58600, saving model to Models/model_MFCC3.hdf5\n",
            "52/52 [==============================] - 0s 2ms/step - loss: 833.5475 - mae: 20.7260 - mse: 833.5475 - val_loss: 640.5860 - val_mae: 17.6293 - val_mse: 640.5860\n",
            "Epoch 7/200\n",
            "45/52 [========================>.....] - ETA: 0s - loss: 791.7023 - mae: 20.2017 - mse: 791.7023\n",
            "Epoch 7: val_loss improved from 640.58600 to 593.53662, saving model to Models/model_MFCC3.hdf5\n",
            "52/52 [==============================] - 0s 2ms/step - loss: 787.9666 - mae: 20.0907 - mse: 787.9666 - val_loss: 593.5366 - val_mae: 16.8564 - val_mse: 593.5366\n",
            "Epoch 8/200\n",
            "46/52 [=========================>....] - ETA: 0s - loss: 657.9930 - mae: 18.5924 - mse: 657.9930\n",
            "Epoch 8: val_loss improved from 593.53662 to 585.90045, saving model to Models/model_MFCC3.hdf5\n",
            "52/52 [==============================] - 0s 2ms/step - loss: 687.4658 - mae: 18.9366 - mse: 687.4658 - val_loss: 585.9005 - val_mae: 16.8722 - val_mse: 585.9005\n",
            "Epoch 9/200\n",
            "40/52 [======================>.......] - ETA: 0s - loss: 668.5759 - mae: 18.4141 - mse: 668.5759  \n",
            "Epoch 9: val_loss improved from 585.90045 to 460.40811, saving model to Models/model_MFCC3.hdf5\n",
            "52/52 [==============================] - 0s 2ms/step - loss: 687.1680 - mae: 18.6216 - mse: 687.1680 - val_loss: 460.4081 - val_mae: 15.1536 - val_mse: 460.4081\n",
            "Epoch 10/200\n",
            "31/52 [================>.............] - ETA: 0s - loss: 642.7106 - mae: 18.3567 - mse: 642.7106\n",
            "Epoch 10: val_loss did not improve from 460.40811\n",
            "52/52 [==============================] - 0s 2ms/step - loss: 611.1823 - mae: 17.4858 - mse: 611.1823 - val_loss: 465.0789 - val_mae: 14.8960 - val_mse: 465.0789\n",
            "Epoch 11/200\n",
            "41/52 [======================>.......] - ETA: 0s - loss: 593.8232 - mae: 17.1698 - mse: 593.8232\n",
            "Epoch 11: val_loss did not improve from 460.40811\n",
            "52/52 [==============================] - 0s 2ms/step - loss: 594.8145 - mae: 17.1531 - mse: 594.8145 - val_loss: 487.8357 - val_mae: 14.7242 - val_mse: 487.8357\n",
            "Epoch 12/200\n",
            "44/52 [========================>.....] - ETA: 0s - loss: 603.8613 - mae: 17.1445 - mse: 603.8613\n",
            "Epoch 12: val_loss did not improve from 460.40811\n",
            "52/52 [==============================] - 0s 2ms/step - loss: 584.1053 - mae: 16.8155 - mse: 584.1053 - val_loss: 473.4794 - val_mae: 15.2733 - val_mse: 473.4794\n",
            "Epoch 13/200\n",
            "40/52 [======================>.......] - ETA: 0s - loss: 538.5133 - mae: 15.9908 - mse: 538.5133\n",
            "Epoch 13: val_loss improved from 460.40811 to 384.62900, saving model to Models/model_MFCC3.hdf5\n",
            "52/52 [==============================] - 0s 2ms/step - loss: 541.9028 - mae: 16.0615 - mse: 541.9028 - val_loss: 384.6290 - val_mae: 12.8366 - val_mse: 384.6290\n",
            "Epoch 14/200\n",
            "44/52 [========================>.....] - ETA: 0s - loss: 539.8599 - mae: 15.6811 - mse: 539.8599\n",
            "Epoch 14: val_loss did not improve from 384.62900\n",
            "52/52 [==============================] - 0s 2ms/step - loss: 529.2488 - mae: 15.7587 - mse: 529.2488 - val_loss: 431.2971 - val_mae: 14.0844 - val_mse: 431.2971\n",
            "Epoch 15/200\n",
            "38/52 [====================>.........] - ETA: 0s - loss: 515.5591 - mae: 15.5687 - mse: 515.5591\n",
            "Epoch 15: val_loss did not improve from 384.62900\n",
            "52/52 [==============================] - 0s 2ms/step - loss: 503.8161 - mae: 15.4127 - mse: 503.8161 - val_loss: 385.4802 - val_mae: 13.4974 - val_mse: 385.4802\n",
            "Epoch 16/200\n",
            "38/52 [====================>.........] - ETA: 0s - loss: 538.0483 - mae: 15.7579 - mse: 538.0483\n",
            "Epoch 16: val_loss improved from 384.62900 to 324.65344, saving model to Models/model_MFCC3.hdf5\n",
            "52/52 [==============================] - 0s 2ms/step - loss: 499.9746 - mae: 15.2138 - mse: 499.9746 - val_loss: 324.6534 - val_mae: 12.6938 - val_mse: 324.6534\n",
            "Epoch 17/200\n",
            "40/52 [======================>.......] - ETA: 0s - loss: 512.9476 - mae: 15.4301 - mse: 512.9476\n",
            "Epoch 17: val_loss did not improve from 324.65344\n",
            "52/52 [==============================] - 0s 2ms/step - loss: 495.3878 - mae: 15.1573 - mse: 495.3878 - val_loss: 336.0580 - val_mae: 12.4741 - val_mse: 336.0580\n",
            "Epoch 18/200\n",
            "41/52 [======================>.......] - ETA: 0s - loss: 497.7323 - mae: 14.9225 - mse: 497.7323\n",
            "Epoch 18: val_loss did not improve from 324.65344\n",
            "52/52 [==============================] - 0s 2ms/step - loss: 490.5311 - mae: 14.8765 - mse: 490.5311 - val_loss: 326.5294 - val_mae: 12.8839 - val_mse: 326.5294\n",
            "Epoch 19/200\n",
            "45/52 [========================>.....] - ETA: 0s - loss: 458.3885 - mae: 14.6294 - mse: 458.3885\n",
            "Epoch 19: val_loss improved from 324.65344 to 316.21994, saving model to Models/model_MFCC3.hdf5\n",
            "52/52 [==============================] - 0s 2ms/step - loss: 456.9850 - mae: 14.6867 - mse: 456.9850 - val_loss: 316.2199 - val_mae: 12.5747 - val_mse: 316.2199\n",
            "Epoch 20/200\n",
            "43/52 [=======================>......] - ETA: 0s - loss: 445.2255 - mae: 14.2431 - mse: 445.2255\n",
            "Epoch 20: val_loss improved from 316.21994 to 313.23944, saving model to Models/model_MFCC3.hdf5\n",
            "52/52 [==============================] - 0s 2ms/step - loss: 456.5575 - mae: 14.5189 - mse: 456.5575 - val_loss: 313.2394 - val_mae: 11.7371 - val_mse: 313.2394\n",
            "Epoch 21/200\n",
            "44/52 [========================>.....] - ETA: 0s - loss: 456.9496 - mae: 14.3193 - mse: 456.9496\n",
            "Epoch 21: val_loss did not improve from 313.23944\n",
            "52/52 [==============================] - 0s 2ms/step - loss: 453.2589 - mae: 14.2509 - mse: 453.2589 - val_loss: 403.0790 - val_mae: 13.5002 - val_mse: 403.0790\n",
            "Epoch 22/200\n",
            "31/52 [================>.............] - ETA: 0s - loss: 462.1220 - mae: 14.7649 - mse: 462.1220\n",
            "Epoch 22: val_loss did not improve from 313.23944\n",
            "52/52 [==============================] - 0s 2ms/step - loss: 427.5028 - mae: 14.1024 - mse: 427.5028 - val_loss: 322.3616 - val_mae: 11.6370 - val_mse: 322.3616\n",
            "Epoch 23/200\n",
            "41/52 [======================>.......] - ETA: 0s - loss: 450.3534 - mae: 14.4000 - mse: 450.3534\n",
            "Epoch 23: val_loss did not improve from 313.23944\n",
            "52/52 [==============================] - 0s 2ms/step - loss: 420.1375 - mae: 13.9826 - mse: 420.1375 - val_loss: 323.8607 - val_mae: 12.1717 - val_mse: 323.8607\n",
            "Epoch 24/200\n",
            "36/52 [===================>..........] - ETA: 0s - loss: 435.6508 - mae: 14.0365 - mse: 435.6508\n",
            "Epoch 24: val_loss did not improve from 313.23944\n",
            "52/52 [==============================] - 0s 2ms/step - loss: 402.6962 - mae: 13.7384 - mse: 402.6962 - val_loss: 322.4692 - val_mae: 12.4224 - val_mse: 322.4692\n",
            "Epoch 25/200\n",
            "46/52 [=========================>....] - ETA: 0s - loss: 384.2507 - mae: 13.1369 - mse: 384.2507\n",
            "Epoch 25: val_loss improved from 313.23944 to 301.64542, saving model to Models/model_MFCC3.hdf5\n",
            "52/52 [==============================] - 0s 2ms/step - loss: 391.1474 - mae: 13.2611 - mse: 391.1474 - val_loss: 301.6454 - val_mae: 11.4556 - val_mse: 301.6454\n",
            "Epoch 26/200\n",
            "39/52 [=====================>........] - ETA: 0s - loss: 413.2469 - mae: 13.7079 - mse: 413.2469\n",
            "Epoch 26: val_loss did not improve from 301.64542\n",
            "52/52 [==============================] - 0s 2ms/step - loss: 407.3171 - mae: 13.7131 - mse: 407.3171 - val_loss: 323.6942 - val_mae: 12.5151 - val_mse: 323.6942\n",
            "Epoch 27/200\n",
            "43/52 [=======================>......] - ETA: 0s - loss: 386.9687 - mae: 13.2036 - mse: 386.9687\n",
            "Epoch 27: val_loss improved from 301.64542 to 278.71164, saving model to Models/model_MFCC3.hdf5\n",
            "52/52 [==============================] - 0s 2ms/step - loss: 393.0224 - mae: 13.3209 - mse: 393.0224 - val_loss: 278.7116 - val_mae: 11.2285 - val_mse: 278.7116\n",
            "Epoch 28/200\n",
            "48/52 [==========================>...] - ETA: 0s - loss: 391.1841 - mae: 13.7091 - mse: 391.1841\n",
            "Epoch 28: val_loss improved from 278.71164 to 276.33084, saving model to Models/model_MFCC3.hdf5\n",
            "52/52 [==============================] - 0s 2ms/step - loss: 387.6033 - mae: 13.5597 - mse: 387.6033 - val_loss: 276.3308 - val_mae: 11.1659 - val_mse: 276.3308\n",
            "Epoch 29/200\n",
            "39/52 [=====================>........] - ETA: 0s - loss: 378.7682 - mae: 12.7973 - mse: 378.7682\n",
            "Epoch 29: val_loss improved from 276.33084 to 250.98883, saving model to Models/model_MFCC3.hdf5\n",
            "52/52 [==============================] - 0s 2ms/step - loss: 368.6659 - mae: 12.7321 - mse: 368.6659 - val_loss: 250.9888 - val_mae: 11.0046 - val_mse: 250.9888\n",
            "Epoch 30/200\n",
            "41/52 [======================>.......] - ETA: 0s - loss: 368.1556 - mae: 12.8643 - mse: 368.1556\n",
            "Epoch 30: val_loss did not improve from 250.98883\n",
            "52/52 [==============================] - 0s 2ms/step - loss: 359.8111 - mae: 12.7907 - mse: 359.8111 - val_loss: 300.9963 - val_mae: 11.6217 - val_mse: 300.9963\n",
            "Epoch 31/200\n",
            "36/52 [===================>..........] - ETA: 0s - loss: 374.6191 - mae: 13.0023 - mse: 374.6191\n",
            "Epoch 31: val_loss did not improve from 250.98883\n",
            "52/52 [==============================] - 0s 2ms/step - loss: 358.6867 - mae: 12.7452 - mse: 358.6867 - val_loss: 271.6114 - val_mae: 11.2856 - val_mse: 271.6114\n",
            "Epoch 32/200\n",
            "40/52 [======================>.......] - ETA: 0s - loss: 352.6153 - mae: 12.4971 - mse: 352.6153\n",
            "Epoch 32: val_loss improved from 250.98883 to 228.26213, saving model to Models/model_MFCC3.hdf5\n",
            "52/52 [==============================] - 0s 2ms/step - loss: 362.3190 - mae: 12.6962 - mse: 362.3190 - val_loss: 228.2621 - val_mae: 10.3652 - val_mse: 228.2621\n",
            "Epoch 33/200\n",
            "32/52 [=================>............] - ETA: 0s - loss: 359.9565 - mae: 12.4588 - mse: 359.9565\n",
            "Epoch 33: val_loss did not improve from 228.26213\n",
            "52/52 [==============================] - 0s 2ms/step - loss: 369.9964 - mae: 12.7316 - mse: 369.9964 - val_loss: 230.6909 - val_mae: 10.3389 - val_mse: 230.6909\n",
            "Epoch 34/200\n",
            "43/52 [=======================>......] - ETA: 0s - loss: 374.6024 - mae: 12.8855 - mse: 374.6024\n",
            "Epoch 34: val_loss did not improve from 228.26213\n",
            "52/52 [==============================] - 0s 2ms/step - loss: 361.4070 - mae: 12.6865 - mse: 361.4070 - val_loss: 300.6499 - val_mae: 11.7649 - val_mse: 300.6499\n",
            "Epoch 35/200\n",
            "38/52 [====================>.........] - ETA: 0s - loss: 357.2097 - mae: 12.7539 - mse: 357.2097\n",
            "Epoch 35: val_loss did not improve from 228.26213\n",
            "52/52 [==============================] - 0s 2ms/step - loss: 365.9402 - mae: 12.7884 - mse: 365.9402 - val_loss: 234.2617 - val_mae: 10.6776 - val_mse: 234.2617\n",
            "Epoch 36/200\n",
            "39/52 [=====================>........] - ETA: 0s - loss: 336.8320 - mae: 12.3741 - mse: 336.8320\n",
            "Epoch 36: val_loss did not improve from 228.26213\n",
            "52/52 [==============================] - 0s 2ms/step - loss: 329.4324 - mae: 12.2431 - mse: 329.4324 - val_loss: 260.9096 - val_mae: 10.6790 - val_mse: 260.9096\n",
            "Epoch 37/200\n",
            "43/52 [=======================>......] - ETA: 0s - loss: 306.1574 - mae: 11.8743 - mse: 306.1574\n",
            "Epoch 37: val_loss improved from 228.26213 to 219.63942, saving model to Models/model_MFCC3.hdf5\n",
            "52/52 [==============================] - 0s 2ms/step - loss: 329.9579 - mae: 12.3279 - mse: 329.9579 - val_loss: 219.6394 - val_mae: 10.3078 - val_mse: 219.6394\n",
            "Epoch 38/200\n",
            "46/52 [=========================>....] - ETA: 0s - loss: 342.0928 - mae: 12.3895 - mse: 342.0928\n",
            "Epoch 38: val_loss did not improve from 219.63942\n",
            "52/52 [==============================] - 0s 2ms/step - loss: 329.4034 - mae: 12.1875 - mse: 329.4034 - val_loss: 246.6233 - val_mae: 10.5140 - val_mse: 246.6233\n",
            "Epoch 39/200\n",
            "42/52 [=======================>......] - ETA: 0s - loss: 327.1949 - mae: 11.9474 - mse: 327.1949\n",
            "Epoch 39: val_loss improved from 219.63942 to 211.63658, saving model to Models/model_MFCC3.hdf5\n",
            "52/52 [==============================] - 0s 3ms/step - loss: 335.5289 - mae: 12.1635 - mse: 335.5289 - val_loss: 211.6366 - val_mae: 9.9800 - val_mse: 211.6366\n",
            "Epoch 40/200\n",
            "39/52 [=====================>........] - ETA: 0s - loss: 353.7118 - mae: 12.6302 - mse: 353.7118\n",
            "Epoch 40: val_loss did not improve from 211.63658\n",
            "52/52 [==============================] - 0s 2ms/step - loss: 345.3555 - mae: 12.5004 - mse: 345.3555 - val_loss: 284.9395 - val_mae: 11.3924 - val_mse: 284.9395\n",
            "Epoch 41/200\n",
            "44/52 [========================>.....] - ETA: 0s - loss: 360.6838 - mae: 12.7097 - mse: 360.6838\n",
            "Epoch 41: val_loss did not improve from 211.63658\n",
            "52/52 [==============================] - 0s 2ms/step - loss: 358.0542 - mae: 12.7122 - mse: 358.0542 - val_loss: 263.9190 - val_mae: 10.9330 - val_mse: 263.9190\n",
            "Epoch 42/200\n",
            "47/52 [==========================>...] - ETA: 0s - loss: 329.6126 - mae: 12.4894 - mse: 329.6126\n",
            "Epoch 42: val_loss did not improve from 211.63658\n",
            "52/52 [==============================] - 0s 2ms/step - loss: 342.1022 - mae: 12.6422 - mse: 342.1022 - val_loss: 230.7415 - val_mae: 10.3219 - val_mse: 230.7415\n",
            "Epoch 43/200\n",
            "32/52 [=================>............] - ETA: 0s - loss: 297.7688 - mae: 11.8739 - mse: 297.7688\n",
            "Epoch 43: val_loss did not improve from 211.63658\n",
            "52/52 [==============================] - 0s 2ms/step - loss: 325.4361 - mae: 12.2791 - mse: 325.4361 - val_loss: 215.2834 - val_mae: 10.2076 - val_mse: 215.2834\n",
            "Epoch 44/200\n",
            "45/52 [========================>.....] - ETA: 0s - loss: 320.6005 - mae: 12.1569 - mse: 320.6005\n",
            "Epoch 44: val_loss improved from 211.63658 to 197.04411, saving model to Models/model_MFCC3.hdf5\n",
            "52/52 [==============================] - 0s 2ms/step - loss: 321.0424 - mae: 12.1526 - mse: 321.0424 - val_loss: 197.0441 - val_mae: 9.9388 - val_mse: 197.0441\n",
            "Epoch 45/200\n",
            "36/52 [===================>..........] - ETA: 0s - loss: 317.5797 - mae: 12.0516 - mse: 317.5797\n",
            "Epoch 45: val_loss did not improve from 197.04411\n",
            "52/52 [==============================] - 0s 2ms/step - loss: 294.6441 - mae: 11.6528 - mse: 294.6441 - val_loss: 210.3933 - val_mae: 9.9764 - val_mse: 210.3933\n",
            "Epoch 46/200\n",
            "44/52 [========================>.....] - ETA: 0s - loss: 329.3207 - mae: 12.0629 - mse: 329.3207\n",
            "Epoch 46: val_loss did not improve from 197.04411\n",
            "52/52 [==============================] - 0s 2ms/step - loss: 320.0064 - mae: 12.0054 - mse: 320.0064 - val_loss: 227.0428 - val_mae: 10.4247 - val_mse: 227.0428\n",
            "Epoch 47/200\n",
            "39/52 [=====================>........] - ETA: 0s - loss: 305.1097 - mae: 11.6700 - mse: 305.1097\n",
            "Epoch 47: val_loss did not improve from 197.04411\n",
            "52/52 [==============================] - 0s 2ms/step - loss: 321.1912 - mae: 11.9956 - mse: 321.1912 - val_loss: 216.8322 - val_mae: 10.1751 - val_mse: 216.8322\n",
            "Epoch 48/200\n",
            "44/52 [========================>.....] - ETA: 0s - loss: 284.4826 - mae: 11.3388 - mse: 284.4826\n",
            "Epoch 48: val_loss did not improve from 197.04411\n",
            "52/52 [==============================] - 0s 2ms/step - loss: 295.2375 - mae: 11.4755 - mse: 295.2375 - val_loss: 214.6256 - val_mae: 10.0205 - val_mse: 214.6256\n",
            "Epoch 49/200\n",
            "36/52 [===================>..........] - ETA: 0s - loss: 327.9821 - mae: 12.1598 - mse: 327.9821\n",
            "Epoch 49: val_loss did not improve from 197.04411\n",
            "52/52 [==============================] - 0s 2ms/step - loss: 307.1583 - mae: 11.8793 - mse: 307.1583 - val_loss: 225.4460 - val_mae: 10.2696 - val_mse: 225.4460\n",
            "Epoch 50/200\n",
            "45/52 [========================>.....] - ETA: 0s - loss: 324.7723 - mae: 12.0335 - mse: 324.7723\n",
            "Epoch 50: val_loss improved from 197.04411 to 193.88899, saving model to Models/model_MFCC3.hdf5\n",
            "52/52 [==============================] - 0s 2ms/step - loss: 316.6815 - mae: 11.9524 - mse: 316.6815 - val_loss: 193.8890 - val_mae: 9.6453 - val_mse: 193.8890\n",
            "Epoch 51/200\n",
            "40/52 [======================>.......] - ETA: 0s - loss: 297.1870 - mae: 11.4679 - mse: 297.1870\n",
            "Epoch 51: val_loss improved from 193.88899 to 185.74413, saving model to Models/model_MFCC3.hdf5\n",
            "52/52 [==============================] - 0s 2ms/step - loss: 303.0272 - mae: 11.7122 - mse: 303.0272 - val_loss: 185.7441 - val_mae: 9.5627 - val_mse: 185.7441\n",
            "Epoch 52/200\n",
            "41/52 [======================>.......] - ETA: 0s - loss: 285.7333 - mae: 11.3825 - mse: 285.7333\n",
            "Epoch 52: val_loss did not improve from 185.74413\n",
            "52/52 [==============================] - 0s 2ms/step - loss: 283.6793 - mae: 11.3415 - mse: 283.6793 - val_loss: 204.5740 - val_mae: 9.9714 - val_mse: 204.5740\n",
            "Epoch 53/200\n",
            "46/52 [=========================>....] - ETA: 0s - loss: 299.2041 - mae: 11.5364 - mse: 299.2041\n",
            "Epoch 53: val_loss did not improve from 185.74413\n",
            "52/52 [==============================] - 0s 2ms/step - loss: 299.9488 - mae: 11.6284 - mse: 299.9488 - val_loss: 268.5187 - val_mae: 10.7766 - val_mse: 268.5187\n",
            "Epoch 54/200\n",
            "42/52 [=======================>......] - ETA: 0s - loss: 308.5731 - mae: 11.8067 - mse: 308.5731\n",
            "Epoch 54: val_loss did not improve from 185.74413\n",
            "52/52 [==============================] - 0s 2ms/step - loss: 304.5143 - mae: 11.8097 - mse: 304.5143 - val_loss: 232.6677 - val_mae: 10.3552 - val_mse: 232.6677\n",
            "Epoch 55/200\n",
            "40/52 [======================>.......] - ETA: 0s - loss: 289.6422 - mae: 11.5620 - mse: 289.6422\n",
            "Epoch 55: val_loss improved from 185.74413 to 173.77711, saving model to Models/model_MFCC3.hdf5\n",
            "52/52 [==============================] - 0s 2ms/step - loss: 292.7552 - mae: 11.6122 - mse: 292.7552 - val_loss: 173.7771 - val_mae: 9.2249 - val_mse: 173.7771\n",
            "Epoch 56/200\n",
            "41/52 [======================>.......] - ETA: 0s - loss: 301.6071 - mae: 11.6809 - mse: 301.6071\n",
            "Epoch 56: val_loss did not improve from 173.77711\n",
            "52/52 [==============================] - 0s 2ms/step - loss: 300.4494 - mae: 11.7658 - mse: 300.4494 - val_loss: 198.6743 - val_mae: 10.0084 - val_mse: 198.6743\n",
            "Epoch 57/200\n",
            "43/52 [=======================>......] - ETA: 0s - loss: 266.9013 - mae: 11.2167 - mse: 266.9013\n",
            "Epoch 57: val_loss improved from 173.77711 to 170.61829, saving model to Models/model_MFCC3.hdf5\n",
            "52/52 [==============================] - 0s 2ms/step - loss: 272.1700 - mae: 11.2843 - mse: 272.1700 - val_loss: 170.6183 - val_mae: 9.1472 - val_mse: 170.6183\n",
            "Epoch 58/200\n",
            "44/52 [========================>.....] - ETA: 0s - loss: 285.1025 - mae: 11.4597 - mse: 285.1025\n",
            "Epoch 58: val_loss improved from 170.61829 to 165.47159, saving model to Models/model_MFCC3.hdf5\n",
            "52/52 [==============================] - 0s 2ms/step - loss: 281.5451 - mae: 11.3376 - mse: 281.5451 - val_loss: 165.4716 - val_mae: 9.1613 - val_mse: 165.4716\n",
            "Epoch 59/200\n",
            "41/52 [======================>.......] - ETA: 0s - loss: 281.1319 - mae: 11.3877 - mse: 281.1319\n",
            "Epoch 59: val_loss did not improve from 165.47159\n",
            "52/52 [==============================] - 0s 2ms/step - loss: 275.8824 - mae: 11.2979 - mse: 275.8824 - val_loss: 204.5844 - val_mae: 9.8444 - val_mse: 204.5844\n",
            "Epoch 60/200\n",
            "39/52 [=====================>........] - ETA: 0s - loss: 296.9138 - mae: 11.3501 - mse: 296.9138\n",
            "Epoch 60: val_loss did not improve from 165.47159\n",
            "52/52 [==============================] - 0s 2ms/step - loss: 283.6859 - mae: 11.1895 - mse: 283.6859 - val_loss: 204.7656 - val_mae: 9.8717 - val_mse: 204.7656\n",
            "Epoch 61/200\n",
            "42/52 [=======================>......] - ETA: 0s - loss: 292.5456 - mae: 11.8469 - mse: 292.5456\n",
            "Epoch 61: val_loss improved from 165.47159 to 162.03862, saving model to Models/model_MFCC3.hdf5\n",
            "52/52 [==============================] - 0s 2ms/step - loss: 302.3107 - mae: 11.8243 - mse: 302.3107 - val_loss: 162.0386 - val_mae: 8.9948 - val_mse: 162.0386\n",
            "Epoch 62/200\n",
            "40/52 [======================>.......] - ETA: 0s - loss: 264.1220 - mae: 10.9216 - mse: 264.1220\n",
            "Epoch 62: val_loss did not improve from 162.03862\n",
            "52/52 [==============================] - 0s 2ms/step - loss: 266.7049 - mae: 10.8959 - mse: 266.7049 - val_loss: 186.2307 - val_mae: 9.4207 - val_mse: 186.2307\n",
            "Epoch 63/200\n",
            "46/52 [=========================>....] - ETA: 0s - loss: 263.7711 - mae: 10.9795 - mse: 263.7711\n",
            "Epoch 63: val_loss did not improve from 162.03862\n",
            "52/52 [==============================] - 0s 2ms/step - loss: 267.5642 - mae: 11.0195 - mse: 267.5642 - val_loss: 180.4071 - val_mae: 9.2434 - val_mse: 180.4071\n",
            "Epoch 64/200\n",
            "36/52 [===================>..........] - ETA: 0s - loss: 254.4873 - mae: 10.6710 - mse: 254.4873\n",
            "Epoch 64: val_loss did not improve from 162.03862\n",
            "52/52 [==============================] - 0s 2ms/step - loss: 269.1557 - mae: 10.9547 - mse: 269.1557 - val_loss: 207.7171 - val_mae: 9.9201 - val_mse: 207.7171\n",
            "Epoch 65/200\n",
            "41/52 [======================>.......] - ETA: 0s - loss: 273.5191 - mae: 11.3130 - mse: 273.5191\n",
            "Epoch 65: val_loss did not improve from 162.03862\n",
            "52/52 [==============================] - 0s 2ms/step - loss: 263.2943 - mae: 11.1050 - mse: 263.2943 - val_loss: 164.7734 - val_mae: 9.0895 - val_mse: 164.7734\n",
            "Epoch 66/200\n",
            "40/52 [======================>.......] - ETA: 0s - loss: 256.8928 - mae: 10.8685 - mse: 256.8928\n",
            "Epoch 66: val_loss did not improve from 162.03862\n",
            "52/52 [==============================] - 0s 2ms/step - loss: 264.1250 - mae: 11.0636 - mse: 264.1250 - val_loss: 176.2084 - val_mae: 9.1789 - val_mse: 176.2084\n",
            "Epoch 67/200\n",
            "46/52 [=========================>....] - ETA: 0s - loss: 237.9971 - mae: 10.3297 - mse: 237.9971\n",
            "Epoch 67: val_loss improved from 162.03862 to 152.84247, saving model to Models/model_MFCC3.hdf5\n",
            "52/52 [==============================] - 0s 2ms/step - loss: 245.3595 - mae: 10.4771 - mse: 245.3595 - val_loss: 152.8425 - val_mae: 8.7167 - val_mse: 152.8425\n",
            "Epoch 68/200\n",
            "37/52 [====================>.........] - ETA: 0s - loss: 248.2909 - mae: 10.6707 - mse: 248.2909\n",
            "Epoch 68: val_loss did not improve from 152.84247\n",
            "52/52 [==============================] - 0s 2ms/step - loss: 256.1688 - mae: 10.8014 - mse: 256.1688 - val_loss: 182.4620 - val_mae: 9.4117 - val_mse: 182.4620\n",
            "Epoch 69/200\n",
            "45/52 [========================>.....] - ETA: 0s - loss: 253.8038 - mae: 10.7615 - mse: 253.8038\n",
            "Epoch 69: val_loss did not improve from 152.84247\n",
            "52/52 [==============================] - 0s 2ms/step - loss: 252.3333 - mae: 10.7919 - mse: 252.3333 - val_loss: 189.1228 - val_mae: 9.4326 - val_mse: 189.1228\n",
            "Epoch 70/200\n",
            "41/52 [======================>.......] - ETA: 0s - loss: 236.4302 - mae: 10.3627 - mse: 236.4302\n",
            "Epoch 70: val_loss did not improve from 152.84247\n",
            "52/52 [==============================] - 0s 2ms/step - loss: 230.1714 - mae: 10.3143 - mse: 230.1714 - val_loss: 174.5653 - val_mae: 9.4880 - val_mse: 174.5653\n",
            "Epoch 71/200\n",
            "44/52 [========================>.....] - ETA: 0s - loss: 241.4182 - mae: 10.6178 - mse: 241.4182\n",
            "Epoch 71: val_loss did not improve from 152.84247\n",
            "52/52 [==============================] - 0s 2ms/step - loss: 245.1506 - mae: 10.6400 - mse: 245.1506 - val_loss: 169.6618 - val_mae: 9.0772 - val_mse: 169.6618\n",
            "Epoch 72/200\n",
            "46/52 [=========================>....] - ETA: 0s - loss: 247.2923 - mae: 10.6164 - mse: 247.2923\n",
            "Epoch 72: val_loss did not improve from 152.84247\n",
            "52/52 [==============================] - 0s 2ms/step - loss: 245.8541 - mae: 10.6573 - mse: 245.8541 - val_loss: 161.3901 - val_mae: 8.9164 - val_mse: 161.3901\n",
            "Epoch 73/200\n",
            "41/52 [======================>.......] - ETA: 0s - loss: 265.4081 - mae: 10.9185 - mse: 265.4081\n",
            "Epoch 73: val_loss did not improve from 152.84247\n",
            "52/52 [==============================] - 0s 2ms/step - loss: 259.1335 - mae: 10.8690 - mse: 259.1335 - val_loss: 164.9418 - val_mae: 8.9135 - val_mse: 164.9418\n",
            "Epoch 74/200\n",
            "40/52 [======================>.......] - ETA: 0s - loss: 228.3517 - mae: 10.3790 - mse: 228.3517\n",
            "Epoch 74: val_loss did not improve from 152.84247\n",
            "52/52 [==============================] - 0s 2ms/step - loss: 251.1021 - mae: 10.6800 - mse: 251.1021 - val_loss: 167.9020 - val_mae: 8.9886 - val_mse: 167.9020\n",
            "Epoch 75/200\n",
            "41/52 [======================>.......] - ETA: 0s - loss: 245.6494 - mae: 10.6157 - mse: 245.6494\n",
            "Epoch 75: val_loss improved from 152.84247 to 151.34201, saving model to Models/model_MFCC3.hdf5\n",
            "52/52 [==============================] - 0s 2ms/step - loss: 241.5937 - mae: 10.4788 - mse: 241.5937 - val_loss: 151.3420 - val_mae: 8.7134 - val_mse: 151.3420\n",
            "Epoch 76/200\n",
            "35/52 [===================>..........] - ETA: 0s - loss: 241.9269 - mae: 10.5160 - mse: 241.9269\n",
            "Epoch 76: val_loss did not improve from 151.34201\n",
            "52/52 [==============================] - 0s 2ms/step - loss: 238.4077 - mae: 10.5011 - mse: 238.4077 - val_loss: 178.6891 - val_mae: 9.3894 - val_mse: 178.6891\n",
            "Epoch 77/200\n",
            "45/52 [========================>.....] - ETA: 0s - loss: 252.0453 - mae: 10.6647 - mse: 252.0453\n",
            "Epoch 77: val_loss did not improve from 151.34201\n",
            "52/52 [==============================] - 0s 2ms/step - loss: 247.3943 - mae: 10.6049 - mse: 247.3943 - val_loss: 190.6071 - val_mae: 9.4155 - val_mse: 190.6071\n",
            "Epoch 78/200\n",
            "48/52 [==========================>...] - ETA: 0s - loss: 230.7623 - mae: 10.2026 - mse: 230.7623\n",
            "Epoch 78: val_loss did not improve from 151.34201\n",
            "52/52 [==============================] - 0s 2ms/step - loss: 230.0965 - mae: 10.2305 - mse: 230.0965 - val_loss: 161.6011 - val_mae: 8.9639 - val_mse: 161.6011\n",
            "Epoch 79/200\n",
            "37/52 [====================>.........] - ETA: 0s - loss: 248.0504 - mae: 10.5863 - mse: 248.0504\n",
            "Epoch 79: val_loss did not improve from 151.34201\n",
            "52/52 [==============================] - 0s 2ms/step - loss: 250.6917 - mae: 10.6775 - mse: 250.6917 - val_loss: 160.0510 - val_mae: 8.9066 - val_mse: 160.0510\n",
            "Epoch 80/200\n",
            "44/52 [========================>.....] - ETA: 0s - loss: 222.5448 - mae: 10.0787 - mse: 222.5448\n",
            "Epoch 80: val_loss did not improve from 151.34201\n",
            "52/52 [==============================] - 0s 2ms/step - loss: 229.5695 - mae: 10.2354 - mse: 229.5695 - val_loss: 158.0872 - val_mae: 8.8009 - val_mse: 158.0872\n",
            "Epoch 81/200\n",
            "45/52 [========================>.....] - ETA: 0s - loss: 232.9196 - mae: 10.1653 - mse: 232.9196\n",
            "Epoch 81: val_loss improved from 151.34201 to 144.58858, saving model to Models/model_MFCC3.hdf5\n",
            "52/52 [==============================] - 0s 2ms/step - loss: 238.3113 - mae: 10.2478 - mse: 238.3113 - val_loss: 144.5886 - val_mae: 8.7546 - val_mse: 144.5886\n",
            "Epoch 82/200\n",
            "40/52 [======================>.......] - ETA: 0s - loss: 238.0756 - mae: 10.5331 - mse: 238.0756\n",
            "Epoch 82: val_loss did not improve from 144.58858\n",
            "52/52 [==============================] - 0s 2ms/step - loss: 233.1896 - mae: 10.4290 - mse: 233.1896 - val_loss: 161.1254 - val_mae: 8.7982 - val_mse: 161.1254\n",
            "Epoch 83/200\n",
            "36/52 [===================>..........] - ETA: 0s - loss: 213.4945 - mae: 10.1167 - mse: 213.4945\n",
            "Epoch 83: val_loss did not improve from 144.58858\n",
            "52/52 [==============================] - 0s 2ms/step - loss: 209.0049 - mae: 10.0532 - mse: 209.0049 - val_loss: 220.7511 - val_mae: 10.2074 - val_mse: 220.7511\n",
            "Epoch 84/200\n",
            "41/52 [======================>.......] - ETA: 0s - loss: 232.0979 - mae: 10.3671 - mse: 232.0979\n",
            "Epoch 84: val_loss did not improve from 144.58858\n",
            "52/52 [==============================] - 0s 2ms/step - loss: 231.0671 - mae: 10.2562 - mse: 231.0671 - val_loss: 167.3558 - val_mae: 9.0472 - val_mse: 167.3558\n",
            "Epoch 85/200\n",
            "45/52 [========================>.....] - ETA: 0s - loss: 257.1004 - mae: 10.6694 - mse: 257.1004\n",
            "Epoch 85: val_loss improved from 144.58858 to 138.27000, saving model to Models/model_MFCC3.hdf5\n",
            "52/52 [==============================] - 0s 2ms/step - loss: 254.0646 - mae: 10.6726 - mse: 254.0646 - val_loss: 138.2700 - val_mae: 8.3648 - val_mse: 138.2700\n",
            "Epoch 86/200\n",
            "44/52 [========================>.....] - ETA: 0s - loss: 237.7476 - mae: 10.5278 - mse: 237.7476\n",
            "Epoch 86: val_loss did not improve from 138.27000\n",
            "52/52 [==============================] - 0s 2ms/step - loss: 247.1952 - mae: 10.6538 - mse: 247.1952 - val_loss: 220.1455 - val_mae: 10.0514 - val_mse: 220.1455\n",
            "Epoch 87/200\n",
            "40/52 [======================>.......] - ETA: 0s - loss: 234.3290 - mae: 10.2510 - mse: 234.3290\n",
            "Epoch 87: val_loss did not improve from 138.27000\n",
            "52/52 [==============================] - 0s 2ms/step - loss: 239.5124 - mae: 10.4170 - mse: 239.5124 - val_loss: 169.5844 - val_mae: 8.9493 - val_mse: 169.5844\n",
            "Epoch 88/200\n",
            "39/52 [=====================>........] - ETA: 0s - loss: 228.9429 - mae: 10.3553 - mse: 228.9429\n",
            "Epoch 88: val_loss did not improve from 138.27000\n",
            "52/52 [==============================] - 0s 2ms/step - loss: 220.3437 - mae: 10.1305 - mse: 220.3437 - val_loss: 181.6326 - val_mae: 9.1877 - val_mse: 181.6326\n",
            "Epoch 89/200\n",
            "42/52 [=======================>......] - ETA: 0s - loss: 214.5573 - mae: 9.9260 - mse: 214.5573\n",
            "Epoch 89: val_loss did not improve from 138.27000\n",
            "52/52 [==============================] - 0s 2ms/step - loss: 215.6448 - mae: 10.0035 - mse: 215.6448 - val_loss: 191.7161 - val_mae: 9.3395 - val_mse: 191.7161\n",
            "Epoch 90/200\n",
            "38/52 [====================>.........] - ETA: 0s - loss: 238.3962 - mae: 10.5671 - mse: 238.3962\n",
            "Epoch 90: val_loss did not improve from 138.27000\n",
            "52/52 [==============================] - 0s 2ms/step - loss: 239.8360 - mae: 10.5166 - mse: 239.8360 - val_loss: 138.4637 - val_mae: 8.4240 - val_mse: 138.4637\n",
            "Epoch 91/200\n",
            "47/52 [==========================>...] - ETA: 0s - loss: 224.0480 - mae: 10.1315 - mse: 224.0480\n",
            "Epoch 91: val_loss did not improve from 138.27000\n",
            "52/52 [==============================] - 0s 2ms/step - loss: 224.4604 - mae: 10.1600 - mse: 224.4604 - val_loss: 184.5161 - val_mae: 9.3379 - val_mse: 184.5161\n",
            "Epoch 92/200\n",
            "37/52 [====================>.........] - ETA: 0s - loss: 207.3687 - mae: 9.7228 - mse: 207.3687\n",
            "Epoch 92: val_loss did not improve from 138.27000\n",
            "52/52 [==============================] - 0s 2ms/step - loss: 211.6224 - mae: 9.8137 - mse: 211.6224 - val_loss: 151.0199 - val_mae: 8.5557 - val_mse: 151.0199\n",
            "Epoch 93/200\n",
            "43/52 [=======================>......] - ETA: 0s - loss: 220.4590 - mae: 10.0386 - mse: 220.4590\n",
            "Epoch 93: val_loss did not improve from 138.27000\n",
            "52/52 [==============================] - 0s 2ms/step - loss: 222.0191 - mae: 10.0798 - mse: 222.0191 - val_loss: 160.6287 - val_mae: 8.8819 - val_mse: 160.6287\n",
            "Epoch 94/200\n",
            "43/52 [=======================>......] - ETA: 0s - loss: 254.3801 - mae: 10.3080 - mse: 254.3801\n",
            "Epoch 94: val_loss did not improve from 138.27000\n",
            "52/52 [==============================] - 0s 2ms/step - loss: 248.1206 - mae: 10.2990 - mse: 248.1206 - val_loss: 139.6731 - val_mae: 8.3386 - val_mse: 139.6731\n",
            "Epoch 95/200\n",
            "45/52 [========================>.....] - ETA: 0s - loss: 214.9865 - mae: 9.9024 - mse: 214.9865 \n",
            "Epoch 95: val_loss did not improve from 138.27000\n",
            "52/52 [==============================] - 0s 2ms/step - loss: 218.2773 - mae: 9.9269 - mse: 218.2773 - val_loss: 145.9968 - val_mae: 8.4699 - val_mse: 145.9968\n",
            "Epoch 96/200\n",
            "35/52 [===================>..........] - ETA: 0s - loss: 215.9238 - mae: 10.1394 - mse: 215.9238\n",
            "Epoch 96: val_loss did not improve from 138.27000\n",
            "52/52 [==============================] - 0s 2ms/step - loss: 230.2692 - mae: 10.3712 - mse: 230.2692 - val_loss: 144.9530 - val_mae: 8.3984 - val_mse: 144.9530\n",
            "Epoch 97/200\n",
            "43/52 [=======================>......] - ETA: 0s - loss: 209.2538 - mae: 9.8176 - mse: 209.2538 \n",
            "Epoch 97: val_loss did not improve from 138.27000\n",
            "52/52 [==============================] - 0s 2ms/step - loss: 219.0275 - mae: 10.0548 - mse: 219.0275 - val_loss: 203.1376 - val_mae: 9.6383 - val_mse: 203.1376\n",
            "Epoch 98/200\n",
            "40/52 [======================>.......] - ETA: 0s - loss: 248.5441 - mae: 10.6332 - mse: 248.5441\n",
            "Epoch 98: val_loss did not improve from 138.27000\n",
            "52/52 [==============================] - 0s 2ms/step - loss: 248.3982 - mae: 10.5203 - mse: 248.3982 - val_loss: 178.9438 - val_mae: 9.2077 - val_mse: 178.9438\n",
            "Epoch 99/200\n",
            "39/52 [=====================>........] - ETA: 0s - loss: 196.6026 - mae: 9.6755 - mse: 196.6026\n",
            "Epoch 99: val_loss did not improve from 138.27000\n",
            "52/52 [==============================] - 0s 2ms/step - loss: 207.4944 - mae: 9.8641 - mse: 207.4944 - val_loss: 163.7140 - val_mae: 8.8955 - val_mse: 163.7140\n",
            "Epoch 100/200\n",
            "43/52 [=======================>......] - ETA: 0s - loss: 230.5130 - mae: 10.2888 - mse: 230.5130\n",
            "Epoch 100: val_loss improved from 138.27000 to 132.63666, saving model to Models/model_MFCC3.hdf5\n",
            "52/52 [==============================] - 0s 2ms/step - loss: 224.3226 - mae: 10.2081 - mse: 224.3226 - val_loss: 132.6367 - val_mae: 8.0618 - val_mse: 132.6367\n",
            "Epoch 101/200\n",
            "43/52 [=======================>......] - ETA: 0s - loss: 201.7387 - mae: 9.6783 - mse: 201.7387 \n",
            "Epoch 101: val_loss did not improve from 132.63666\n",
            "52/52 [==============================] - 0s 2ms/step - loss: 206.3559 - mae: 9.8062 - mse: 206.3559 - val_loss: 147.7601 - val_mae: 8.4576 - val_mse: 147.7601\n",
            "Epoch 102/200\n",
            "43/52 [=======================>......] - ETA: 0s - loss: 199.1320 - mae: 9.6743 - mse: 199.1320\n",
            "Epoch 102: val_loss did not improve from 132.63666\n",
            "52/52 [==============================] - 0s 2ms/step - loss: 202.8715 - mae: 9.7464 - mse: 202.8715 - val_loss: 146.0498 - val_mae: 8.4348 - val_mse: 146.0498\n",
            "Epoch 103/200\n",
            "36/52 [===================>..........] - ETA: 0s - loss: 215.0565 - mae: 9.7235 - mse: 215.0565\n",
            "Epoch 103: val_loss did not improve from 132.63666\n",
            "52/52 [==============================] - 0s 2ms/step - loss: 207.3228 - mae: 9.6985 - mse: 207.3228 - val_loss: 151.1214 - val_mae: 8.5608 - val_mse: 151.1214\n",
            "Epoch 104/200\n",
            "45/52 [========================>.....] - ETA: 0s - loss: 205.7661 - mae: 9.5357 - mse: 205.7661\n",
            "Epoch 104: val_loss did not improve from 132.63666\n",
            "52/52 [==============================] - 0s 2ms/step - loss: 205.2968 - mae: 9.6076 - mse: 205.2968 - val_loss: 169.5195 - val_mae: 8.8106 - val_mse: 169.5195\n",
            "Epoch 105/200\n",
            "45/52 [========================>.....] - ETA: 0s - loss: 206.9931 - mae: 9.7389 - mse: 206.9931 \n",
            "Epoch 105: val_loss did not improve from 132.63666\n",
            "52/52 [==============================] - 0s 2ms/step - loss: 215.6271 - mae: 9.8556 - mse: 215.6271 - val_loss: 132.7809 - val_mae: 8.0516 - val_mse: 132.7809\n",
            "Epoch 106/200\n",
            "38/52 [====================>.........] - ETA: 0s - loss: 202.6474 - mae: 9.5612 - mse: 202.6474 \n",
            "Epoch 106: val_loss did not improve from 132.63666\n",
            "52/52 [==============================] - 0s 2ms/step - loss: 198.4256 - mae: 9.5053 - mse: 198.4256 - val_loss: 143.6227 - val_mae: 8.3424 - val_mse: 143.6227\n",
            "Epoch 107/200\n",
            "46/52 [=========================>....] - ETA: 0s - loss: 191.9724 - mae: 9.4951 - mse: 191.9724\n",
            "Epoch 107: val_loss did not improve from 132.63666\n",
            "52/52 [==============================] - 0s 2ms/step - loss: 196.8073 - mae: 9.6316 - mse: 196.8073 - val_loss: 133.4537 - val_mae: 8.0241 - val_mse: 133.4537\n",
            "Epoch 108/200\n",
            "40/52 [======================>.......] - ETA: 0s - loss: 194.1258 - mae: 9.5268 - mse: 194.1258 \n",
            "Epoch 108: val_loss did not improve from 132.63666\n",
            "52/52 [==============================] - 0s 2ms/step - loss: 192.1159 - mae: 9.4050 - mse: 192.1159 - val_loss: 155.4724 - val_mae: 8.5963 - val_mse: 155.4724\n",
            "Epoch 109/200\n",
            "45/52 [========================>.....] - ETA: 0s - loss: 191.3604 - mae: 9.4015 - mse: 191.3604\n",
            "Epoch 109: val_loss did not improve from 132.63666\n",
            "52/52 [==============================] - 0s 2ms/step - loss: 202.1236 - mae: 9.6889 - mse: 202.1236 - val_loss: 143.1730 - val_mae: 8.1756 - val_mse: 143.1730\n",
            "Epoch 110/200\n",
            "43/52 [=======================>......] - ETA: 0s - loss: 203.1369 - mae: 9.7130 - mse: 203.1369\n",
            "Epoch 110: val_loss improved from 132.63666 to 127.70250, saving model to Models/model_MFCC3.hdf5\n",
            "52/52 [==============================] - 0s 2ms/step - loss: 198.2444 - mae: 9.5660 - mse: 198.2444 - val_loss: 127.7025 - val_mae: 7.9071 - val_mse: 127.7025\n",
            "Epoch 111/200\n",
            "44/52 [========================>.....] - ETA: 0s - loss: 212.8277 - mae: 9.9403 - mse: 212.8277\n",
            "Epoch 111: val_loss did not improve from 127.70250\n",
            "52/52 [==============================] - 0s 2ms/step - loss: 211.6310 - mae: 9.9384 - mse: 211.6310 - val_loss: 135.9232 - val_mae: 8.1305 - val_mse: 135.9232\n",
            "Epoch 112/200\n",
            "43/52 [=======================>......] - ETA: 0s - loss: 195.7407 - mae: 9.5621 - mse: 195.7407 \n",
            "Epoch 112: val_loss did not improve from 127.70250\n",
            "52/52 [==============================] - 0s 2ms/step - loss: 199.4140 - mae: 9.6471 - mse: 199.4140 - val_loss: 173.1632 - val_mae: 9.0866 - val_mse: 173.1632\n",
            "Epoch 113/200\n",
            "40/52 [======================>.......] - ETA: 0s - loss: 193.4355 - mae: 9.3921 - mse: 193.4355\n",
            "Epoch 113: val_loss improved from 127.70250 to 126.37159, saving model to Models/model_MFCC3.hdf5\n",
            "52/52 [==============================] - 0s 2ms/step - loss: 193.4104 - mae: 9.4472 - mse: 193.4104 - val_loss: 126.3716 - val_mae: 7.8101 - val_mse: 126.3716\n",
            "Epoch 114/200\n",
            "44/52 [========================>.....] - ETA: 0s - loss: 194.7439 - mae: 9.5440 - mse: 194.7439\n",
            "Epoch 114: val_loss did not improve from 126.37159\n",
            "52/52 [==============================] - 0s 2ms/step - loss: 196.0698 - mae: 9.5799 - mse: 196.0698 - val_loss: 169.0858 - val_mae: 8.8647 - val_mse: 169.0858\n",
            "Epoch 115/200\n",
            "38/52 [====================>.........] - ETA: 0s - loss: 214.9042 - mae: 9.8525 - mse: 214.9042\n",
            "Epoch 115: val_loss did not improve from 126.37159\n",
            "52/52 [==============================] - 0s 2ms/step - loss: 206.2293 - mae: 9.6753 - mse: 206.2293 - val_loss: 173.0085 - val_mae: 8.9380 - val_mse: 173.0085\n",
            "Epoch 116/200\n",
            "39/52 [=====================>........] - ETA: 0s - loss: 213.6001 - mae: 10.0961 - mse: 213.6001\n",
            "Epoch 116: val_loss did not improve from 126.37159\n",
            "52/52 [==============================] - 0s 2ms/step - loss: 201.2734 - mae: 9.7786 - mse: 201.2734 - val_loss: 167.7653 - val_mae: 8.9692 - val_mse: 167.7653\n",
            "Epoch 117/200\n",
            "39/52 [=====================>........] - ETA: 0s - loss: 223.8255 - mae: 10.2093 - mse: 223.8255\n",
            "Epoch 117: val_loss did not improve from 126.37159\n",
            "52/52 [==============================] - 0s 2ms/step - loss: 221.8121 - mae: 10.0842 - mse: 221.8121 - val_loss: 140.9233 - val_mae: 8.4932 - val_mse: 140.9233\n",
            "Epoch 118/200\n",
            "35/52 [===================>..........] - ETA: 0s - loss: 227.9868 - mae: 10.0344 - mse: 227.9868\n",
            "Epoch 118: val_loss did not improve from 126.37159\n",
            "52/52 [==============================] - 0s 2ms/step - loss: 211.6657 - mae: 9.6936 - mse: 211.6657 - val_loss: 149.9901 - val_mae: 8.4258 - val_mse: 149.9901\n",
            "Epoch 119/200\n",
            "40/52 [======================>.......] - ETA: 0s - loss: 189.0401 - mae: 9.3701 - mse: 189.0401\n",
            "Epoch 119: val_loss did not improve from 126.37159\n",
            "52/52 [==============================] - 0s 2ms/step - loss: 182.9386 - mae: 9.1396 - mse: 182.9386 - val_loss: 139.4792 - val_mae: 8.2067 - val_mse: 139.4792\n",
            "Epoch 120/200\n",
            "40/52 [======================>.......] - ETA: 0s - loss: 201.0466 - mae: 9.5950 - mse: 201.0466 \n",
            "Epoch 120: val_loss did not improve from 126.37159\n",
            "52/52 [==============================] - 0s 2ms/step - loss: 198.1871 - mae: 9.5377 - mse: 198.1871 - val_loss: 191.3172 - val_mae: 9.4341 - val_mse: 191.3172\n",
            "Epoch 121/200\n",
            "41/52 [======================>.......] - ETA: 0s - loss: 195.1859 - mae: 9.5534 - mse: 195.1859\n",
            "Epoch 121: val_loss did not improve from 126.37159\n",
            "52/52 [==============================] - 0s 2ms/step - loss: 192.7577 - mae: 9.5386 - mse: 192.7577 - val_loss: 146.3975 - val_mae: 8.4436 - val_mse: 146.3975\n",
            "Epoch 122/200\n",
            "37/52 [====================>.........] - ETA: 0s - loss: 191.0495 - mae: 9.2964 - mse: 191.0495\n",
            "Epoch 122: val_loss did not improve from 126.37159\n",
            "52/52 [==============================] - 0s 2ms/step - loss: 200.6337 - mae: 9.4914 - mse: 200.6337 - val_loss: 195.3378 - val_mae: 9.6638 - val_mse: 195.3378\n",
            "Epoch 123/200\n",
            "36/52 [===================>..........] - ETA: 0s - loss: 201.5716 - mae: 9.6959 - mse: 201.5716\n",
            "Epoch 123: val_loss did not improve from 126.37159\n",
            "52/52 [==============================] - 0s 2ms/step - loss: 193.2235 - mae: 9.4668 - mse: 193.2235 - val_loss: 162.2386 - val_mae: 8.7602 - val_mse: 162.2386\n",
            "Epoch 124/200\n",
            "38/52 [====================>.........] - ETA: 0s - loss: 211.1859 - mae: 9.6038 - mse: 211.1859 \n",
            "Epoch 124: val_loss did not improve from 126.37159\n",
            "52/52 [==============================] - 0s 2ms/step - loss: 202.6260 - mae: 9.5270 - mse: 202.6260 - val_loss: 225.6848 - val_mae: 10.0365 - val_mse: 225.6848\n",
            "Epoch 125/200\n",
            "39/52 [=====================>........] - ETA: 0s - loss: 224.9206 - mae: 10.1486 - mse: 224.9206\n",
            "Epoch 125: val_loss did not improve from 126.37159\n",
            "52/52 [==============================] - 0s 2ms/step - loss: 206.1782 - mae: 9.7137 - mse: 206.1782 - val_loss: 164.7602 - val_mae: 8.8334 - val_mse: 164.7602\n",
            "Epoch 126/200\n",
            "43/52 [=======================>......] - ETA: 0s - loss: 193.5456 - mae: 9.2228 - mse: 193.5456 \n",
            "Epoch 126: val_loss did not improve from 126.37159\n",
            "52/52 [==============================] - 0s 2ms/step - loss: 186.1619 - mae: 9.0593 - mse: 186.1619 - val_loss: 132.7487 - val_mae: 8.0156 - val_mse: 132.7487\n",
            "Epoch 127/200\n",
            "34/52 [==================>...........] - ETA: 0s - loss: 197.3192 - mae: 9.5319 - mse: 197.3192\n",
            "Epoch 127: val_loss did not improve from 126.37159\n",
            "52/52 [==============================] - 0s 2ms/step - loss: 192.1481 - mae: 9.3903 - mse: 192.1481 - val_loss: 162.5292 - val_mae: 8.8161 - val_mse: 162.5292\n",
            "Epoch 128/200\n",
            "40/52 [======================>.......] - ETA: 0s - loss: 195.7439 - mae: 9.5000 - mse: 195.7439\n",
            "Epoch 128: val_loss did not improve from 126.37159\n",
            "52/52 [==============================] - 0s 2ms/step - loss: 196.4728 - mae: 9.5428 - mse: 196.4728 - val_loss: 154.9515 - val_mae: 8.4298 - val_mse: 154.9515\n",
            "Epoch 129/200\n",
            "44/52 [========================>.....] - ETA: 0s - loss: 195.0553 - mae: 9.3769 - mse: 195.0553\n",
            "Epoch 129: val_loss did not improve from 126.37159\n",
            "52/52 [==============================] - 0s 2ms/step - loss: 195.3575 - mae: 9.3374 - mse: 195.3575 - val_loss: 161.4204 - val_mae: 8.6449 - val_mse: 161.4204\n",
            "Epoch 130/200\n",
            "42/52 [=======================>......] - ETA: 0s - loss: 184.6259 - mae: 9.2786 - mse: 184.6259 \n",
            "Epoch 130: val_loss did not improve from 126.37159\n",
            "52/52 [==============================] - 0s 2ms/step - loss: 180.9344 - mae: 9.1789 - mse: 180.9344 - val_loss: 188.2080 - val_mae: 9.2342 - val_mse: 188.2080\n",
            "Epoch 131/200\n",
            "38/52 [====================>.........] - ETA: 0s - loss: 161.5320 - mae: 8.6557 - mse: 161.5320\n",
            "Epoch 131: val_loss did not improve from 126.37159\n",
            "52/52 [==============================] - 0s 2ms/step - loss: 169.5457 - mae: 8.8464 - mse: 169.5457 - val_loss: 151.2895 - val_mae: 8.3603 - val_mse: 151.2895\n",
            "Epoch 132/200\n",
            "43/52 [=======================>......] - ETA: 0s - loss: 177.1734 - mae: 8.8094 - mse: 177.1734 \n",
            "Epoch 132: val_loss did not improve from 126.37159\n",
            "52/52 [==============================] - 0s 2ms/step - loss: 184.6711 - mae: 9.0236 - mse: 184.6711 - val_loss: 142.1583 - val_mae: 8.1646 - val_mse: 142.1583\n",
            "Epoch 133/200\n",
            "39/52 [=====================>........] - ETA: 0s - loss: 183.4788 - mae: 9.2494 - mse: 183.4788\n",
            "Epoch 133: val_loss did not improve from 126.37159\n",
            "52/52 [==============================] - 0s 2ms/step - loss: 195.1971 - mae: 9.2850 - mse: 195.1971 - val_loss: 147.3640 - val_mae: 8.4533 - val_mse: 147.3640\n",
            "Epoch 134/200\n",
            "32/52 [=================>............] - ETA: 0s - loss: 185.1758 - mae: 9.1132 - mse: 185.1758\n",
            "Epoch 134: val_loss did not improve from 126.37159\n",
            "52/52 [==============================] - 0s 2ms/step - loss: 184.6328 - mae: 9.1915 - mse: 184.6328 - val_loss: 201.7236 - val_mae: 9.5809 - val_mse: 201.7236\n",
            "Epoch 135/200\n",
            "41/52 [======================>.......] - ETA: 0s - loss: 185.1301 - mae: 9.0851 - mse: 185.1301 \n",
            "Epoch 135: val_loss did not improve from 126.37159\n",
            "52/52 [==============================] - 0s 2ms/step - loss: 180.3024 - mae: 9.0330 - mse: 180.3024 - val_loss: 149.8968 - val_mae: 8.4672 - val_mse: 149.8968\n",
            "Epoch 136/200\n",
            "35/52 [===================>..........] - ETA: 0s - loss: 179.1557 - mae: 9.0927 - mse: 179.1557\n",
            "Epoch 136: val_loss did not improve from 126.37159\n",
            "52/52 [==============================] - 0s 2ms/step - loss: 175.3325 - mae: 8.9355 - mse: 175.3325 - val_loss: 178.1747 - val_mae: 8.8912 - val_mse: 178.1747\n",
            "Epoch 137/200\n",
            "41/52 [======================>.......] - ETA: 0s - loss: 184.3503 - mae: 9.1565 - mse: 184.3503\n",
            "Epoch 137: val_loss did not improve from 126.37159\n",
            "52/52 [==============================] - 0s 2ms/step - loss: 186.3334 - mae: 9.2599 - mse: 186.3334 - val_loss: 140.8415 - val_mae: 8.2086 - val_mse: 140.8415\n",
            "Epoch 138/200\n",
            "45/52 [========================>.....] - ETA: 0s - loss: 183.2509 - mae: 9.0851 - mse: 183.2509\n",
            "Epoch 138: val_loss did not improve from 126.37159\n",
            "52/52 [==============================] - 0s 2ms/step - loss: 179.0504 - mae: 9.0600 - mse: 179.0504 - val_loss: 145.9750 - val_mae: 8.4540 - val_mse: 145.9750\n",
            "Epoch 139/200\n",
            "41/52 [======================>.......] - ETA: 0s - loss: 181.3413 - mae: 9.1334 - mse: 181.3413\n",
            "Epoch 139: val_loss did not improve from 126.37159\n",
            "52/52 [==============================] - 0s 2ms/step - loss: 175.7132 - mae: 9.0716 - mse: 175.7132 - val_loss: 153.3426 - val_mae: 8.3943 - val_mse: 153.3426\n",
            "Epoch 140/200\n",
            "35/52 [===================>..........] - ETA: 0s - loss: 186.2611 - mae: 9.0640 - mse: 186.2611\n",
            "Epoch 140: val_loss did not improve from 126.37159\n",
            "52/52 [==============================] - 0s 2ms/step - loss: 188.6567 - mae: 9.1390 - mse: 188.6567 - val_loss: 135.1066 - val_mae: 7.9880 - val_mse: 135.1066\n",
            "Epoch 141/200\n",
            "43/52 [=======================>......] - ETA: 0s - loss: 167.3945 - mae: 8.9090 - mse: 167.3945\n",
            "Epoch 141: val_loss did not improve from 126.37159\n",
            "52/52 [==============================] - 0s 2ms/step - loss: 169.5521 - mae: 8.9310 - mse: 169.5521 - val_loss: 131.3765 - val_mae: 7.9302 - val_mse: 131.3765\n",
            "Epoch 142/200\n",
            "33/52 [==================>...........] - ETA: 0s - loss: 160.5158 - mae: 8.6019 - mse: 160.5158 \n",
            "Epoch 142: val_loss did not improve from 126.37159\n",
            "52/52 [==============================] - 0s 2ms/step - loss: 171.2014 - mae: 8.9303 - mse: 171.2014 - val_loss: 139.9906 - val_mae: 8.1438 - val_mse: 139.9906\n",
            "Epoch 143/200\n",
            "32/52 [=================>............] - ETA: 0s - loss: 158.8309 - mae: 8.5437 - mse: 158.8309\n",
            "Epoch 143: val_loss did not improve from 126.37159\n",
            "52/52 [==============================] - 0s 2ms/step - loss: 172.8073 - mae: 8.8407 - mse: 172.8073 - val_loss: 128.2028 - val_mae: 7.7346 - val_mse: 128.2028\n",
            "Epoch 144/200\n",
            "38/52 [====================>.........] - ETA: 0s - loss: 184.0098 - mae: 9.3021 - mse: 184.0098 \n",
            "Epoch 144: val_loss did not improve from 126.37159\n",
            "52/52 [==============================] - 0s 2ms/step - loss: 179.0572 - mae: 9.1742 - mse: 179.0572 - val_loss: 168.7811 - val_mae: 8.7775 - val_mse: 168.7811\n",
            "Epoch 145/200\n",
            "43/52 [=======================>......] - ETA: 0s - loss: 160.3994 - mae: 8.5695 - mse: 160.3994\n",
            "Epoch 145: val_loss did not improve from 126.37159\n",
            "52/52 [==============================] - 0s 2ms/step - loss: 170.9749 - mae: 8.7700 - mse: 170.9749 - val_loss: 174.4072 - val_mae: 8.8607 - val_mse: 174.4072\n",
            "Epoch 146/200\n",
            "42/52 [=======================>......] - ETA: 0s - loss: 163.5209 - mae: 8.8081 - mse: 163.5209\n",
            "Epoch 146: val_loss did not improve from 126.37159\n",
            "52/52 [==============================] - 0s 2ms/step - loss: 167.3088 - mae: 8.9084 - mse: 167.3088 - val_loss: 233.1491 - val_mae: 10.1295 - val_mse: 233.1491\n",
            "Epoch 147/200\n",
            "37/52 [====================>.........] - ETA: 0s - loss: 191.4129 - mae: 9.1753 - mse: 191.4129\n",
            "Epoch 147: val_loss did not improve from 126.37159\n",
            "52/52 [==============================] - 0s 2ms/step - loss: 177.7077 - mae: 8.9225 - mse: 177.7077 - val_loss: 218.1520 - val_mae: 9.8078 - val_mse: 218.1520\n",
            "Epoch 148/200\n",
            "42/52 [=======================>......] - ETA: 0s - loss: 171.0151 - mae: 8.8611 - mse: 171.0151\n",
            "Epoch 148: val_loss did not improve from 126.37159\n",
            "52/52 [==============================] - 0s 2ms/step - loss: 172.7780 - mae: 8.9553 - mse: 172.7780 - val_loss: 187.2274 - val_mae: 9.1686 - val_mse: 187.2274\n",
            "Epoch 149/200\n",
            "40/52 [======================>.......] - ETA: 0s - loss: 167.9689 - mae: 8.7134 - mse: 167.9689 \n",
            "Epoch 149: val_loss did not improve from 126.37159\n",
            "52/52 [==============================] - 0s 2ms/step - loss: 172.9084 - mae: 8.8757 - mse: 172.9084 - val_loss: 199.6771 - val_mae: 9.6068 - val_mse: 199.6771\n",
            "Epoch 150/200\n",
            "41/52 [======================>.......] - ETA: 0s - loss: 214.3714 - mae: 9.4895 - mse: 214.3714\n",
            "Epoch 150: val_loss did not improve from 126.37159\n",
            "52/52 [==============================] - 0s 2ms/step - loss: 207.4507 - mae: 9.4273 - mse: 207.4507 - val_loss: 245.4100 - val_mae: 10.4616 - val_mse: 245.4100\n",
            "Epoch 151/200\n",
            "42/52 [=======================>......] - ETA: 0s - loss: 186.1294 - mae: 9.1686 - mse: 186.1294 \n",
            "Epoch 151: val_loss did not improve from 126.37159\n",
            "52/52 [==============================] - 0s 2ms/step - loss: 184.2949 - mae: 9.1788 - mse: 184.2949 - val_loss: 164.5182 - val_mae: 8.8912 - val_mse: 164.5182\n",
            "Epoch 152/200\n",
            "41/52 [======================>.......] - ETA: 0s - loss: 171.1275 - mae: 8.7819 - mse: 171.1275\n",
            "Epoch 152: val_loss did not improve from 126.37159\n",
            "52/52 [==============================] - 0s 2ms/step - loss: 169.2549 - mae: 8.6872 - mse: 169.2549 - val_loss: 162.9444 - val_mae: 8.7517 - val_mse: 162.9444\n",
            "Epoch 153/200\n",
            "39/52 [=====================>........] - ETA: 0s - loss: 148.7901 - mae: 8.4635 - mse: 148.7901 \n",
            "Epoch 153: val_loss did not improve from 126.37159\n",
            "52/52 [==============================] - 0s 2ms/step - loss: 157.9696 - mae: 8.6180 - mse: 157.9696 - val_loss: 152.1432 - val_mae: 8.4518 - val_mse: 152.1432\n",
            "Epoch 154/200\n",
            "41/52 [======================>.......] - ETA: 0s - loss: 160.0829 - mae: 8.7777 - mse: 160.0829\n",
            "Epoch 154: val_loss did not improve from 126.37159\n",
            "52/52 [==============================] - 0s 2ms/step - loss: 160.9592 - mae: 8.7187 - mse: 160.9592 - val_loss: 161.7187 - val_mae: 8.6378 - val_mse: 161.7187\n",
            "Epoch 155/200\n",
            "40/52 [======================>.......] - ETA: 0s - loss: 176.7379 - mae: 8.8805 - mse: 176.7379\n",
            "Epoch 155: val_loss did not improve from 126.37159\n",
            "52/52 [==============================] - 0s 2ms/step - loss: 174.4160 - mae: 8.7790 - mse: 174.4160 - val_loss: 149.2346 - val_mae: 8.4611 - val_mse: 149.2346\n",
            "Epoch 156/200\n",
            "43/52 [=======================>......] - ETA: 0s - loss: 168.3545 - mae: 8.7883 - mse: 168.3545\n",
            "Epoch 156: val_loss did not improve from 126.37159\n",
            "52/52 [==============================] - 0s 2ms/step - loss: 169.6426 - mae: 8.7545 - mse: 169.6426 - val_loss: 141.9211 - val_mae: 8.2025 - val_mse: 141.9211\n",
            "Epoch 157/200\n",
            "36/52 [===================>..........] - ETA: 0s - loss: 174.4486 - mae: 8.8973 - mse: 174.4486 \n",
            "Epoch 157: val_loss did not improve from 126.37159\n",
            "52/52 [==============================] - 0s 2ms/step - loss: 179.4811 - mae: 8.9848 - mse: 179.4811 - val_loss: 139.8249 - val_mae: 8.0701 - val_mse: 139.8249\n",
            "Epoch 158/200\n",
            "43/52 [=======================>......] - ETA: 0s - loss: 168.5879 - mae: 8.8388 - mse: 168.5879\n",
            "Epoch 158: val_loss did not improve from 126.37159\n",
            "52/52 [==============================] - 0s 2ms/step - loss: 174.0070 - mae: 8.9140 - mse: 174.0070 - val_loss: 134.6561 - val_mae: 7.9814 - val_mse: 134.6561\n",
            "Epoch 159/200\n",
            "43/52 [=======================>......] - ETA: 0s - loss: 160.7289 - mae: 8.4624 - mse: 160.7289\n",
            "Epoch 159: val_loss improved from 126.37159 to 121.75374, saving model to Models/model_MFCC3.hdf5\n",
            "52/52 [==============================] - 0s 2ms/step - loss: 174.6196 - mae: 8.6757 - mse: 174.6196 - val_loss: 121.7537 - val_mae: 7.5925 - val_mse: 121.7537\n",
            "Epoch 160/200\n",
            "37/52 [====================>.........] - ETA: 0s - loss: 166.4998 - mae: 8.9474 - mse: 166.4998\n",
            "Epoch 160: val_loss did not improve from 121.75374\n",
            "52/52 [==============================] - 0s 2ms/step - loss: 172.0820 - mae: 8.8908 - mse: 172.0820 - val_loss: 148.1356 - val_mae: 8.2618 - val_mse: 148.1356\n",
            "Epoch 161/200\n",
            "39/52 [=====================>........] - ETA: 0s - loss: 150.1308 - mae: 8.2666 - mse: 150.1308\n",
            "Epoch 161: val_loss did not improve from 121.75374\n",
            "52/52 [==============================] - 0s 2ms/step - loss: 150.9787 - mae: 8.3529 - mse: 150.9787 - val_loss: 164.0560 - val_mae: 8.5187 - val_mse: 164.0560\n",
            "Epoch 162/200\n",
            "34/52 [==================>...........] - ETA: 0s - loss: 173.6676 - mae: 8.6723 - mse: 173.6676\n",
            "Epoch 162: val_loss did not improve from 121.75374\n",
            "52/52 [==============================] - 0s 2ms/step - loss: 176.5432 - mae: 8.9089 - mse: 176.5432 - val_loss: 189.9731 - val_mae: 9.4162 - val_mse: 189.9731\n",
            "Epoch 163/200\n",
            "42/52 [=======================>......] - ETA: 0s - loss: 173.5044 - mae: 8.7733 - mse: 173.5044\n",
            "Epoch 163: val_loss did not improve from 121.75374\n",
            "52/52 [==============================] - 0s 2ms/step - loss: 176.1254 - mae: 8.7612 - mse: 176.1254 - val_loss: 141.2498 - val_mae: 8.1638 - val_mse: 141.2498\n",
            "Epoch 164/200\n",
            "35/52 [===================>..........] - ETA: 0s - loss: 152.6041 - mae: 8.5389 - mse: 152.6041\n",
            "Epoch 164: val_loss did not improve from 121.75374\n",
            "52/52 [==============================] - 0s 2ms/step - loss: 158.4332 - mae: 8.6167 - mse: 158.4332 - val_loss: 131.7325 - val_mae: 7.9884 - val_mse: 131.7325\n",
            "Epoch 165/200\n",
            "37/52 [====================>.........] - ETA: 0s - loss: 165.1029 - mae: 8.6702 - mse: 165.1029 \n",
            "Epoch 165: val_loss did not improve from 121.75374\n",
            "52/52 [==============================] - 0s 2ms/step - loss: 163.2897 - mae: 8.6465 - mse: 163.2897 - val_loss: 159.7130 - val_mae: 8.6611 - val_mse: 159.7130\n",
            "Epoch 166/200\n",
            "34/52 [==================>...........] - ETA: 0s - loss: 187.5565 - mae: 8.8724 - mse: 187.5565 \n",
            "Epoch 166: val_loss did not improve from 121.75374\n",
            "52/52 [==============================] - 0s 2ms/step - loss: 184.0985 - mae: 8.8963 - mse: 184.0985 - val_loss: 135.7387 - val_mae: 7.9906 - val_mse: 135.7387\n",
            "Epoch 167/200\n",
            "39/52 [=====================>........] - ETA: 0s - loss: 152.4591 - mae: 8.5064 - mse: 152.4591\n",
            "Epoch 167: val_loss did not improve from 121.75374\n",
            "52/52 [==============================] - 0s 2ms/step - loss: 155.3695 - mae: 8.5502 - mse: 155.3695 - val_loss: 141.5531 - val_mae: 8.2360 - val_mse: 141.5531\n",
            "Epoch 168/200\n",
            "38/52 [====================>.........] - ETA: 0s - loss: 161.7491 - mae: 8.7077 - mse: 161.7491\n",
            "Epoch 168: val_loss did not improve from 121.75374\n",
            "52/52 [==============================] - 0s 2ms/step - loss: 158.7100 - mae: 8.6252 - mse: 158.7100 - val_loss: 164.5683 - val_mae: 8.6324 - val_mse: 164.5683\n",
            "Epoch 169/200\n",
            "42/52 [=======================>......] - ETA: 0s - loss: 154.2022 - mae: 8.4278 - mse: 154.2022\n",
            "Epoch 169: val_loss did not improve from 121.75374\n",
            "52/52 [==============================] - 0s 2ms/step - loss: 159.0941 - mae: 8.5782 - mse: 159.0941 - val_loss: 183.9363 - val_mae: 9.1952 - val_mse: 183.9363\n",
            "Epoch 170/200\n",
            "29/52 [===============>..............] - ETA: 0s - loss: 165.4246 - mae: 8.8654 - mse: 165.4246\n",
            "Epoch 170: val_loss did not improve from 121.75374\n",
            "52/52 [==============================] - 0s 3ms/step - loss: 165.1768 - mae: 8.6885 - mse: 165.1768 - val_loss: 192.4662 - val_mae: 9.2954 - val_mse: 192.4662\n",
            "Epoch 171/200\n",
            "41/52 [======================>.......] - ETA: 0s - loss: 169.5562 - mae: 8.7669 - mse: 169.5562\n",
            "Epoch 171: val_loss did not improve from 121.75374\n",
            "52/52 [==============================] - 0s 2ms/step - loss: 168.5114 - mae: 8.7861 - mse: 168.5114 - val_loss: 129.4091 - val_mae: 7.5965 - val_mse: 129.4091\n",
            "Epoch 172/200\n",
            "39/52 [=====================>........] - ETA: 0s - loss: 155.6440 - mae: 8.3850 - mse: 155.6440\n",
            "Epoch 172: val_loss did not improve from 121.75374\n",
            "52/52 [==============================] - 0s 2ms/step - loss: 150.8226 - mae: 8.3193 - mse: 150.8226 - val_loss: 141.9057 - val_mae: 8.0397 - val_mse: 141.9057\n",
            "Epoch 173/200\n",
            "40/52 [======================>.......] - ETA: 0s - loss: 159.7305 - mae: 8.4242 - mse: 159.7305\n",
            "Epoch 173: val_loss did not improve from 121.75374\n",
            "52/52 [==============================] - 0s 2ms/step - loss: 167.8757 - mae: 8.5776 - mse: 167.8757 - val_loss: 136.3198 - val_mae: 7.9648 - val_mse: 136.3198\n",
            "Epoch 174/200\n",
            "43/52 [=======================>......] - ETA: 0s - loss: 162.8028 - mae: 8.6815 - mse: 162.8028\n",
            "Epoch 174: val_loss did not improve from 121.75374\n",
            "52/52 [==============================] - 0s 2ms/step - loss: 160.5070 - mae: 8.6179 - mse: 160.5070 - val_loss: 147.4717 - val_mae: 8.2707 - val_mse: 147.4717\n",
            "Epoch 175/200\n",
            "28/52 [===============>..............] - ETA: 0s - loss: 150.9005 - mae: 8.3988 - mse: 150.9005\n",
            "Epoch 175: val_loss did not improve from 121.75374\n",
            "52/52 [==============================] - 0s 2ms/step - loss: 143.9402 - mae: 8.2014 - mse: 143.9402 - val_loss: 154.9245 - val_mae: 8.4129 - val_mse: 154.9245\n",
            "Epoch 176/200\n",
            "38/52 [====================>.........] - ETA: 0s - loss: 144.5543 - mae: 8.3582 - mse: 144.5543\n",
            "Epoch 176: val_loss did not improve from 121.75374\n",
            "52/52 [==============================] - 0s 2ms/step - loss: 137.6348 - mae: 8.1489 - mse: 137.6348 - val_loss: 189.6530 - val_mae: 9.2596 - val_mse: 189.6530\n",
            "Epoch 177/200\n",
            "39/52 [=====================>........] - ETA: 0s - loss: 149.4336 - mae: 8.2980 - mse: 149.4336\n",
            "Epoch 177: val_loss did not improve from 121.75374\n",
            "52/52 [==============================] - 0s 2ms/step - loss: 153.0716 - mae: 8.3957 - mse: 153.0716 - val_loss: 154.6571 - val_mae: 8.4870 - val_mse: 154.6571\n",
            "Epoch 178/200\n",
            "43/52 [=======================>......] - ETA: 0s - loss: 148.9303 - mae: 8.2495 - mse: 148.9303\n",
            "Epoch 178: val_loss did not improve from 121.75374\n",
            "52/52 [==============================] - 0s 2ms/step - loss: 150.2664 - mae: 8.2351 - mse: 150.2664 - val_loss: 242.7068 - val_mae: 10.2486 - val_mse: 242.7068\n",
            "Epoch 179/200\n",
            "38/52 [====================>.........] - ETA: 0s - loss: 159.8854 - mae: 8.6387 - mse: 159.8854\n",
            "Epoch 179: val_loss did not improve from 121.75374\n",
            "52/52 [==============================] - 0s 2ms/step - loss: 151.6769 - mae: 8.4484 - mse: 151.6769 - val_loss: 164.1519 - val_mae: 8.6070 - val_mse: 164.1519\n",
            "Epoch 180/200\n",
            "40/52 [======================>.......] - ETA: 0s - loss: 157.2809 - mae: 8.4921 - mse: 157.2809\n",
            "Epoch 180: val_loss did not improve from 121.75374\n",
            "52/52 [==============================] - 0s 2ms/step - loss: 153.5783 - mae: 8.4297 - mse: 153.5783 - val_loss: 143.6308 - val_mae: 8.1469 - val_mse: 143.6308\n",
            "Epoch 181/200\n",
            "37/52 [====================>.........] - ETA: 0s - loss: 159.8091 - mae: 8.5438 - mse: 159.8091\n",
            "Epoch 181: val_loss improved from 121.75374 to 115.30562, saving model to Models/model_MFCC3.hdf5\n",
            "52/52 [==============================] - 0s 3ms/step - loss: 170.6569 - mae: 8.7556 - mse: 170.6569 - val_loss: 115.3056 - val_mae: 7.2615 - val_mse: 115.3056\n",
            "Epoch 182/200\n",
            "40/52 [======================>.......] - ETA: 0s - loss: 166.5296 - mae: 8.7397 - mse: 166.5296 \n",
            "Epoch 182: val_loss did not improve from 115.30562\n",
            "52/52 [==============================] - 0s 2ms/step - loss: 160.8211 - mae: 8.5316 - mse: 160.8211 - val_loss: 137.6925 - val_mae: 8.1233 - val_mse: 137.6925\n",
            "Epoch 183/200\n",
            "38/52 [====================>.........] - ETA: 0s - loss: 183.3015 - mae: 9.0206 - mse: 183.3015\n",
            "Epoch 183: val_loss did not improve from 115.30562\n",
            "52/52 [==============================] - 0s 2ms/step - loss: 172.5266 - mae: 8.7712 - mse: 172.5266 - val_loss: 125.2332 - val_mae: 7.6416 - val_mse: 125.2332\n",
            "Epoch 184/200\n",
            "32/52 [=================>............] - ETA: 0s - loss: 189.7904 - mae: 9.2339 - mse: 189.7904 \n",
            "Epoch 184: val_loss did not improve from 115.30562\n",
            "52/52 [==============================] - 0s 2ms/step - loss: 172.3023 - mae: 8.8276 - mse: 172.3023 - val_loss: 123.4378 - val_mae: 7.7534 - val_mse: 123.4378\n",
            "Epoch 185/200\n",
            "43/52 [=======================>......] - ETA: 0s - loss: 144.2814 - mae: 8.2329 - mse: 144.2814\n",
            "Epoch 185: val_loss did not improve from 115.30562\n",
            "52/52 [==============================] - 0s 2ms/step - loss: 151.5566 - mae: 8.3445 - mse: 151.5566 - val_loss: 168.2582 - val_mae: 8.7519 - val_mse: 168.2582\n",
            "Epoch 186/200\n",
            "39/52 [=====================>........] - ETA: 0s - loss: 162.9145 - mae: 8.5143 - mse: 162.9145\n",
            "Epoch 186: val_loss did not improve from 115.30562\n",
            "52/52 [==============================] - 0s 2ms/step - loss: 159.6909 - mae: 8.4433 - mse: 159.6909 - val_loss: 127.2407 - val_mae: 7.6779 - val_mse: 127.2407\n",
            "Epoch 187/200\n",
            "37/52 [====================>.........] - ETA: 0s - loss: 146.1045 - mae: 8.2790 - mse: 146.1045\n",
            "Epoch 187: val_loss did not improve from 115.30562\n",
            "52/52 [==============================] - 0s 2ms/step - loss: 147.3135 - mae: 8.3073 - mse: 147.3135 - val_loss: 176.9568 - val_mae: 8.9688 - val_mse: 176.9568\n",
            "Epoch 188/200\n",
            "41/52 [======================>.......] - ETA: 0s - loss: 152.5136 - mae: 8.1030 - mse: 152.5136\n",
            "Epoch 188: val_loss did not improve from 115.30562\n",
            "52/52 [==============================] - 0s 2ms/step - loss: 154.4202 - mae: 8.2089 - mse: 154.4202 - val_loss: 159.1433 - val_mae: 8.4613 - val_mse: 159.1433\n",
            "Epoch 189/200\n",
            "37/52 [====================>.........] - ETA: 0s - loss: 165.3286 - mae: 8.5084 - mse: 165.3286\n",
            "Epoch 189: val_loss did not improve from 115.30562\n",
            "52/52 [==============================] - 0s 2ms/step - loss: 161.1677 - mae: 8.5524 - mse: 161.1677 - val_loss: 141.4742 - val_mae: 8.0140 - val_mse: 141.4742\n",
            "Epoch 190/200\n",
            "38/52 [====================>.........] - ETA: 0s - loss: 142.5807 - mae: 8.0231 - mse: 142.5807\n",
            "Epoch 190: val_loss did not improve from 115.30562\n",
            "52/52 [==============================] - 0s 2ms/step - loss: 140.9986 - mae: 8.0071 - mse: 140.9986 - val_loss: 170.9564 - val_mae: 8.9399 - val_mse: 170.9564\n",
            "Epoch 191/200\n",
            "36/52 [===================>..........] - ETA: 0s - loss: 140.7607 - mae: 8.0439 - mse: 140.7607\n",
            "Epoch 191: val_loss did not improve from 115.30562\n",
            "52/52 [==============================] - 0s 2ms/step - loss: 144.1004 - mae: 8.1389 - mse: 144.1004 - val_loss: 136.0580 - val_mae: 7.9736 - val_mse: 136.0580\n",
            "Epoch 192/200\n",
            "42/52 [=======================>......] - ETA: 0s - loss: 130.0012 - mae: 7.8097 - mse: 130.0012\n",
            "Epoch 192: val_loss did not improve from 115.30562\n",
            "52/52 [==============================] - 0s 2ms/step - loss: 139.5379 - mae: 8.0320 - mse: 139.5379 - val_loss: 164.6198 - val_mae: 8.6392 - val_mse: 164.6198\n",
            "Epoch 193/200\n",
            "42/52 [=======================>......] - ETA: 0s - loss: 133.3659 - mae: 7.9282 - mse: 133.3659 \n",
            "Epoch 193: val_loss did not improve from 115.30562\n",
            "52/52 [==============================] - 0s 2ms/step - loss: 142.1448 - mae: 8.1368 - mse: 142.1448 - val_loss: 166.4341 - val_mae: 8.5980 - val_mse: 166.4341\n",
            "Epoch 194/200\n",
            "43/52 [=======================>......] - ETA: 0s - loss: 136.4642 - mae: 7.9933 - mse: 136.4642\n",
            "Epoch 194: val_loss did not improve from 115.30562\n",
            "52/52 [==============================] - 0s 2ms/step - loss: 136.8208 - mae: 7.9809 - mse: 136.8208 - val_loss: 157.1613 - val_mae: 8.4043 - val_mse: 157.1613\n",
            "Epoch 195/200\n",
            "35/52 [===================>..........] - ETA: 0s - loss: 132.1212 - mae: 7.7913 - mse: 132.1212\n",
            "Epoch 195: val_loss did not improve from 115.30562\n",
            "52/52 [==============================] - 0s 2ms/step - loss: 138.9903 - mae: 7.9486 - mse: 138.9903 - val_loss: 176.7437 - val_mae: 8.8013 - val_mse: 176.7437\n",
            "Epoch 196/200\n",
            "33/52 [==================>...........] - ETA: 0s - loss: 167.7079 - mae: 8.7657 - mse: 167.7079\n",
            "Epoch 196: val_loss did not improve from 115.30562\n",
            "52/52 [==============================] - 0s 2ms/step - loss: 155.8003 - mae: 8.3973 - mse: 155.8003 - val_loss: 137.9624 - val_mae: 8.1160 - val_mse: 137.9624\n",
            "Epoch 197/200\n",
            "42/52 [=======================>......] - ETA: 0s - loss: 148.1588 - mae: 8.2186 - mse: 148.1588 \n",
            "Epoch 197: val_loss did not improve from 115.30562\n",
            "52/52 [==============================] - 0s 2ms/step - loss: 144.5132 - mae: 8.1391 - mse: 144.5132 - val_loss: 178.5132 - val_mae: 8.9241 - val_mse: 178.5132\n",
            "Epoch 198/200\n",
            "38/52 [====================>.........] - ETA: 0s - loss: 146.3610 - mae: 8.1156 - mse: 146.3610\n",
            "Epoch 198: val_loss did not improve from 115.30562\n",
            "52/52 [==============================] - 0s 2ms/step - loss: 150.6830 - mae: 8.1862 - mse: 150.6830 - val_loss: 167.3955 - val_mae: 8.6931 - val_mse: 167.3955\n",
            "Epoch 199/200\n",
            "38/52 [====================>.........] - ETA: 0s - loss: 140.6172 - mae: 7.9987 - mse: 140.6172\n",
            "Epoch 199: val_loss did not improve from 115.30562\n",
            "52/52 [==============================] - 0s 2ms/step - loss: 133.7590 - mae: 7.8321 - mse: 133.7590 - val_loss: 192.1786 - val_mae: 9.0175 - val_mse: 192.1786\n",
            "Epoch 200/200\n",
            "42/52 [=======================>......] - ETA: 0s - loss: 143.1402 - mae: 8.0493 - mse: 143.1402\n",
            "Epoch 200: val_loss did not improve from 115.30562\n",
            "52/52 [==============================] - 0s 2ms/step - loss: 146.3652 - mae: 8.1463 - mse: 146.3652 - val_loss: 212.6069 - val_mae: 9.5984 - val_mse: 212.6069\n"
          ]
        }
      ]
    },
    {
      "cell_type": "markdown",
      "source": [
        "### Results of accuracy"
      ],
      "metadata": {
        "id": "kxVX_bzAvr2V"
      }
    },
    {
      "cell_type": "code",
      "source": [
        "plt.plot(history_model_MFCC.history['loss'], label='train loss');\n",
        "plt.plot(history_model_MFCC.history['val_loss'], label='evaluation loss');\n",
        "plt.xlabel(\"Epochs\")\n",
        "plt.ylabel(\"Loss\")\n",
        "plt.title(\"Loss history in Training\")\n",
        "plt.legend()\n",
        "plt.show();\n",
        "\n",
        "plt.plot(history_model_MFCC.history['mse'], label='train mse');\n",
        "plt.plot(history_model_MFCC.history['val_mse'], label='evaluation_mse');\n",
        "plt.xlabel(\"Epochs\")\n",
        "plt.ylabel(\"MSE\")\n",
        "plt.title(\"Mean Squared Error history in Training\")\n",
        "plt.legend()\n",
        "plt.show()"
      ],
      "metadata": {
        "colab": {
          "base_uri": "https://localhost:8080/",
          "height": 573
        },
        "id": "0pp-Hq6kEOPI",
        "outputId": "5c5b6dab-b486-48e1-d5e5-d61fbc5c9ea3"
      },
      "execution_count": 61,
      "outputs": [
        {
          "output_type": "display_data",
          "data": {
            "text/plain": [
              "<Figure size 432x288 with 1 Axes>"
            ],
            "image/png": "[encoded data removed]"
          },
          "metadata": {
            "needs_background": "light"
          }
        },
        {
          "output_type": "display_data",
          "data": {
            "text/plain": [
              "<Figure size 432x288 with 1 Axes>"
            ],
            "image/png": "[encoded data removed]"
          },
          "metadata": {
            "needs_background": "light"
          }
        }
      ]
    },
    {
      "cell_type": "code",
      "source": [
        "plt.plot(history_model_MFCC.history['mae'], label='train mae');\n",
        "plt.plot(history_model_MFCC.history['val_mae'], label='evaluation_mae');\n",
        "plt.xlabel(\"Epochs\")\n",
        "plt.ylabel(\"MAE\")\n",
        "plt.title(\"Mean Absolute Error history in Training\")\n",
        "plt.legend()\n",
        "plt.show()"
      ],
      "metadata": {
        "colab": {
          "base_uri": "https://localhost:8080/",
          "height": 295
        },
        "id": "PnvSOTcqDFnM",
        "outputId": "0a99fd36-e8ed-44e8-ff2d-38765a59460e"
      },
      "execution_count": 62,
      "outputs": [
        {
          "output_type": "display_data",
          "data": {
            "text/plain": [
              "<Figure size 432x288 with 1 Axes>"
            ],
            "image/png": "[encoded data removed]"
          },
          "metadata": {
            "needs_background": "light"
          }
        }
      ]
    },
    {
      "cell_type": "code",
      "source": [
        "loss, mae, mse = model_MFCC.evaluate(x_test, y_test)\n",
        "loss, mae, mse"
      ],
      "metadata": {
        "id": "soO5kiqpEgfg",
        "colab": {
          "base_uri": "https://localhost:8080/"
        },
        "outputId": "5dbce90c-4269-41ad-deb7-184edc3eb648"
      },
      "execution_count": 26,
      "outputs": [
        {
          "output_type": "stream",
          "name": "stdout",
          "text": [
            "13/13 [==============================] - 0s 1ms/step - loss: 212.6069 - mae: 9.5984 - mse: 212.6069\n"
          ]
        },
        {
          "output_type": "execute_result",
          "data": {
            "text/plain": [
              "(212.60687255859375, 9.59838581085205, 212.60687255859375)"
            ]
          },
          "metadata": {},
          "execution_count": 26
        }
      ]
    },
    {
      "cell_type": "code",
      "source": [
        "#@title\n",
        "result = model_MFCC.predict(np.reshape(x_test[0],[1,40]))\n",
        "int(result[0])"
      ],
      "metadata": {
        "colab": {
          "base_uri": "https://localhost:8080/"
        },
        "id": "eeOREzyOEmdh",
        "outputId": "9be343b5-8610-4ad6-c9fb-6ca1de7c010c",
        "cellView": "form"
      },
      "execution_count": null,
      "outputs": [
        {
          "output_type": "stream",
          "name": "stdout",
          "text": [
            "1/1 [==============================] - 0s 72ms/step\n"
          ]
        },
        {
          "output_type": "execute_result",
          "data": {
            "text/plain": [
              "17"
            ]
          },
          "metadata": {},
          "execution_count": 124
        }
      ]
    },
    {
      "cell_type": "code",
      "source": [
        "#@title\n",
        "result = model_MFCC.predict(x_test[0:30])\n",
        "result"
      ],
      "metadata": {
        "colab": {
          "base_uri": "https://localhost:8080/"
        },
        "id": "OxcP_M1nw9lc",
        "outputId": "efd78399-2625-464a-8225-32c2b9e7e9a7",
        "cellView": "form"
      },
      "execution_count": null,
      "outputs": [
        {
          "output_type": "stream",
          "name": "stdout",
          "text": [
            "1/1 [==============================] - 0s 17ms/step\n"
          ]
        },
        {
          "output_type": "execute_result",
          "data": {
            "text/plain": [
              "array([[17.296782 ],\n",
              "       [17.699045 ],\n",
              "       [23.297766 ],\n",
              "       [45.71334  ],\n",
              "       [92.81062  ],\n",
              "       [38.510242 ],\n",
              "       [11.15623  ],\n",
              "       [75.70886  ],\n",
              "       [62.713684 ],\n",
              "       [93.18596  ],\n",
              "       [38.08197  ],\n",
              "       [75.981575 ],\n",
              "       [73.79611  ],\n",
              "       [27.631521 ],\n",
              "       [37.81626  ],\n",
              "       [39.52239  ],\n",
              "       [79.47704  ],\n",
              "       [11.264177 ],\n",
              "       [ 5.227131 ],\n",
              "       [13.008332 ],\n",
              "       [52.506424 ],\n",
              "       [91.81598  ],\n",
              "       [ 4.5381703],\n",
              "       [71.110405 ],\n",
              "       [40.320705 ],\n",
              "       [13.480796 ],\n",
              "       [17.293156 ],\n",
              "       [ 9.061843 ],\n",
              "       [10.962004 ],\n",
              "       [ 3.89249  ]], dtype=float32)"
            ]
          },
          "metadata": {},
          "execution_count": 125
        }
      ]
    },
    {
      "cell_type": "code",
      "source": [
        "#@title\n",
        "y_test[:30]"
      ],
      "metadata": {
        "colab": {
          "base_uri": "https://localhost:8080/"
        },
        "id": "1IxIfGKKFtqy",
        "outputId": "c22e791c-576c-4d52-fccd-a6251887a581",
        "cellView": "form"
      },
      "execution_count": null,
      "outputs": [
        {
          "output_type": "execute_result",
          "data": {
            "text/plain": [
              "array([ 15,  24,  20,  28,  90,  28,   7, 120,  55, 150, 110, 110,  90,\n",
              "        35,  45,  45,  90,  12,   3,  10,  50, 120,   3,  80,  24,  16,\n",
              "        14,   7,  10,   6])"
            ]
          },
          "metadata": {},
          "execution_count": 126
        }
      ]
    },
    {
      "cell_type": "markdown",
      "source": [
        "## Load DNN Model"
      ],
      "metadata": {
        "id": "dAierzmMv53V"
      }
    },
    {
      "cell_type": "code",
      "source": [
        "model_loaded = tf.keras.models.load_model('Models/model_MFCC3.hdf5')"
      ],
      "metadata": {
        "id": "y2VBUkkMF03K"
      },
      "execution_count": 27,
      "outputs": []
    },
    {
      "cell_type": "markdown",
      "source": [
        "### Results of precision"
      ],
      "metadata": {
        "id": "nbSLcfFbv88d"
      }
    },
    {
      "cell_type": "code",
      "source": [
        "loss, mae, mse = model_loaded.evaluate(x_test, y_test)\n",
        "loss, mae, mse"
      ],
      "metadata": {
        "colab": {
          "base_uri": "https://localhost:8080/"
        },
        "id": "-WN3zxXJnGot",
        "outputId": "351da4d6-6eb4-4e76-c850-93bd4484f7d8"
      },
      "execution_count": 28,
      "outputs": [
        {
          "output_type": "stream",
          "name": "stdout",
          "text": [
            "13/13 [==============================] - 0s 1ms/step - loss: 115.3056 - mae: 7.2615 - mse: 115.3056\n"
          ]
        },
        {
          "output_type": "execute_result",
          "data": {
            "text/plain": [
              "(115.30561828613281, 7.261507987976074, 115.30561828613281)"
            ]
          },
          "metadata": {},
          "execution_count": 28
        }
      ]
    },
    {
      "cell_type": "code",
      "source": [
        "#@title\n",
        "result = model_loaded.predict(np.reshape(x_test[0],[1,40]))\n",
        "int(result[0])"
      ],
      "metadata": {
        "colab": {
          "base_uri": "https://localhost:8080/"
        },
        "outputId": "728e8a9b-3fa8-4300-8416-320f9051e09d",
        "id": "h-iDH8dUnM8J"
      },
      "execution_count": 29,
      "outputs": [
        {
          "output_type": "stream",
          "name": "stdout",
          "text": [
            "1/1 [==============================] - 0s 78ms/step\n"
          ]
        },
        {
          "output_type": "execute_result",
          "data": {
            "text/plain": [
              "8"
            ]
          },
          "metadata": {},
          "execution_count": 29
        }
      ]
    },
    {
      "cell_type": "code",
      "source": [
        "#@title\n",
        "result = model_loaded.predict(x_test[0:30])\n",
        "print((np.rint(result)).astype(int))"
      ],
      "metadata": {
        "colab": {
          "base_uri": "https://localhost:8080/"
        },
        "outputId": "6a40ae26-0b89-47ae-b23f-5e3528c5febe",
        "id": "HEVRu7XZnM8K"
      },
      "execution_count": 30,
      "outputs": [
        {
          "output_type": "stream",
          "name": "stdout",
          "text": [
            "1/1 [==============================] - 0s 18ms/step\n",
            "[[  9]\n",
            " [ 24]\n",
            " [  4]\n",
            " [ 15]\n",
            " [139]\n",
            " [ 99]\n",
            " [114]\n",
            " [  9]\n",
            " [ 89]\n",
            " [ 31]\n",
            " [  8]\n",
            " [107]\n",
            " [ 15]\n",
            " [ 17]\n",
            " [ 14]\n",
            " [ 16]\n",
            " [ 64]\n",
            " [ 12]\n",
            " [ 40]\n",
            " [ 12]\n",
            " [ 57]\n",
            " [ 20]\n",
            " [  6]\n",
            " [ 35]\n",
            " [ 63]\n",
            " [ 43]\n",
            " [130]\n",
            " [ 26]\n",
            " [ 18]\n",
            " [ 31]]\n"
          ]
        }
      ]
    },
    {
      "cell_type": "code",
      "source": [
        "#@title\n",
        "y_test[:30]"
      ],
      "metadata": {
        "colab": {
          "base_uri": "https://localhost:8080/"
        },
        "id": "ykti4m66nK3h",
        "outputId": "dbf728ab-ae87-4b89-8bd6-295082f7b84f",
        "cellView": "form"
      },
      "execution_count": 31,
      "outputs": [
        {
          "output_type": "execute_result",
          "data": {
            "text/plain": [
              "array([  8,  35,   3,   4, 120, 100, 120,   8,  80,  60,   5, 100,  18,\n",
              "        13,  19,  14,  65,  13,  45,   6,  70,  26,   2,  30,  70,  50,\n",
              "       130,  18,  17,  30])"
            ]
          },
          "metadata": {},
          "execution_count": 31
        }
      ]
    },
    {
      "cell_type": "code",
      "source": [
        "def moving_window(y_test, y_pred, size):\n",
        "  idx_sort = np.argsort(y_test)\n",
        "  y_test = y_test[idx_sort]\n",
        "  y_pred = y_pred[idx_sort]\n",
        "  mov_test = []\n",
        "  mov_pred = []\n",
        "  for i in range(len(y_test) - (size-1)):\n",
        "    mov_test.append(y_test[i:i+size])\n",
        "    mov_pred.append(y_pred[i:i+size])\n",
        "  return mov_test,mov_pred"
      ],
      "metadata": {
        "id": "BY0C8TPSt4mt"
      },
      "execution_count": 33,
      "outputs": []
    },
    {
      "cell_type": "code",
      "source": [
        "def local_MSE(yg_test,yg_pred):\n",
        "  l_MSE = []\n",
        "  for idx, m_t in enumerate(yg_test):\n",
        "    l_MSE.append(mean_squared_error(m_t,yg_pred[idx]))\n",
        "  return np.array(l_MSE)\n",
        "\n",
        "def local_MAE(yg_test,yg_pred):\n",
        "  l_MSE = []\n",
        "  for idx, m_t in enumerate(yg_test):\n",
        "    l_MSE.append(mean_absolute_error(m_t,yg_pred[idx]))\n",
        "  return np.array(l_MSE)\n"
      ],
      "metadata": {
        "id": "yq5LnC8OKIR_"
      },
      "execution_count": 34,
      "outputs": []
    },
    {
      "cell_type": "code",
      "source": [
        "def own_grouping(y_test, y_pred, o_sz_group, sz_split, grouping):\n",
        "  idx_sort = np.argsort(y_test)\n",
        "  y_test = y_test[idx_sort]\n",
        "  y_pred = y_pred[idx_sort]\n",
        "  yg_test = []\n",
        "  yg_pred = []\n",
        "  size_group = int(o_sz_group*sz_split)\n",
        "  idx_prev = 0\n",
        "  for i in grouping:\n",
        "    idx_n = i*size_group\n",
        "    yg_test.append(y_test[idx_prev:idx_n])\n",
        "    yg_pred.append(y_pred[idx_prev:idx_n])\n",
        "    idx_prev = idx_n\n",
        "  return yg_test,yg_pred"
      ],
      "metadata": {
        "id": "B2qI4D9KO2kv"
      },
      "execution_count": 35,
      "outputs": []
    },
    {
      "cell_type": "code",
      "source": [
        "def moving_window_average(array,size):\n",
        "  #idx_sort = np.argsort(array)\n",
        "  #array = array[idx_sort]\n",
        "  mov_avg_array = []\n",
        "  for i in range(len(array) - (size-1)):\n",
        "    #print(array[i:i+size])\n",
        "    mov_avg_array.append(np.mean(array[i:i+size]))\n",
        "  \n",
        "  return mov_avg_array"
      ],
      "metadata": {
        "id": "fJJJJzgH0TBv"
      },
      "execution_count": 36,
      "outputs": []
    },
    {
      "cell_type": "code",
      "source": [
        "result = model_loaded.predict(x_test)"
      ],
      "metadata": {
        "colab": {
          "base_uri": "https://localhost:8080/"
        },
        "id": "mitYSrkMRGYn",
        "outputId": "d68ce01e-e659-482c-ae6c-582d6485602a"
      },
      "execution_count": 37,
      "outputs": [
        {
          "output_type": "stream",
          "name": "stdout",
          "text": [
            "13/13 [==============================] - 0s 2ms/step\n"
          ]
        }
      ]
    },
    {
      "cell_type": "code",
      "source": [
        "grouping = [20, 25, 33, 41]\n",
        "ygo_test,ygo_pred = own_grouping(y_test, result, 25, 0.2, grouping)"
      ],
      "metadata": {
        "id": "lVcqejxORDIH"
      },
      "execution_count": 38,
      "outputs": []
    },
    {
      "cell_type": "code",
      "source": [
        "grouped_MSE = local_MSE(ygo_test,ygo_pred)\n",
        "grouped_RMSE = np.sqrt(grouped_MSE)\n",
        "increments = [1, 2, 5, 10]\n",
        "plt.figure(num=1,figsize=(8, 5))\n",
        "plt.plot(increments,grouped_RMSE, '-o')\n",
        "plt.xlabel(\"Increment\")\n",
        "plt.ylabel(\"RMSE\")\n",
        "plt.title(\"Grouped RMSE by increment\")"
      ],
      "metadata": {
        "colab": {
          "base_uri": "https://localhost:8080/",
          "height": 367
        },
        "id": "2i-Tn4tZSNRH",
        "outputId": "bd115cef-7ef1-4d44-d233-25d428d4e53a"
      },
      "execution_count": 39,
      "outputs": [
        {
          "output_type": "execute_result",
          "data": {
            "text/plain": [
              "Text(0.5, 1.0, 'Grouped RMSE by increment')"
            ]
          },
          "metadata": {},
          "execution_count": 39
        },
        {
          "output_type": "display_data",
          "data": {
            "text/plain": [
              "<Figure size 576x360 with 1 Axes>"
            ],
            "image/png": "[encoded data removed]"
          },
          "metadata": {
            "needs_background": "light"
          }
        }
      ]
    },
    {
      "cell_type": "code",
      "source": [
        "grouped_MAE = local_MAE(ygo_test,ygo_pred)\n",
        "plt.figure(num=1,figsize=(8, 5))\n",
        "increments = [1, 2, 5, 10]\n",
        "plt.plot(increments,grouped_MAE, '-o')\n",
        "plt.xlabel(\"Increment\")\n",
        "plt.ylabel(\"MAE\")\n",
        "plt.title(\"Grouped MAE by increment\")"
      ],
      "metadata": {
        "colab": {
          "base_uri": "https://localhost:8080/",
          "height": 367
        },
        "id": "acPgK9SoTRSP",
        "outputId": "0da9a9b3-28a7-4d9f-f6aa-c744c29aedaa"
      },
      "execution_count": 40,
      "outputs": [
        {
          "output_type": "execute_result",
          "data": {
            "text/plain": [
              "Text(0.5, 1.0, 'Grouped MAE by increment')"
            ]
          },
          "metadata": {},
          "execution_count": 40
        },
        {
          "output_type": "display_data",
          "data": {
            "text/plain": [
              "<Figure size 576x360 with 1 Axes>"
            ],
            "image/png": "[encoded data removed]"
          },
          "metadata": {
            "needs_background": "light"
          }
        }
      ]
    },
    {
      "cell_type": "code",
      "source": [
        "def own_grouping2(y_test, y_pred, o_sz_group, sz_split):\n",
        "  idx_sort = np.argsort(y_test)\n",
        "  y_test = y_test[idx_sort]\n",
        "  y_pred = y_pred[idx_sort]\n",
        "  yg_test = []\n",
        "  yg_pred = []\n",
        "  size_group = int(o_sz_group*sz_split)\n",
        "  idx_prev = 0\n",
        "  for i in range(size_group,len(y_test)+1,size_group):\n",
        "    idx_n = i\n",
        "    yg_test.append(y_test[idx_prev:idx_n])\n",
        "    yg_pred.append(y_pred[idx_prev:idx_n])\n",
        "    idx_prev = idx_n\n",
        "  return yg_test,yg_pred"
      ],
      "metadata": {
        "id": "lQc0x6NCYNmI"
      },
      "execution_count": 43,
      "outputs": []
    },
    {
      "cell_type": "code",
      "source": [
        "ygo_test2,ygo_pred2 = own_grouping2(y_test, result, 50, 0.2)"
      ],
      "metadata": {
        "id": "DtwedO_FYSOo"
      },
      "execution_count": 47,
      "outputs": []
    },
    {
      "cell_type": "code",
      "source": [
        "mean_ygo_test2"
      ],
      "metadata": {
        "colab": {
          "base_uri": "https://localhost:8080/"
        },
        "id": "GnLutMaJ8sB1",
        "outputId": "43ddb2dc-89cb-44aa-f5f3-d14514010620"
      },
      "execution_count": 52,
      "outputs": [
        {
          "output_type": "execute_result",
          "data": {
            "text/plain": [
              "array([  1.,   2.,   3.,   4.,   5.,   6.,   7.,   8.,   9.,  10.,  11.,\n",
              "        12.,  13.,  14.,  15.,  16.,  17.,  18.,  19.,  20.,  22.,  24.,\n",
              "        26.,  28.,  30.,  35.,  40.,  45.,  50.,  55.,  60.,  65.,  70.,\n",
              "        80.,  90., 100., 110., 120., 130., 140., 150.])"
            ]
          },
          "metadata": {},
          "execution_count": 52
        }
      ]
    },
    {
      "cell_type": "code",
      "source": [
        "mean_ygo_pred2"
      ],
      "metadata": {
        "colab": {
          "base_uri": "https://localhost:8080/"
        },
        "id": "F0wFbjfH8sn9",
        "outputId": "68129484-73d5-4c99-cc45-d41b4ab1f22b"
      },
      "execution_count": 53,
      "outputs": [
        {
          "output_type": "execute_result",
          "data": {
            "text/plain": [
              "array([[  5.6004877],\n",
              "       [  4.5312624],\n",
              "       [  8.178307 ],\n",
              "       [  5.6828723],\n",
              "       [  7.153135 ],\n",
              "       [  9.1319895],\n",
              "       [  8.417605 ],\n",
              "       [ 10.402005 ],\n",
              "       [ 10.229288 ],\n",
              "       [ 11.149071 ],\n",
              "       [ 13.281367 ],\n",
              "       [ 13.706828 ],\n",
              "       [ 14.5117035],\n",
              "       [ 14.487467 ],\n",
              "       [ 17.235079 ],\n",
              "       [ 16.545488 ],\n",
              "       [ 17.835392 ],\n",
              "       [ 16.070835 ],\n",
              "       [ 15.088121 ],\n",
              "       [ 25.441982 ],\n",
              "       [ 19.335194 ],\n",
              "       [ 22.460218 ],\n",
              "       [ 20.390306 ],\n",
              "       [ 28.050058 ],\n",
              "       [ 27.447002 ],\n",
              "       [ 25.853067 ],\n",
              "       [ 32.935028 ],\n",
              "       [ 43.75417  ],\n",
              "       [ 44.770855 ],\n",
              "       [ 55.361217 ],\n",
              "       [ 56.08423  ],\n",
              "       [ 70.76647  ],\n",
              "       [ 61.061047 ],\n",
              "       [ 87.06523  ],\n",
              "       [ 89.24727  ],\n",
              "       [105.08588  ],\n",
              "       [100.141655 ],\n",
              "       [111.049484 ],\n",
              "       [120.949425 ],\n",
              "       [123.339066 ],\n",
              "       [133.24838  ]], dtype=float32)"
            ]
          },
          "metadata": {},
          "execution_count": 53
        }
      ]
    },
    {
      "cell_type": "code",
      "source": [
        "mean_ygo_test2 = np.mean(ygo_test2,axis=1)\n",
        "mean_ygo_pred2 = np.mean(ygo_pred2,axis=1)\n",
        "std_ygo_pred2 = np.std(ygo_pred2,axis=1)\n",
        "x_line = np.linspace(0,151,1000)\n",
        "y_line = np.linspace(0,151,1000)\n",
        "plt.figure(num=1,figsize=(8, 5))\n",
        "plt.errorbar(mean_ygo_test2,mean_ygo_pred2, yerr=np.reshape(std_ygo_pred2, (41)), fmt='o',ecolor='g', capthick=1)\n",
        "plt.plot(x_line,y_line, c='red')\n",
        "plt.xlabel(\"Real Number of matches\")\n",
        "plt.ylabel(\"Predicted Number of matches\")\n",
        "plt.title(\"Prediction of the number of matches\")\n",
        "plt.grid()"
      ],
      "metadata": {
        "colab": {
          "base_uri": "https://localhost:8080/",
          "height": 350
        },
        "id": "pSIWJfSL4NTn",
        "outputId": "741bdaf2-3ae1-42a1-c831-3b6d6215f772"
      },
      "execution_count": 51,
      "outputs": [
        {
          "output_type": "display_data",
          "data": {
            "text/plain": [
              "<Figure size 576x360 with 1 Axes>"
            ],
            "image/png": "[encoded data removed]"
          },
          "metadata": {
            "needs_background": "light"
          }
        }
      ]
    },
    {
      "cell_type": "code",
      "source": [
        "mean_ygo_test2 = np.mean(ygo_test2,axis=1)\n",
        "mean_ygo_pred2 = np.mean(ygo_pred2,axis=1)\n",
        "std_ygo_pred2 = np.std(ygo_pred2,axis=1)\n",
        "x_line = np.linspace(0,20,1000)\n",
        "y_line = np.linspace(0,20,1000)\n",
        "plt.figure(num=1,figsize=(8, 5))\n",
        "plt.errorbar(mean_ygo_test2[:20],mean_ygo_pred2[:20], yerr=np.reshape(std_ygo_pred2[:20], (20)), fmt='o',ecolor='g', capthick=1)\n",
        "plt.plot(x_line,y_line, c='red')\n",
        "plt.xlabel(\"Real Number of matches\")\n",
        "plt.ylabel(\"Predicted Number of matches\")\n",
        "plt.title(\"Prediction of the number of matches\")\n",
        "plt.grid()"
      ],
      "metadata": {
        "colab": {
          "base_uri": "https://localhost:8080/",
          "height": 350
        },
        "id": "uMpHdN4gIPwW",
        "outputId": "6443b4c4-6911-4e04-cda7-e339d5c9ed60"
      },
      "execution_count": 55,
      "outputs": [
        {
          "output_type": "display_data",
          "data": {
            "text/plain": [
              "<Figure size 576x360 with 1 Axes>"
            ],
            "image/png": "[encoded data removed]"
          },
          "metadata": {
            "needs_background": "light"
          }
        }
      ]
    },
    {
      "cell_type": "code",
      "source": [
        "grouped_MSE2 = local_MSE(ygo_test2,ygo_pred2)\n",
        "grouped_RMSE2 = np.sqrt(grouped_MSE2)\n",
        "x=np.concatenate([np.arange(1,21,1),np.arange(22,31,2),np.arange(35,71,5),np.arange(80,151,10)])\n",
        "plt.figure(num=1,figsize=(8, 5))\n",
        "plt.plot(x,grouped_RMSE2, '-o')\n",
        "plt.xlabel(\"Number of matches\")\n",
        "plt.ylabel(\"RMSE\")\n",
        "plt.title(\"Grouped RMSE by number of matches\")\n",
        "plt.grid()"
      ],
      "metadata": {
        "colab": {
          "base_uri": "https://localhost:8080/",
          "height": 350
        },
        "id": "jI5OLnxKY53H",
        "outputId": "a2af2a99-a17a-4a9e-9754-952ef20a71e1"
      },
      "execution_count": 60,
      "outputs": [
        {
          "output_type": "display_data",
          "data": {
            "text/plain": [
              "<Figure size 576x360 with 1 Axes>"
            ],
            "image/png": "[encoded data removed]"
          },
          "metadata": {
            "needs_background": "light"
          }
        }
      ]
    },
    {
      "cell_type": "code",
      "source": [
        "grouped_RMSE2"
      ],
      "metadata": {
        "colab": {
          "base_uri": "https://localhost:8080/"
        },
        "id": "lPc8sXji1iiP",
        "outputId": "6108c724-d04b-4c7c-e315-2c87bdce6594"
      },
      "execution_count": 57,
      "outputs": [
        {
          "output_type": "execute_result",
          "data": {
            "text/plain": [
              "array([ 6.58842403,  3.01422964,  6.72776365,  4.59139947,  3.87778034,\n",
              "        5.79555157,  2.42634251,  6.81861603,  4.2446349 ,  2.61362572,\n",
              "        3.96089478,  3.5143904 ,  3.87637925,  2.19327521,  8.52279324,\n",
              "        5.37363816,  3.95686722,  4.4102426 ,  4.1624051 , 15.53780324,\n",
              "        7.31078395,  7.28688928,  6.2725576 ,  7.30729595,  8.39731409,\n",
              "       12.55466792, 10.31823405,  4.58171403,  7.79730975, 12.51765098,\n",
              "       19.12683248, 18.30857365, 12.63158108, 19.2926661 , 15.45133731,\n",
              "       17.81257643, 14.79356424, 16.67573968, 11.19117662, 21.06436625,\n",
              "       20.31029459])"
            ]
          },
          "metadata": {},
          "execution_count": 57
        }
      ]
    },
    {
      "cell_type": "code",
      "source": [],
      "metadata": {
        "id": "2i2skBGI1h5O"
      },
      "execution_count": null,
      "outputs": []
    },
    {
      "cell_type": "code",
      "source": [
        "size=5\n",
        "moving_RMSE2 = moving_window_average(grouped_RMSE2,size)\n",
        "x=moving_window_average(np.concatenate([np.arange(1,21,1),np.arange(22,31,2),np.arange(35,71,5),np.arange(80,151,10)]),size)\n",
        "plt.figure(num=1,figsize=(8, 5))\n",
        "plt.plot(x,moving_RMSE2, '-o')\n",
        "plt.xlabel(\"Number of matches\")\n",
        "plt.ylabel(\"RMSE\")\n",
        "plt.title(\"Grouped RMSE by number of matches (Smoothed)\")\n",
        "plt.grid()"
      ],
      "metadata": {
        "id": "jIL8shZ1EizG",
        "colab": {
          "base_uri": "https://localhost:8080/",
          "height": 350
        },
        "outputId": "f201fe8c-258f-4356-e15d-8f33c67c87b0"
      },
      "execution_count": 59,
      "outputs": [
        {
          "output_type": "display_data",
          "data": {
            "text/plain": [
              "<Figure size 576x360 with 1 Axes>"
            ],
            "image/png": "[encoded data removed]"
          },
          "metadata": {
            "needs_background": "light"
          }
        }
      ]
    },
    {
      "cell_type": "code",
      "source": [
        "grouped_MSE2 = local_MSE(ygo_test2,ygo_pred2)\n"
      ],
      "metadata": {
        "id": "iV2G5cb7EU8b"
      },
      "execution_count": null,
      "outputs": []
    },
    {
      "cell_type": "code",
      "source": [
        "x"
      ],
      "metadata": {
        "colab": {
          "base_uri": "https://localhost:8080/"
        },
        "id": "yjAKrJdbafUQ",
        "outputId": "0df35fce-5fcf-44f3-c470-22cb3b4d8d4c"
      },
      "execution_count": null,
      "outputs": [
        {
          "output_type": "execute_result",
          "data": {
            "text/plain": [
              "array([  1,   2,   3,   4,   5,   6,   7,   8,   9,  10,  11,  12,  13,\n",
              "        14,  15,  16,  17,  18,  19,  20,  22,  24,  26,  28,  30,  35,\n",
              "        40,  45,  50,  55,  60,  65,  70,  80,  90, 100, 110, 120, 130,\n",
              "       140, 150])"
            ]
          },
          "metadata": {},
          "execution_count": 138
        }
      ]
    },
    {
      "cell_type": "code",
      "source": [
        "grouped_RMSE2"
      ],
      "metadata": {
        "colab": {
          "base_uri": "https://localhost:8080/"
        },
        "id": "fS5-f91bahwJ",
        "outputId": "b9163365-7af7-4eea-d8a4-8f19eeec4f58"
      },
      "execution_count": null,
      "outputs": [
        {
          "output_type": "execute_result",
          "data": {
            "text/plain": [
              "array([ 3.76972834,  2.03090594,  1.5809644 ,  1.43411616,  1.86191578,\n",
              "        5.50467838,  2.8864278 ,  2.74408643,  2.90260312,  3.53562689,\n",
              "        2.09061265,  3.45638926,  2.72506524,  3.40873805,  6.41290475,\n",
              "        5.67283491,  3.93855207,  5.0401781 ,  4.23991994,  4.69161252,\n",
              "        6.22223296,  7.65238264,  8.14863949,  5.62142002,  6.00315592,\n",
              "       11.6786614 , 14.17720176, 20.38155313, 14.57188853, 12.55333572,\n",
              "        9.21368513, 25.05758074, 14.52778444, 11.34609088, 14.09670111,\n",
              "       22.75037728, 26.32386097, 18.87766166, 10.26956093, 26.53863823,\n",
              "       20.35788587])"
            ]
          },
          "metadata": {},
          "execution_count": 139
        }
      ]
    },
    {
      "cell_type": "code",
      "source": [
        "grouped_MAE2 = local_MAE(ygo_test2,ygo_pred2)\n",
        "x=np.concatenate([np.arange(1,21,1),np.arange(22,31,2),np.arange(35,71,5),np.arange(80,151,10)])\n",
        "plt.figure(num=1,figsize=(10, 5))\n",
        "plt.plot(x,grouped_MAE2, '-o')\n",
        "plt.xlabel(\"Number of matches\")\n",
        "plt.ylabel(\"MAE\")\n",
        "plt.title(\"Grouped MAE by number of matches\")"
      ],
      "metadata": {
        "colab": {
          "base_uri": "https://localhost:8080/",
          "height": 367
        },
        "id": "D7fZacEebOzw",
        "outputId": "1af02093-22ed-4c56-8212-10553b0d0b26"
      },
      "execution_count": null,
      "outputs": [
        {
          "output_type": "execute_result",
          "data": {
            "text/plain": [
              "Text(0.5, 1.0, 'Grouped MAE by number of matches')"
            ]
          },
          "metadata": {},
          "execution_count": 34
        },
        {
          "output_type": "display_data",
          "data": {
            "text/plain": [
              "<Figure size 720x360 with 1 Axes>"
            ],
            "image/png": "[encoded data removed]"
          },
          "metadata": {
            "needs_background": "light"
          }
        }
      ]
    },
    {
      "cell_type": "code",
      "source": [
        "mov_test,mov_pred  = moving_window(y_test, result, 20)"
      ],
      "metadata": {
        "id": "yTHzwNbq0hH9"
      },
      "execution_count": null,
      "outputs": []
    },
    {
      "cell_type": "code",
      "source": [
        "moving_MSE = local_MSE(mov_test,mov_pred)\n",
        "moving_RMSE = np.sqrt(moving_MSE)\n",
        "plt.figure(num=1,figsize=(10, 5))\n",
        "plt.plot(moving_RMSE)\n",
        "plt.title(\"Moving Error RMSE\")"
      ],
      "metadata": {
        "colab": {
          "base_uri": "https://localhost:8080/",
          "height": 353
        },
        "id": "GixdqUeSMdfw",
        "outputId": "d461aa36-89b1-4abe-f744-eed462ae31b1"
      },
      "execution_count": null,
      "outputs": [
        {
          "output_type": "execute_result",
          "data": {
            "text/plain": [
              "Text(0.5, 1.0, 'Moving Error RMSE')"
            ]
          },
          "metadata": {},
          "execution_count": 122
        },
        {
          "output_type": "display_data",
          "data": {
            "text/plain": [
              "<Figure size 720x360 with 1 Axes>"
            ],
            "image/png": "[encoded data removed]"
          },
          "metadata": {
            "needs_background": "light"
          }
        }
      ]
    },
    {
      "cell_type": "code",
      "source": [
        "moving_MAE = local_MAE(mov_test,mov_pred)\n",
        "plt.figure(num=1,figsize=(10, 5))\n",
        "plt.plot(moving_MAE)\n",
        "plt.title(\"Moving Error MAE\")"
      ],
      "metadata": {
        "colab": {
          "base_uri": "https://localhost:8080/",
          "height": 353
        },
        "id": "izGiLCBmXmF4",
        "outputId": "ec332513-a939-4ad5-ea7f-a06255f6d4ef"
      },
      "execution_count": null,
      "outputs": [
        {
          "output_type": "execute_result",
          "data": {
            "text/plain": [
              "Text(0.5, 1.0, 'Moving Error MAE')"
            ]
          },
          "metadata": {},
          "execution_count": 143
        },
        {
          "output_type": "display_data",
          "data": {
            "text/plain": [
              "<Figure size 720x360 with 1 Axes>"
            ],
            "image/png": "[encoded data removed]"
          },
          "metadata": {
            "needs_background": "light"
          }
        }
      ]
    },
    {
      "cell_type": "code",
      "source": [
        "idx_sort1 = np.argsort(y_test)\n",
        "y_test_sorted = y_test[idx_sort1]\n",
        "y_pred_sorted = result[idx_sort1]\n",
        "\n",
        "\n",
        "plt.figure(num=1,figsize=(10, 5))\n",
        "plt.plot(y_test_sorted)\n",
        "plt.plot(mov_test)\n",
        "plt.title(\"Real\")\n",
        "\n",
        "plt.figure(num=2,figsize=(10, 5))\n",
        "plt.plot(y_pred_sorted)\n",
        "plt.plot(mov_pred)\n",
        "plt.title(\"Predicted\")"
      ],
      "metadata": {
        "id": "UzuKXAAnz7_N"
      },
      "execution_count": null,
      "outputs": []
    },
    {
      "cell_type": "markdown",
      "source": [
        "## Other things (not organized)"
      ],
      "metadata": {
        "id": "VHNF3zmCt5vr"
      }
    },
    {
      "cell_type": "code",
      "source": [
        "!unzip mov_largo_vertical.zip"
      ],
      "metadata": {
        "id": "L01vGA5Ucua7"
      },
      "execution_count": null,
      "outputs": []
    },
    {
      "cell_type": "code",
      "source": [
        "\n",
        "#raw_audio = []\n",
        "#ffts_mag = []\n",
        "x_eval = []\n",
        "y_eval = []\n",
        "\n",
        "BASE_PATH_LARGE='mov_largo'\n",
        "files = os.listdir(BASE_PATH_LARGE)\n",
        "for f in files:\n",
        "  with warnings.catch_warnings():\n",
        "    warnings.simplefilter(\"ignore\")\n",
        "    audio, _ = librosa.load(os.path.join(BASE_PATH_LARGE, f),sr=sr)\n",
        "  #raw_audio.append(audio)\n",
        "  name = f.split(\".\")[0]\n",
        "  y_eval.append(int(name.split(\"-\")[1]))\n",
        "  #X = np.fft.fft(audio)\n",
        "  #ffts_mag.append(np.absolute(X[:len_fft]))\n",
        "  mfccs = librosa.feature.mfcc(y=audio, sr=sr, n_mfcc=40)\n",
        "  x_eval.append(np.mean(mfccs.T,axis=0))\n",
        "  "
      ],
      "metadata": {
        "id": "drS-e-s6dYIr"
      },
      "execution_count": null,
      "outputs": []
    },
    {
      "cell_type": "code",
      "source": [
        "x_eval = np.array(x_eval)\n",
        "y_eval = np.array (y_eval)\n",
        "loss, mae, mse = model_MFCC.evaluate(x_eval, y_eval)\n",
        "loss, mae, mse"
      ],
      "metadata": {
        "colab": {
          "base_uri": "https://localhost:8080/"
        },
        "id": "AK4klzXIfJhz",
        "outputId": "cfb6d5ad-0f41-4952-80c9-d3ed42355945"
      },
      "execution_count": null,
      "outputs": [
        {
          "output_type": "stream",
          "name": "stdout",
          "text": [
            "2/2 [==============================] - 0s 8ms/step - loss: 2532.2512 - mae: 41.9118 - mse: 2532.2512\n"
          ]
        },
        {
          "output_type": "execute_result",
          "data": {
            "text/plain": [
              "(2532.251220703125, 41.91179656982422, 2532.251220703125)"
            ]
          },
          "metadata": {},
          "execution_count": 157
        }
      ]
    },
    {
      "cell_type": "code",
      "source": [
        "!unzip caja_peq_refuegos.zip"
      ],
      "metadata": {
        "id": "05lLstzfwpgg"
      },
      "execution_count": null,
      "outputs": []
    },
    {
      "cell_type": "code",
      "source": [
        "#!rm -r 'caja_peq/.ipynb_checkpoints'"
      ],
      "metadata": {
        "id": "xNIGXUnWzJxO"
      },
      "execution_count": null,
      "outputs": []
    },
    {
      "cell_type": "code",
      "source": [
        "\n",
        "#raw_audio = []\n",
        "#ffts_mag = []\n",
        "x_eval = []\n",
        "y_eval = []\n",
        "\n",
        "\n",
        "BASE_PATH_PEQ='caja_peq'\n",
        "files = os.listdir(BASE_PATH_PEQ)\n",
        "for f in files:\n",
        "  with warnings.catch_warnings():\n",
        "    warnings.simplefilter(\"ignore\")\n",
        "    audio, _ = librosa.load(os.path.join(BASE_PATH_PEQ, f),sr=sr)\n",
        "  #raw_audio.append(audio)\n",
        "  name = f.split(\".\")[0]\n",
        "  y_eval.append(int(name.split(\"-\")[1]))\n",
        "  #X = np.fft.fft(audio)\n",
        "  #ffts_mag.append(np.absolute(X[:len_fft]))\n",
        "  mfccs = librosa.feature.mfcc(y=audio, sr=sr, n_mfcc=40)\n",
        "  x_eval.append(np.mean(mfccs.T,axis=0))\n",
        "\n"
      ],
      "metadata": {
        "id": "IYVKn0rBwpgg"
      },
      "execution_count": null,
      "outputs": []
    },
    {
      "cell_type": "code",
      "source": [
        "x_eval = np.array(x_eval)\n",
        "y_eval = np.array (y_eval)\n",
        "loss, mae, mse = model_MFCC.evaluate(x_eval, y_eval)\n",
        "loss, mae, mse"
      ],
      "metadata": {
        "colab": {
          "base_uri": "https://localhost:8080/"
        },
        "outputId": "90312c67-5be6-4024-b589-ef1d7456e819",
        "id": "MjXiw4sAwpgg"
      },
      "execution_count": null,
      "outputs": [
        {
          "output_type": "stream",
          "name": "stdout",
          "text": [
            "2/2 [==============================] - 0s 6ms/step - loss: 6513.0420 - mae: 74.6580 - mse: 6513.0420\n"
          ]
        },
        {
          "output_type": "execute_result",
          "data": {
            "text/plain": [
              "(6513.0419921875, 74.65796661376953, 6513.0419921875)"
            ]
          },
          "metadata": {},
          "execution_count": 234
        }
      ]
    },
    {
      "cell_type": "code",
      "source": [
        "len(x_eval)"
      ],
      "metadata": {
        "colab": {
          "base_uri": "https://localhost:8080/"
        },
        "id": "dtjKAKxmwo2O",
        "outputId": "36541a4d-43fd-4b3d-a15f-d9865176e7e1"
      },
      "execution_count": null,
      "outputs": [
        {
          "output_type": "execute_result",
          "data": {
            "text/plain": [
              "35"
            ]
          },
          "metadata": {},
          "execution_count": 235
        }
      ]
    },
    {
      "cell_type": "code",
      "source": [
        "X1 = np.array(df.FFT.tolist())\n",
        "y1 = np.array(df.Number_Matches.tolist())"
      ],
      "metadata": {
        "id": "CJOyYJkVb4sV"
      },
      "execution_count": null,
      "outputs": []
    },
    {
      "cell_type": "code",
      "source": [
        "np.shape(X1)"
      ],
      "metadata": {
        "colab": {
          "base_uri": "https://localhost:8080/"
        },
        "outputId": "7afed998-9832-4fe3-cf21-e3bb37e5854d",
        "id": "HWpXRPYbb4sb"
      },
      "execution_count": null,
      "outputs": [
        {
          "output_type": "execute_result",
          "data": {
            "text/plain": [
              "(1025, 85000)"
            ]
          },
          "metadata": {},
          "execution_count": 57
        }
      ]
    },
    {
      "cell_type": "code",
      "source": [
        "x1_train, x1_test, y1_train, y1_test = train_test_split(X1, y1, test_size=0.2)"
      ],
      "metadata": {
        "id": "BpE7CYDBb4sb"
      },
      "execution_count": null,
      "outputs": []
    },
    {
      "cell_type": "code",
      "source": [
        "def build_model_fft():\n",
        "  model = tf.keras.Sequential([\n",
        "                             tf.keras.layers.Dense(16, activation='relu', input_shape=[x1_train.shape[1]]),\n",
        "                             tf.keras.layers.Dense(32, activation='relu'),\n",
        "                             tf.keras.layers.Dropout((0.2)),\n",
        "                             tf.keras.layers.Dense(16, activation='relu'),\n",
        "                             tf.keras.layers.Dense(1)])\n",
        "\n",
        "\n",
        "  # Choose the preference optimizer.\n",
        "  optimizer = tf.keras.optimizers.Adam(learning_rate=0.001)\n",
        "  \n",
        "  #Select the loss function (MSE)\n",
        "  model.compile(loss='mse',\n",
        "                optimizer=optimizer,\n",
        "                metrics=['mae', 'mse'])\n",
        "  return model\n",
        "\n",
        "model_fft = build_model_fft();\n",
        "model_fft.summary()  "
      ],
      "metadata": {
        "colab": {
          "base_uri": "https://localhost:8080/"
        },
        "outputId": "44810dd3-77db-4e5d-b66e-40411082fecb",
        "id": "NpS4Yvu1b4sb"
      },
      "execution_count": null,
      "outputs": [
        {
          "output_type": "stream",
          "name": "stdout",
          "text": [
            "Model: \"sequential_13\"\n",
            "_________________________________________________________________\n",
            " Layer (type)                Output Shape              Param #   \n",
            "=================================================================\n",
            " dense_52 (Dense)            (None, 16)                1360016   \n",
            "                                                                 \n",
            " dense_53 (Dense)            (None, 32)                544       \n",
            "                                                                 \n",
            " dropout_13 (Dropout)        (None, 32)                0         \n",
            "                                                                 \n",
            " dense_54 (Dense)            (None, 16)                528       \n",
            "                                                                 \n",
            " dense_55 (Dense)            (None, 1)                 17        \n",
            "                                                                 \n",
            "=================================================================\n",
            "Total params: 1,361,105\n",
            "Trainable params: 1,361,105\n",
            "Non-trainable params: 0\n",
            "_________________________________________________________________\n"
          ]
        }
      ]
    },
    {
      "cell_type": "code",
      "source": [
        "from keras.callbacks import ModelCheckpoint \n",
        "from datetime import datetime \n",
        "num_epochs = 100\n",
        "num_batch_size = 32\n",
        "history1 = model_fft.fit(x1_train, y1_train, batch_size=num_batch_size, epochs=num_epochs, validation_data=(x1_test, y1_test), verbose=1)"
      ],
      "metadata": {
        "colab": {
          "base_uri": "https://localhost:8080/"
        },
        "outputId": "0d8d8e6d-fe3b-4328-c0f5-6a7eb10ee280",
        "id": "8sSPdxRpb4sb"
      },
      "execution_count": null,
      "outputs": [
        {
          "output_type": "stream",
          "name": "stdout",
          "text": [
            "Epoch 1/100\n",
            "26/26 [==============================] - 2s 32ms/step - loss: 202384.8906 - mae: 257.8144 - mse: 202384.8906 - val_loss: 3349.3711 - val_mae: 39.7584 - val_mse: 3349.3711\n",
            "Epoch 2/100\n",
            "26/26 [==============================] - 1s 23ms/step - loss: 3406.7529 - mae: 41.2118 - mse: 3406.7529 - val_loss: 3341.9585 - val_mae: 39.6651 - val_mse: 3341.9585\n",
            "Epoch 3/100\n",
            "26/26 [==============================] - 1s 24ms/step - loss: 3397.2759 - mae: 41.0979 - mse: 3397.2759 - val_loss: 3331.2390 - val_mae: 39.5297 - val_mse: 3331.2390\n",
            "Epoch 4/100\n",
            "26/26 [==============================] - 1s 24ms/step - loss: 3384.7659 - mae: 40.9441 - mse: 3384.7659 - val_loss: 3318.0835 - val_mae: 39.3630 - val_mse: 3318.0835\n",
            "Epoch 5/100\n",
            "26/26 [==============================] - 1s 24ms/step - loss: 3370.5896 - mae: 40.7653 - mse: 3370.5896 - val_loss: 3302.5647 - val_mae: 39.1654 - val_mse: 3302.5647\n",
            "Epoch 6/100\n",
            "26/26 [==============================] - 1s 24ms/step - loss: 3351.6150 - mae: 40.5406 - mse: 3351.6150 - val_loss: 3283.9390 - val_mae: 38.9268 - val_mse: 3283.9390\n",
            "Epoch 7/100\n",
            "26/26 [==============================] - 1s 24ms/step - loss: 3331.2329 - mae: 40.2880 - mse: 3331.2329 - val_loss: 3261.1338 - val_mae: 38.6400 - val_mse: 3261.1338\n",
            "Epoch 8/100\n",
            "26/26 [==============================] - 1s 23ms/step - loss: 3305.4971 - mae: 39.9844 - mse: 3305.4971 - val_loss: 3234.7039 - val_mae: 38.3132 - val_mse: 3234.7039\n",
            "Epoch 9/100\n",
            "26/26 [==============================] - 1s 23ms/step - loss: 3274.8137 - mae: 39.6152 - mse: 3274.8137 - val_loss: 3203.5759 - val_mae: 37.9245 - val_mse: 3203.5759\n",
            "Epoch 10/100\n",
            "26/26 [==============================] - 1s 23ms/step - loss: 3240.2644 - mae: 39.2198 - mse: 3240.2644 - val_loss: 3168.9243 - val_mae: 37.5078 - val_mse: 3168.9243\n",
            "Epoch 11/100\n",
            "26/26 [==============================] - 1s 23ms/step - loss: 3203.5786 - mae: 38.7838 - mse: 3203.5786 - val_loss: 3129.6541 - val_mae: 37.0361 - val_mse: 3129.6541\n",
            "Epoch 12/100\n",
            "26/26 [==============================] - 1s 23ms/step - loss: 3157.9268 - mae: 38.2726 - mse: 3157.9268 - val_loss: 3086.0396 - val_mae: 36.5277 - val_mse: 3086.0396\n",
            "Epoch 13/100\n",
            "26/26 [==============================] - 1s 24ms/step - loss: 3116.6326 - mae: 37.7711 - mse: 3116.6326 - val_loss: 3037.9827 - val_mae: 35.9683 - val_mse: 3037.9827\n",
            "Epoch 14/100\n",
            "26/26 [==============================] - 1s 23ms/step - loss: 3057.7368 - mae: 37.1521 - mse: 3057.7368 - val_loss: 2987.3347 - val_mae: 35.3834 - val_mse: 2987.3347\n",
            "Epoch 15/100\n",
            "26/26 [==============================] - 1s 24ms/step - loss: 3003.5381 - mae: 36.5765 - mse: 3003.5381 - val_loss: 2930.3298 - val_mae: 34.7579 - val_mse: 2930.3298\n",
            "Epoch 16/100\n",
            "26/26 [==============================] - 1s 25ms/step - loss: 2948.4409 - mae: 35.9675 - mse: 2948.4409 - val_loss: 2871.5354 - val_mae: 34.1225 - val_mse: 2871.5354\n",
            "Epoch 17/100\n",
            "26/26 [==============================] - 1s 24ms/step - loss: 2882.7000 - mae: 35.3637 - mse: 2882.7000 - val_loss: 2808.8660 - val_mae: 33.4670 - val_mse: 2808.8660\n",
            "Epoch 18/100\n",
            "26/26 [==============================] - 1s 23ms/step - loss: 2822.3208 - mae: 34.7640 - mse: 2822.3208 - val_loss: 2743.7207 - val_mae: 32.8398 - val_mse: 2743.7207\n",
            "Epoch 19/100\n",
            "26/26 [==============================] - 1s 23ms/step - loss: 2756.2012 - mae: 34.1037 - mse: 2756.2012 - val_loss: 2678.4783 - val_mae: 32.2573 - val_mse: 2678.4783\n",
            "Epoch 20/100\n",
            "26/26 [==============================] - 1s 23ms/step - loss: 2700.9768 - mae: 33.6397 - mse: 2700.9768 - val_loss: 2612.2043 - val_mae: 31.6981 - val_mse: 2612.2043\n",
            "Epoch 21/100\n",
            "26/26 [==============================] - 1s 23ms/step - loss: 2620.0278 - mae: 33.0579 - mse: 2620.0278 - val_loss: 2545.3459 - val_mae: 31.1752 - val_mse: 2545.3459\n",
            "Epoch 22/100\n",
            "26/26 [==============================] - 1s 23ms/step - loss: 2544.5574 - mae: 32.5076 - mse: 2544.5574 - val_loss: 2473.2627 - val_mae: 30.6650 - val_mse: 2473.2627\n",
            "Epoch 23/100\n",
            "26/26 [==============================] - 1s 24ms/step - loss: 2465.1433 - mae: 31.9443 - mse: 2465.1433 - val_loss: 2405.5908 - val_mae: 30.2186 - val_mse: 2405.5908\n",
            "Epoch 24/100\n",
            "26/26 [==============================] - 1s 24ms/step - loss: 2377.5000 - mae: 31.3473 - mse: 2377.5000 - val_loss: 2338.1077 - val_mae: 29.9036 - val_mse: 2338.1077\n",
            "Epoch 25/100\n",
            "26/26 [==============================] - 1s 24ms/step - loss: 2325.7268 - mae: 31.2475 - mse: 2325.7268 - val_loss: 2271.6865 - val_mae: 29.6942 - val_mse: 2271.6865\n",
            "Epoch 26/100\n",
            "26/26 [==============================] - 1s 25ms/step - loss: 2243.6699 - mae: 30.8776 - mse: 2243.6699 - val_loss: 2206.4065 - val_mae: 29.6049 - val_mse: 2206.4065\n",
            "Epoch 27/100\n",
            "26/26 [==============================] - 1s 24ms/step - loss: 2191.0295 - mae: 30.6216 - mse: 2191.0295 - val_loss: 2148.5933 - val_mae: 29.5896 - val_mse: 2148.5933\n",
            "Epoch 28/100\n",
            "26/26 [==============================] - 1s 23ms/step - loss: 2131.8328 - mae: 30.6901 - mse: 2131.8328 - val_loss: 2094.5198 - val_mae: 29.6107 - val_mse: 2094.5198\n",
            "Epoch 29/100\n",
            "26/26 [==============================] - 1s 23ms/step - loss: 2058.5923 - mae: 30.6401 - mse: 2058.5923 - val_loss: 2042.7986 - val_mae: 29.6922 - val_mse: 2042.7986\n",
            "Epoch 30/100\n",
            "26/26 [==============================] - 1s 24ms/step - loss: 2033.4601 - mae: 30.6642 - mse: 2033.4601 - val_loss: 1997.7321 - val_mae: 29.8201 - val_mse: 1997.7321\n",
            "Epoch 31/100\n",
            "26/26 [==============================] - 1s 25ms/step - loss: 1998.0482 - mae: 30.8095 - mse: 1998.0482 - val_loss: 1958.4924 - val_mae: 29.9857 - val_mse: 1958.4924\n",
            "Epoch 32/100\n",
            "26/26 [==============================] - 1s 23ms/step - loss: 1954.1699 - mae: 30.9066 - mse: 1954.1699 - val_loss: 1923.1820 - val_mae: 30.2025 - val_mse: 1923.1820\n",
            "Epoch 33/100\n",
            "26/26 [==============================] - 1s 23ms/step - loss: 1926.2256 - mae: 31.0636 - mse: 1926.2256 - val_loss: 1891.1797 - val_mae: 30.4841 - val_mse: 1891.1797\n",
            "Epoch 34/100\n",
            "26/26 [==============================] - 1s 24ms/step - loss: 1875.8368 - mae: 31.2125 - mse: 1875.8368 - val_loss: 1866.9517 - val_mae: 30.7714 - val_mse: 1866.9517\n",
            "Epoch 35/100\n",
            "26/26 [==============================] - 1s 24ms/step - loss: 1847.8497 - mae: 31.2826 - mse: 1847.8497 - val_loss: 1845.2550 - val_mae: 31.0805 - val_mse: 1845.2550\n",
            "Epoch 36/100\n",
            "26/26 [==============================] - 1s 24ms/step - loss: 1892.5188 - mae: 32.2118 - mse: 1892.5188 - val_loss: 1828.7017 - val_mae: 31.3497 - val_mse: 1828.7017\n",
            "Epoch 37/100\n",
            "26/26 [==============================] - 1s 25ms/step - loss: 1847.4424 - mae: 32.2398 - mse: 1847.4424 - val_loss: 1814.0626 - val_mae: 31.6207 - val_mse: 1814.0626\n",
            "Epoch 38/100\n",
            "26/26 [==============================] - 1s 23ms/step - loss: 1835.3542 - mae: 32.0877 - mse: 1835.3542 - val_loss: 1804.5129 - val_mae: 31.8220 - val_mse: 1804.5129\n",
            "Epoch 39/100\n",
            "26/26 [==============================] - 1s 24ms/step - loss: 1828.3080 - mae: 32.5120 - mse: 1828.3080 - val_loss: 1795.4976 - val_mae: 32.0385 - val_mse: 1795.4976\n",
            "Epoch 40/100\n",
            "26/26 [==============================] - 1s 23ms/step - loss: 1851.9634 - mae: 32.8003 - mse: 1851.9634 - val_loss: 1789.5896 - val_mae: 32.2128 - val_mse: 1789.5896\n",
            "Epoch 41/100\n",
            "26/26 [==============================] - 1s 24ms/step - loss: 1841.4681 - mae: 33.0471 - mse: 1841.4681 - val_loss: 1783.7839 - val_mae: 32.4369 - val_mse: 1783.7839\n",
            "Epoch 42/100\n",
            "26/26 [==============================] - 1s 24ms/step - loss: 1785.1986 - mae: 32.8680 - mse: 1785.1986 - val_loss: 1780.5255 - val_mae: 32.5820 - val_mse: 1780.5255\n",
            "Epoch 43/100\n",
            "26/26 [==============================] - 1s 23ms/step - loss: 1788.0133 - mae: 33.0367 - mse: 1788.0133 - val_loss: 1777.4215 - val_mae: 32.7402 - val_mse: 1777.4215\n",
            "Epoch 44/100\n",
            "26/26 [==============================] - 1s 23ms/step - loss: 1829.2155 - mae: 33.1709 - mse: 1829.2155 - val_loss: 1775.1011 - val_mae: 32.8780 - val_mse: 1775.1011\n",
            "Epoch 45/100\n",
            "26/26 [==============================] - 1s 23ms/step - loss: 1778.1750 - mae: 32.8250 - mse: 1778.1750 - val_loss: 1773.1992 - val_mae: 33.0108 - val_mse: 1773.1992\n",
            "Epoch 46/100\n",
            "26/26 [==============================] - 1s 24ms/step - loss: 1774.5624 - mae: 33.3784 - mse: 1774.5624 - val_loss: 1771.7100 - val_mae: 33.1361 - val_mse: 1771.7100\n",
            "Epoch 47/100\n",
            "26/26 [==============================] - 1s 23ms/step - loss: 1764.7085 - mae: 33.3135 - mse: 1764.7085 - val_loss: 1770.8595 - val_mae: 33.2218 - val_mse: 1770.8595\n",
            "Epoch 48/100\n",
            "26/26 [==============================] - 1s 23ms/step - loss: 1806.0299 - mae: 33.6807 - mse: 1806.0299 - val_loss: 1770.2633 - val_mae: 33.2923 - val_mse: 1770.2633\n",
            "Epoch 49/100\n",
            "26/26 [==============================] - 1s 24ms/step - loss: 1752.6320 - mae: 32.9834 - mse: 1752.6320 - val_loss: 1769.6932 - val_mae: 33.3733 - val_mse: 1769.6932\n",
            "Epoch 50/100\n",
            "26/26 [==============================] - 1s 24ms/step - loss: 1827.8590 - mae: 33.8389 - mse: 1827.8590 - val_loss: 1769.5685 - val_mae: 33.3937 - val_mse: 1769.5685\n",
            "Epoch 51/100\n",
            "26/26 [==============================] - 1s 24ms/step - loss: 1746.1000 - mae: 33.2324 - mse: 1746.1000 - val_loss: 1769.1542 - val_mae: 33.4743 - val_mse: 1769.1542\n",
            "Epoch 52/100\n",
            "26/26 [==============================] - 1s 24ms/step - loss: 1773.8585 - mae: 33.7829 - mse: 1773.8585 - val_loss: 1769.0299 - val_mae: 33.5046 - val_mse: 1769.0299\n",
            "Epoch 53/100\n",
            "26/26 [==============================] - 1s 23ms/step - loss: 1769.3965 - mae: 33.4615 - mse: 1769.3965 - val_loss: 1768.8850 - val_mae: 33.5468 - val_mse: 1768.8850\n",
            "Epoch 54/100\n",
            "26/26 [==============================] - 1s 25ms/step - loss: 1777.3204 - mae: 33.8214 - mse: 1777.3204 - val_loss: 1768.8259 - val_mae: 33.5677 - val_mse: 1768.8259\n",
            "Epoch 55/100\n",
            "26/26 [==============================] - 1s 23ms/step - loss: 1817.4181 - mae: 33.6848 - mse: 1817.4181 - val_loss: 1768.8712 - val_mae: 33.5514 - val_mse: 1768.8712\n",
            "Epoch 56/100\n",
            "26/26 [==============================] - 1s 23ms/step - loss: 1798.6689 - mae: 33.8072 - mse: 1798.6689 - val_loss: 1768.8966 - val_mae: 33.5430 - val_mse: 1768.8966\n",
            "Epoch 57/100\n",
            "26/26 [==============================] - 1s 24ms/step - loss: 1782.5804 - mae: 33.6791 - mse: 1782.5804 - val_loss: 1769.2794 - val_mae: 33.4473 - val_mse: 1769.2793\n",
            "Epoch 58/100\n",
            "26/26 [==============================] - 1s 33ms/step - loss: 1776.5975 - mae: 33.6655 - mse: 1776.5975 - val_loss: 1768.9398 - val_mae: 33.5297 - val_mse: 1768.9398\n",
            "Epoch 59/100\n",
            "26/26 [==============================] - 1s 32ms/step - loss: 1761.3418 - mae: 33.3546 - mse: 1761.3418 - val_loss: 1768.8962 - val_mae: 33.5432 - val_mse: 1768.8962\n",
            "Epoch 60/100\n",
            "26/26 [==============================] - 1s 23ms/step - loss: 1821.2020 - mae: 33.9010 - mse: 1821.2020 - val_loss: 1768.9264 - val_mae: 33.5338 - val_mse: 1768.9264\n",
            "Epoch 61/100\n",
            "26/26 [==============================] - 1s 24ms/step - loss: 1768.9457 - mae: 33.5354 - mse: 1768.9457 - val_loss: 1768.7574 - val_mae: 33.5966 - val_mse: 1768.7574\n",
            "Epoch 62/100\n",
            "26/26 [==============================] - 1s 24ms/step - loss: 1811.0087 - mae: 33.5251 - mse: 1811.0087 - val_loss: 1768.7844 - val_mae: 33.5845 - val_mse: 1768.7844\n",
            "Epoch 63/100\n",
            "26/26 [==============================] - 1s 24ms/step - loss: 1762.9584 - mae: 33.3944 - mse: 1762.9584 - val_loss: 1768.7361 - val_mae: 33.6072 - val_mse: 1768.7361\n",
            "Epoch 64/100\n",
            "26/26 [==============================] - 1s 23ms/step - loss: 1697.1471 - mae: 32.5718 - mse: 1697.1471 - val_loss: 1768.6410 - val_mae: 33.6966 - val_mse: 1768.6410\n",
            "Epoch 65/100\n",
            "26/26 [==============================] - 1s 23ms/step - loss: 1738.0479 - mae: 33.1227 - mse: 1738.0479 - val_loss: 1768.6569 - val_mae: 33.7517 - val_mse: 1768.6569\n",
            "Epoch 66/100\n",
            "26/26 [==============================] - 1s 23ms/step - loss: 1791.5209 - mae: 34.0280 - mse: 1791.5209 - val_loss: 1768.6423 - val_mae: 33.7260 - val_mse: 1768.6423\n",
            "Epoch 67/100\n",
            "26/26 [==============================] - 1s 24ms/step - loss: 1827.4069 - mae: 34.2232 - mse: 1827.4069 - val_loss: 1768.6427 - val_mae: 33.6913 - val_mse: 1768.6427\n",
            "Epoch 68/100\n",
            "26/26 [==============================] - 1s 23ms/step - loss: 1755.9376 - mae: 33.3230 - mse: 1755.9376 - val_loss: 1768.6512 - val_mae: 33.6733 - val_mse: 1768.6512\n",
            "Epoch 69/100\n",
            "26/26 [==============================] - 1s 23ms/step - loss: 1754.3812 - mae: 33.5084 - mse: 1754.3812 - val_loss: 1768.6423 - val_mae: 33.6918 - val_mse: 1768.6423\n",
            "Epoch 70/100\n",
            "26/26 [==============================] - 1s 23ms/step - loss: 1786.2181 - mae: 33.9425 - mse: 1786.2181 - val_loss: 1768.6399 - val_mae: 33.7031 - val_mse: 1768.6399\n",
            "Epoch 71/100\n",
            "26/26 [==============================] - 1s 23ms/step - loss: 1786.4883 - mae: 33.8278 - mse: 1786.4883 - val_loss: 1768.6818 - val_mae: 33.6417 - val_mse: 1768.6818\n",
            "Epoch 72/100\n",
            "26/26 [==============================] - 1s 22ms/step - loss: 1763.6632 - mae: 33.3758 - mse: 1763.6632 - val_loss: 1768.6410 - val_mae: 33.7204 - val_mse: 1768.6410\n",
            "Epoch 73/100\n",
            "26/26 [==============================] - 1s 23ms/step - loss: 1764.1025 - mae: 33.5599 - mse: 1764.1025 - val_loss: 1768.6440 - val_mae: 33.6869 - val_mse: 1768.6440\n",
            "Epoch 74/100\n",
            "26/26 [==============================] - 1s 31ms/step - loss: 1796.7733 - mae: 33.5976 - mse: 1796.7733 - val_loss: 1768.6938 - val_mae: 33.6326 - val_mse: 1768.6938\n",
            "Epoch 75/100\n",
            "26/26 [==============================] - 1s 36ms/step - loss: 1780.8984 - mae: 33.6367 - mse: 1780.8984 - val_loss: 1768.6956 - val_mae: 33.6312 - val_mse: 1768.6956\n",
            "Epoch 76/100\n",
            "26/26 [==============================] - 1s 35ms/step - loss: 1768.7247 - mae: 33.3962 - mse: 1768.7247 - val_loss: 1768.7100 - val_mae: 33.6221 - val_mse: 1768.7100\n",
            "Epoch 77/100\n",
            "26/26 [==============================] - 1s 35ms/step - loss: 1769.4380 - mae: 33.3726 - mse: 1769.4380 - val_loss: 1768.7168 - val_mae: 33.6180 - val_mse: 1768.7168\n",
            "Epoch 78/100\n",
            "26/26 [==============================] - 2s 65ms/step - loss: 1768.0215 - mae: 33.4309 - mse: 1768.0215 - val_loss: 1768.6589 - val_mae: 33.6633 - val_mse: 1768.6589\n",
            "Epoch 79/100\n",
            "26/26 [==============================] - 1s 43ms/step - loss: 1813.7802 - mae: 34.4440 - mse: 1813.7802 - val_loss: 1768.7006 - val_mae: 33.6281 - val_mse: 1768.7006\n",
            "Epoch 80/100\n",
            "26/26 [==============================] - 1s 36ms/step - loss: 1786.4662 - mae: 33.6570 - mse: 1786.4662 - val_loss: 1768.7756 - val_mae: 33.5882 - val_mse: 1768.7756\n",
            "Epoch 81/100\n",
            "26/26 [==============================] - 1s 34ms/step - loss: 1768.6698 - mae: 33.6728 - mse: 1768.6698 - val_loss: 1768.7906 - val_mae: 33.5816 - val_mse: 1768.7906\n",
            "Epoch 82/100\n",
            "26/26 [==============================] - 1s 24ms/step - loss: 1767.3352 - mae: 33.5446 - mse: 1767.3352 - val_loss: 1768.7455 - val_mae: 33.6023 - val_mse: 1768.7455\n",
            "Epoch 83/100\n",
            "26/26 [==============================] - 1s 38ms/step - loss: 1808.1506 - mae: 33.8757 - mse: 1808.1506 - val_loss: 1768.7588 - val_mae: 33.5959 - val_mse: 1768.7588\n",
            "Epoch 84/100\n",
            "26/26 [==============================] - 1s 51ms/step - loss: 1794.5786 - mae: 33.8119 - mse: 1794.5786 - val_loss: 1768.6929 - val_mae: 33.6334 - val_mse: 1768.6929\n",
            "Epoch 85/100\n",
            "26/26 [==============================] - 1s 35ms/step - loss: 1818.0760 - mae: 34.1663 - mse: 1818.0760 - val_loss: 1768.7340 - val_mae: 33.6084 - val_mse: 1768.7340\n",
            "Epoch 86/100\n",
            "26/26 [==============================] - 1s 24ms/step - loss: 1802.7164 - mae: 33.8828 - mse: 1802.7164 - val_loss: 1768.7428 - val_mae: 33.6037 - val_mse: 1768.7428\n",
            "Epoch 87/100\n",
            "26/26 [==============================] - 1s 24ms/step - loss: 1780.6985 - mae: 33.3176 - mse: 1780.6985 - val_loss: 1768.6888 - val_mae: 33.6361 - val_mse: 1768.6888\n",
            "Epoch 88/100\n",
            "26/26 [==============================] - 1s 24ms/step - loss: 1814.1899 - mae: 33.9246 - mse: 1814.1899 - val_loss: 1768.7010 - val_mae: 33.6278 - val_mse: 1768.7010\n",
            "Epoch 89/100\n",
            "26/26 [==============================] - 1s 24ms/step - loss: 1769.0840 - mae: 33.3332 - mse: 1769.0840 - val_loss: 1768.7413 - val_mae: 33.6046 - val_mse: 1768.7413\n",
            "Epoch 90/100\n",
            "26/26 [==============================] - 1s 23ms/step - loss: 1773.0590 - mae: 33.3979 - mse: 1773.0590 - val_loss: 1768.7642 - val_mae: 33.5934 - val_mse: 1768.7642\n",
            "Epoch 91/100\n",
            "26/26 [==============================] - 1s 24ms/step - loss: 1749.8218 - mae: 33.5881 - mse: 1749.8218 - val_loss: 1768.7421 - val_mae: 33.6040 - val_mse: 1768.7421\n",
            "Epoch 92/100\n",
            "26/26 [==============================] - 1s 24ms/step - loss: 1752.3530 - mae: 33.5144 - mse: 1752.3530 - val_loss: 1768.6851 - val_mae: 33.6393 - val_mse: 1768.6851\n",
            "Epoch 93/100\n",
            "26/26 [==============================] - 1s 24ms/step - loss: 1754.8418 - mae: 33.3716 - mse: 1754.8417 - val_loss: 1768.6427 - val_mae: 33.6905 - val_mse: 1768.6427\n",
            "Epoch 94/100\n",
            "26/26 [==============================] - 1s 24ms/step - loss: 1780.8365 - mae: 33.4707 - mse: 1780.8365 - val_loss: 1768.6812 - val_mae: 33.6423 - val_mse: 1768.6812\n",
            "Epoch 95/100\n",
            "26/26 [==============================] - 1s 23ms/step - loss: 1795.7783 - mae: 34.0492 - mse: 1795.7783 - val_loss: 1768.6544 - val_mae: 33.6691 - val_mse: 1768.6544\n",
            "Epoch 96/100\n",
            "26/26 [==============================] - 1s 23ms/step - loss: 1773.8824 - mae: 33.7680 - mse: 1773.8824 - val_loss: 1768.6969 - val_mae: 33.6306 - val_mse: 1768.6969\n",
            "Epoch 97/100\n",
            "26/26 [==============================] - 1s 23ms/step - loss: 1817.2269 - mae: 33.7248 - mse: 1817.2269 - val_loss: 1768.6729 - val_mae: 33.6492 - val_mse: 1768.6729\n",
            "Epoch 98/100\n",
            "26/26 [==============================] - 1s 23ms/step - loss: 1806.5005 - mae: 33.5901 - mse: 1806.5005 - val_loss: 1768.7499 - val_mae: 33.6002 - val_mse: 1768.7499\n",
            "Epoch 99/100\n",
            "26/26 [==============================] - 1s 24ms/step - loss: 1777.0087 - mae: 33.7028 - mse: 1777.0087 - val_loss: 1768.7854 - val_mae: 33.5840 - val_mse: 1768.7854\n",
            "Epoch 100/100\n",
            "26/26 [==============================] - 1s 23ms/step - loss: 1753.2715 - mae: 33.2592 - mse: 1753.2715 - val_loss: 1768.7635 - val_mae: 33.5938 - val_mse: 1768.7635\n"
          ]
        }
      ]
    },
    {
      "cell_type": "code",
      "source": [
        "plt.plot(history1.history['loss'], label='train loss');\n",
        "plt.plot(history1.history['val_loss'], label='evaluation loss');\n",
        "plt.legend()\n",
        "plt.show();\n",
        "\n",
        "plt.plot(history1.history['mse'], label='train mse');\n",
        "plt.plot(history1.history['val_mse'], label='evaluation_mse');\n",
        "plt.legend()\n",
        "plt.show()"
      ],
      "metadata": {
        "colab": {
          "base_uri": "https://localhost:8080/",
          "height": 513
        },
        "outputId": "0ca29635-3436-4c7d-baa3-bfe23e41262a",
        "id": "R9m-fvIkb4sc"
      },
      "execution_count": null,
      "outputs": [
        {
          "output_type": "display_data",
          "data": {
            "text/plain": [
              "<Figure size 432x288 with 1 Axes>"
            ],
            "image/png": "[encoded data removed]"
          },
          "metadata": {
            "needs_background": "light"
          }
        },
        {
          "output_type": "display_data",
          "data": {
            "text/plain": [
              "<Figure size 432x288 with 1 Axes>"
            ],
            "image/png": "[encoded data removed]"
          },
          "metadata": {
            "needs_background": "light"
          }
        }
      ]
    },
    {
      "cell_type": "code",
      "source": [
        "loss1, mae1, mse1 = model_fft.evaluate(x1_test, y1_test)\n",
        "loss1, mae1, mse1"
      ],
      "metadata": {
        "colab": {
          "base_uri": "https://localhost:8080/"
        },
        "outputId": "d498a9ef-36bb-4e11-def5-62475fe370e2",
        "id": "945xndrdb4sc"
      },
      "execution_count": null,
      "outputs": [
        {
          "output_type": "stream",
          "name": "stdout",
          "text": [
            "7/7 [==============================] - 0s 7ms/step - loss: 1768.7635 - mae: 33.5938 - mse: 1768.7635\n"
          ]
        },
        {
          "output_type": "execute_result",
          "data": {
            "text/plain": [
              "(1768.7635498046875, 33.593807220458984, 1768.7635498046875)"
            ]
          },
          "metadata": {},
          "execution_count": 103
        }
      ]
    },
    {
      "cell_type": "code",
      "source": [
        "result1 = model_fft.predict(np.reshape(x1_test[0],[1,85000]))\n",
        "int(result[0])"
      ],
      "metadata": {
        "colab": {
          "base_uri": "https://localhost:8080/"
        },
        "outputId": "fc234c59-db68-45fe-8482-0fb23fc89b10",
        "id": "4B26lIJN1dh8"
      },
      "execution_count": null,
      "outputs": [
        {
          "output_type": "stream",
          "name": "stdout",
          "text": [
            "1/1 [==============================] - 0s 294ms/step\n"
          ]
        },
        {
          "output_type": "execute_result",
          "data": {
            "text/plain": [
              "39"
            ]
          },
          "metadata": {},
          "execution_count": 110
        }
      ]
    },
    {
      "cell_type": "code",
      "source": [
        "result1 = model_fft.predict(x1_test[0:30])\n",
        "result1"
      ],
      "metadata": {
        "colab": {
          "base_uri": "https://localhost:8080/"
        },
        "outputId": "d277cede-c21d-4324-c3e5-9f2dbe16ea8a",
        "id": "YVDV6RbH1dh8"
      },
      "execution_count": null,
      "outputs": [
        {
          "output_type": "stream",
          "name": "stdout",
          "text": [
            "1/1 [==============================] - 0s 32ms/step\n"
          ]
        },
        {
          "output_type": "execute_result",
          "data": {
            "text/plain": [
              "array([[39.42881],\n",
              "       [39.42881],\n",
              "       [39.42881],\n",
              "       [39.42881],\n",
              "       [39.42881],\n",
              "       [39.42881],\n",
              "       [39.42881],\n",
              "       [39.42881],\n",
              "       [39.42881],\n",
              "       [39.42881],\n",
              "       [39.42881],\n",
              "       [39.42881],\n",
              "       [39.42881],\n",
              "       [39.42881],\n",
              "       [39.42881],\n",
              "       [39.42881],\n",
              "       [39.42881],\n",
              "       [39.42881],\n",
              "       [39.42881],\n",
              "       [39.42881],\n",
              "       [39.42881],\n",
              "       [39.42881],\n",
              "       [39.42881],\n",
              "       [39.42881],\n",
              "       [39.42881],\n",
              "       [39.42881],\n",
              "       [39.42881],\n",
              "       [39.42881],\n",
              "       [39.42881],\n",
              "       [39.42881]], dtype=float32)"
            ]
          },
          "metadata": {},
          "execution_count": 111
        }
      ]
    },
    {
      "cell_type": "code",
      "source": [
        "y1_test[:30]"
      ],
      "metadata": {
        "colab": {
          "base_uri": "https://localhost:8080/"
        },
        "outputId": "5c699b73-39b7-4f29-aca3-db6615489362",
        "id": "JEruQ3w01dh8"
      },
      "execution_count": null,
      "outputs": [
        {
          "output_type": "execute_result",
          "data": {
            "text/plain": [
              "array([ 17, 100,  17,  60,  10, 150,  11, 130,   2,   2,   6, 150,  22,\n",
              "        20,  45,   6,  15,  14,  15,  16,  70,  28,  14,  17,  28,  90,\n",
              "         7,  18, 100,  55])"
            ]
          },
          "metadata": {},
          "execution_count": 112
        }
      ]
    },
    {
      "cell_type": "code",
      "source": [],
      "metadata": {
        "id": "Cxlzy4yM152D"
      },
      "execution_count": null,
      "outputs": []
    },
    {
      "cell_type": "markdown",
      "source": [
        "## Others"
      ],
      "metadata": {
        "id": "8ue4YVWxq7oN"
      }
    },
    {
      "cell_type": "code",
      "source": [],
      "metadata": {
        "id": "zHdIc9dbq8q2"
      },
      "execution_count": null,
      "outputs": []
    },
    {
      "cell_type": "code",
      "source": [
        "!sudo apt update\n",
        "!sudo apt install libcairo2-dev ffmpeg \\\n",
        "    texlive texlive-latex-extra texlive-fonts-extra \\\n",
        "    texlive-latex-recommended texlive-science \\\n",
        "    tipa libpango1.0-dev\n",
        "!pip install manim\n",
        "!pip install IPython --upgrade"
      ],
      "metadata": {
        "id": "wdzbj9hOOsnb"
      },
      "execution_count": null,
      "outputs": []
    },
    {
      "cell_type": "code",
      "source": [
        "!pip install manim_ml"
      ],
      "metadata": {
        "colab": {
          "base_uri": "https://localhost:8080/"
        },
        "id": "BHaC-VQgPJJj",
        "outputId": "7fa3019d-414a-4576-872e-0c738b51797d"
      },
      "execution_count": null,
      "outputs": [
        {
          "output_type": "stream",
          "name": "stdout",
          "text": [
            "Looking in indexes: https://pypi.org/simple, https://us-python.pkg.dev/colab-wheels/public/simple/\n",
            "Collecting manim_ml\n",
            "  Downloading manim_ml-0.0.12-py3-none-any.whl (41 kB)\n",
            "\u001b[2K     \u001b[90m━━━━━━━━━━━━━━━━━━━━━━━━━━━━━━━━━━━━━━━━\u001b[0m \u001b[32m41.7/41.7 KB\u001b[0m \u001b[31m1.8 MB/s\u001b[0m eta \u001b[36m0:00:00\u001b[0m\n",
            "\u001b[?25hInstalling collected packages: manim_ml\n",
            "Successfully installed manim_ml-0.0.12\n"
          ]
        }
      ]
    },
    {
      "cell_type": "code",
      "source": [
        "!git clone https://github.com/helblazer811/ManimML.git\n"
      ],
      "metadata": {
        "colab": {
          "base_uri": "https://localhost:8080/"
        },
        "id": "lgr40qfzcVto",
        "outputId": "fcb02c73-889b-426b-b4f8-47f13f9f9105"
      },
      "execution_count": null,
      "outputs": [
        {
          "output_type": "stream",
          "name": "stdout",
          "text": [
            "Cloning into 'ManimML'...\n",
            "remote: Enumerating objects: 924, done.\u001b[K\n",
            "remote: Counting objects: 100% (923/923), done.\u001b[K\n",
            "remote: Compressing objects: 100% (397/397), done.\u001b[K\n",
            "remote: Total 924 (delta 530), reused 872 (delta 483), pack-reused 1\u001b[K\n",
            "Receiving objects: 100% (924/924), 222.76 MiB | 29.55 MiB/s, done.\n",
            "Resolving deltas: 100% (530/530), done.\n",
            "Checking out files: 100% (187/187), done.\n"
          ]
        }
      ]
    },
    {
      "cell_type": "code",
      "source": [
        "from manim import *\n",
        "from manim_ml.neural_network.layers import FeedForwardLayer\n",
        "from manim_ml.neural_network.neural_network import NeuralNetwork\n",
        "from manim_ml.neural_network.neural_network import EmbeddingLayer"
      ],
      "metadata": {
        "id": "uWvVqw2um4CX"
      },
      "execution_count": null,
      "outputs": []
    },
    {
      "cell_type": "code",
      "source": [
        "#@title Texto de título predeterminado\n",
        "%%manim -qm -v WARNING VariationalAutoencoderScene\n",
        "\n",
        "class VariationalAutoencoderScene(Scene):\n",
        "\n",
        "    def construct(self):\n",
        "        embedding_layer = EmbeddingLayer(dist_theme=\"ellipse\").scale(2)\n",
        "        \n",
        "        #image = Image.open('images/image.jpeg')\n",
        "        #numpy_image = np.asarray(image)\n",
        "        # Make nn\n",
        "        neural_network = NeuralNetwork([\n",
        "            #ImageLayer(numpy_image, height=1.4),\n",
        "            FeedForwardLayer(5),\n",
        "            FeedForwardLayer(3),\n",
        "            embedding_layer,\n",
        "            FeedForwardLayer(3),\n",
        "            FeedForwardLayer(5),\n",
        "            #ImageLayer(numpy_image, height=1.4),\n",
        "        ], layer_spacing=0.6)\n",
        "\n",
        "        neural_network.scale(1.5)\n",
        "\n",
        "        self.play(Create(neural_network))\n",
        "        self.play(neural_network.make_forward_pass_animation(run_time=15))\n",
        "\n",
        "class NeuralNetworkScene(Scene):\n",
        "    \"\"\"Test Scene for the Neural Network\"\"\"\n",
        "\n",
        "    def construct(self):\n",
        "        # Make the Layer object\n",
        "        layers = [FeedForwardLayer(3), FeedForwardLayer(5), FeedForwardLayer(3)]\n",
        "        nn = NeuralNetwork(layers)\n",
        "        nn.scale(2)\n",
        "        nn.move_to(ORIGIN)\n",
        "        # Make Animation\n",
        "        self.add(nn)\n",
        "        # self.play(Create(nn))\n",
        "        forward_propagation_animation = nn.make_forward_pass_animation(\n",
        "            run_time=5, passing_flash=True\n",
        "        )\n",
        "\n",
        "        self.play(forward_propagation_animation)\n"
      ],
      "metadata": {
        "id": "2p0SZe31cndi"
      },
      "execution_count": null,
      "outputs": []
    }
  ]
}